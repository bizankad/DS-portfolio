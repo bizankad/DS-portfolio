{
 "cells": [
  {
   "cell_type": "code",
   "execution_count": 1,
   "metadata": {},
   "outputs": [],
   "source": [
    "import pandas as pd\n",
    "import numpy as np\n",
    "import seaborn as sns\n",
    "import matplotlib.pyplot as plt"
   ]
  },
  {
   "cell_type": "code",
   "execution_count": 2,
   "metadata": {},
   "outputs": [],
   "source": [
    "import findspark\n",
    "findspark.init('/usr/local/Cellar/apache-spark/3.0.0/libexec')\n",
    "from pyspark.sql import SparkSession"
   ]
  },
  {
   "cell_type": "code",
   "execution_count": 3,
   "metadata": {},
   "outputs": [],
   "source": [
    "spark1 = SparkSession.builder \\\n",
    " .master(\"local\") \\\n",
    " .appName(\"recommendation-engine\") \\\n",
    " .config(\"spark.some.config.option\", \"some-value\") \\\n",
    " .getOrCreate()"
   ]
  },
  {
   "cell_type": "markdown",
   "metadata": {},
   "source": [
    "## Objective\n",
    "\n",
    "The goal is to develop a model that predicts the movies that a user might like based on collaborative filtering. We will be using ALS and Spark."
   ]
  },
  {
   "cell_type": "code",
   "execution_count": 4,
   "metadata": {},
   "outputs": [
    {
     "data": {
      "text/html": [
       "\n",
       "            <div>\n",
       "                <p><b>SparkSession - in-memory</b></p>\n",
       "                \n",
       "        <div>\n",
       "            <p><b>SparkContext</b></p>\n",
       "\n",
       "            <p><a href=\"http://mbp-de-brahim:4041\">Spark UI</a></p>\n",
       "\n",
       "            <dl>\n",
       "              <dt>Version</dt>\n",
       "                <dd><code>v3.0.0</code></dd>\n",
       "              <dt>Master</dt>\n",
       "                <dd><code>local</code></dd>\n",
       "              <dt>AppName</dt>\n",
       "                <dd><code>recommendation-engine</code></dd>\n",
       "            </dl>\n",
       "        </div>\n",
       "        \n",
       "            </div>\n",
       "        "
      ],
      "text/plain": [
       "<pyspark.sql.session.SparkSession at 0x1171aa350>"
      ]
     },
     "execution_count": 4,
     "metadata": {},
     "output_type": "execute_result"
    }
   ],
   "source": [
    "spark1"
   ]
  },
  {
   "cell_type": "markdown",
   "metadata": {},
   "source": [
    "## Load data "
   ]
  },
  {
   "cell_type": "code",
   "execution_count": 5,
   "metadata": {},
   "outputs": [],
   "source": [
    "movies = spark1.read.csv('movies.csv', header=True, inferSchema=True, sep=',')\n",
    "ratings = spark1.read.csv('ratings.csv', header=True, inferSchema=True, sep=',')"
   ]
  },
  {
   "cell_type": "markdown",
   "metadata": {},
   "source": [
    "Let's create two temporary views of the table `movies` and `ratings`on memory. This will enable us to run sql queries against these two tables."
   ]
  },
  {
   "cell_type": "code",
   "execution_count": 6,
   "metadata": {},
   "outputs": [],
   "source": [
    "movies.createOrReplaceTempView(\"MOVIES\")\n",
    "ratings.createOrReplaceTempView(\"RATINGS\")"
   ]
  },
  {
   "cell_type": "markdown",
   "metadata": {},
   "source": [
    "The dataset here is not really big, it will fit in RAM without any doubt. However let's suppose it is big therefore we will use Spark."
   ]
  },
  {
   "cell_type": "code",
   "execution_count": 7,
   "metadata": {},
   "outputs": [
    {
     "name": "stdout",
     "output_type": "stream",
     "text": [
      "Movies dataset is composed of 9742 rows and 3 columns\n",
      "\n",
      "Dataset schema\n",
      "root\n",
      " |-- movieId: integer (nullable = true)\n",
      " |-- title: string (nullable = true)\n",
      " |-- genres: string (nullable = true)\n",
      "\n"
     ]
    }
   ],
   "source": [
    "# get data shape\n",
    "print(f\"Movies dataset is composed of {movies.count()} rows and {len(movies.columns)} columns\")\n",
    "print('\\nDataset schema')\n",
    "movies.printSchema()"
   ]
  },
  {
   "cell_type": "code",
   "execution_count": 8,
   "metadata": {},
   "outputs": [
    {
     "name": "stdout",
     "output_type": "stream",
     "text": [
      "Ratings dataset is composed of 100836 rows and 4 columns\n",
      "\n",
      "Dataset schema\n",
      "root\n",
      " |-- userId: integer (nullable = true)\n",
      " |-- movieId: integer (nullable = true)\n",
      " |-- rating: double (nullable = true)\n",
      " |-- timestamp: integer (nullable = true)\n",
      "\n"
     ]
    }
   ],
   "source": [
    "print(f\"Ratings dataset is composed of {ratings.count()} rows and {len(ratings.columns)} columns\")\n",
    "print('\\nDataset schema')\n",
    "ratings.printSchema()"
   ]
  },
  {
   "cell_type": "markdown",
   "metadata": {},
   "source": [
    "Are there any duplicate movies? "
   ]
  },
  {
   "cell_type": "code",
   "execution_count": 9,
   "metadata": {},
   "outputs": [
    {
     "data": {
      "text/plain": [
       "True"
      ]
     },
     "execution_count": 9,
     "metadata": {},
     "output_type": "execute_result"
    }
   ],
   "source": [
    "movies.select(['movieId']).distinct().count() == movies.count()"
   ]
  },
  {
   "cell_type": "markdown",
   "metadata": {},
   "source": [
    "There're no duplicate id's, therefore all the movies in this table are unique."
   ]
  },
  {
   "cell_type": "markdown",
   "metadata": {},
   "source": [
    "`ratings` contains the ratings that each user gave to movies. **How many unique users have we got in our dataset?**"
   ]
  },
  {
   "cell_type": "code",
   "execution_count": 93,
   "metadata": {},
   "outputs": [
    {
     "data": {
      "text/plain": [
       "610"
      ]
     },
     "execution_count": 93,
     "metadata": {},
     "output_type": "execute_result"
    }
   ],
   "source": [
    "ratings.select(['userId']).distinct().count()"
   ]
  },
  {
   "cell_type": "markdown",
   "metadata": {},
   "source": [
    "We can also get the same result using SQL queries."
   ]
  },
  {
   "cell_type": "code",
   "execution_count": 11,
   "metadata": {},
   "outputs": [
    {
     "data": {
      "text/plain": [
       "610"
      ]
     },
     "execution_count": 11,
     "metadata": {},
     "output_type": "execute_result"
    }
   ],
   "source": [
    "n_users = spark1.sql('SELECT COUNT(DISTINCT userId) from RATINGS').collect()[0].asDict()['count(DISTINCT userId)']\n",
    "n_users"
   ]
  },
  {
   "cell_type": "markdown",
   "metadata": {},
   "source": [
    "How many movies are there in ratings table?"
   ]
  },
  {
   "cell_type": "code",
   "execution_count": 12,
   "metadata": {},
   "outputs": [
    {
     "data": {
      "text/plain": [
       "9724"
      ]
     },
     "execution_count": 12,
     "metadata": {},
     "output_type": "execute_result"
    }
   ],
   "source": [
    "n_movies = spark1.sql('SELECT COUNT(DISTINCT movieId) from RATINGS').collect()[0].asDict()['count(DISTINCT movieId)']\n",
    "n_movies"
   ]
  },
  {
   "cell_type": "markdown",
   "metadata": {},
   "source": [
    "Let's print some movies"
   ]
  },
  {
   "cell_type": "code",
   "execution_count": 20,
   "metadata": {},
   "outputs": [
    {
     "name": "stdout",
     "output_type": "stream",
     "text": [
      "+-------+--------------------+--------------------+\n",
      "|movieId|               title|              genres|\n",
      "+-------+--------------------+--------------------+\n",
      "|      1|    Toy Story (1995)|Adventure|Animati...|\n",
      "|      2|      Jumanji (1995)|Adventure|Childre...|\n",
      "|      3|Grumpier Old Men ...|      Comedy|Romance|\n",
      "+-------+--------------------+--------------------+\n",
      "only showing top 3 rows\n",
      "\n"
     ]
    }
   ],
   "source": [
    "movies.show(3)"
   ]
  },
  {
   "cell_type": "markdown",
   "metadata": {},
   "source": [
    "How many movies are there per `genre`?"
   ]
  },
  {
   "cell_type": "markdown",
   "metadata": {},
   "source": [
    "- toPandas() action collects all the records from all the workers, returns them to the driver, and then converts the results into a pandas DataFrame"
   ]
  },
  {
   "cell_type": "code",
   "execution_count": 45,
   "metadata": {},
   "outputs": [],
   "source": [
    "genres_count = movies.groupBy('genres').count().toPandas()"
   ]
  },
  {
   "cell_type": "code",
   "execution_count": 50,
   "metadata": {},
   "outputs": [
    {
     "name": "stdout",
     "output_type": "stream",
     "text": [
      "1.86ko\n"
     ]
    }
   ],
   "source": [
    "print(f\"{genres_count.size/1024:.2f}ko\")"
   ]
  },
  {
   "cell_type": "markdown",
   "metadata": {},
   "source": [
    "- it is easier to manipulate pandas dataframes for EDA purposes.\n",
    "- `genres_count` weights only 1.86Ko we can sefely collect it and load it to the Host PC RAM."
   ]
  },
  {
   "cell_type": "code",
   "execution_count": 69,
   "metadata": {},
   "outputs": [
    {
     "data": {
      "text/html": [
       "<div>\n",
       "<style scoped>\n",
       "    .dataframe tbody tr th:only-of-type {\n",
       "        vertical-align: middle;\n",
       "    }\n",
       "\n",
       "    .dataframe tbody tr th {\n",
       "        vertical-align: top;\n",
       "    }\n",
       "\n",
       "    .dataframe thead th {\n",
       "        text-align: right;\n",
       "    }\n",
       "</style>\n",
       "<table border=\"1\" class=\"dataframe\">\n",
       "  <thead>\n",
       "    <tr style=\"text-align: right;\">\n",
       "      <th></th>\n",
       "      <th>genres</th>\n",
       "      <th>count</th>\n",
       "    </tr>\n",
       "  </thead>\n",
       "  <tbody>\n",
       "    <tr>\n",
       "      <th>221</th>\n",
       "      <td>Animation|Horror|Mystery|Thriller</td>\n",
       "      <td>1</td>\n",
       "    </tr>\n",
       "    <tr>\n",
       "      <th>724</th>\n",
       "      <td>Drama|Sci-Fi</td>\n",
       "      <td>30</td>\n",
       "    </tr>\n",
       "    <tr>\n",
       "      <th>562</th>\n",
       "      <td>Adventure|Fantasy|Sci-Fi</td>\n",
       "      <td>3</td>\n",
       "    </tr>\n",
       "    <tr>\n",
       "      <th>321</th>\n",
       "      <td>Children|Comedy|Fantasy|Horror</td>\n",
       "      <td>2</td>\n",
       "    </tr>\n",
       "  </tbody>\n",
       "</table>\n",
       "</div>"
      ],
      "text/plain": [
       "                                genres  count\n",
       "221  Animation|Horror|Mystery|Thriller      1\n",
       "724                       Drama|Sci-Fi     30\n",
       "562           Adventure|Fantasy|Sci-Fi      3\n",
       "321     Children|Comedy|Fantasy|Horror      2"
      ]
     },
     "execution_count": 69,
     "metadata": {},
     "output_type": "execute_result"
    }
   ],
   "source": [
    "genres_count.sample(4)"
   ]
  },
  {
   "cell_type": "code",
   "execution_count": 67,
   "metadata": {},
   "outputs": [],
   "source": [
    "dict_genres = {}\n",
    "for row in genres_count.itertuples():\n",
    "    for genre in row.genres.split('|'):\n",
    "        dict_genres[genre] = row.count + dict_genres.get(genre, 0)"
   ]
  },
  {
   "cell_type": "code",
   "execution_count": 175,
   "metadata": {},
   "outputs": [
    {
     "data": {
      "image/png": "[encoded data removed]",
      "text/plain": [
       "<Figure size 1440x432 with 1 Axes>"
      ]
     },
     "metadata": {
      "needs_background": "light"
     },
     "output_type": "display_data"
    }
   ],
   "source": [
    "dict_genres_sorted = {k: v for k, v in sorted(dict_genres.items(), key=lambda item: item[1])}\n",
    "plt.figure(figsize=(20,6))\n",
    "sns.barplot(y=list(dict_genres_sorted.keys()), x=list(dict_genres_sorted.values()))\n",
    "plt.title('movie counts Vs genre')\n",
    "plt.show()"
   ]
  },
  {
   "cell_type": "markdown",
   "metadata": {},
   "source": [
    "## Sparsity"
   ]
  },
  {
   "cell_type": "code",
   "execution_count": 13,
   "metadata": {},
   "outputs": [
    {
     "data": {
      "text/plain": [
       "'98.30% of the interaction matrix is composed of zeros'"
      ]
     },
     "execution_count": 13,
     "metadata": {},
     "output_type": "execute_result"
    }
   ],
   "source": [
    "n_interactions = ratings.count()\n",
    "sparsity = 1 - (n_interactions/(n_users*n_movies))\n",
    "\n",
    "f\"{sparsity:.2%} of the interaction matrix is composed of zeros\""
   ]
  },
  {
   "cell_type": "markdown",
   "metadata": {},
   "source": [
    "Let's optimize sparsity by removing movies that have less than 4 interaction with users"
   ]
  },
  {
   "cell_type": "code",
   "execution_count": 14,
   "metadata": {},
   "outputs": [
    {
     "data": {
      "text/plain": [
       "'3650 movies having a minimum of 4'"
      ]
     },
     "execution_count": 14,
     "metadata": {},
     "output_type": "execute_result"
    }
   ],
   "source": [
    "thresh = 4\n",
    "query = f'''\n",
    "SELECT movieId, COUNT(userId) as cnt FROM RATINGS \n",
    "GROUP BY movieId \n",
    "HAVING cnt>{thresh}\n",
    "'''\n",
    "\n",
    "filtered_movies = spark1.sql(query).select(['movieId'])\n",
    "f\"{filtered_movies.count()} movies having a minimum of {thresh}\""
   ]
  },
  {
   "cell_type": "code",
   "execution_count": 15,
   "metadata": {},
   "outputs": [],
   "source": [
    "filtered_movies.createOrReplaceTempView('FILTERED_MOVIES')"
   ]
  },
  {
   "cell_type": "code",
   "execution_count": 16,
   "metadata": {
    "scrolled": true
   },
   "outputs": [],
   "source": [
    "query = f'''\n",
    "SELECT * FROM RATINGS\n",
    "WHERE movieId IN \n",
    "    (SELECT movieId\n",
    "     FROM FILTERED_MOVIES\n",
    "    )\n",
    "'''\n",
    "\n",
    "ratings_optimized = spark1.sql(query)"
   ]
  },
  {
   "cell_type": "code",
   "execution_count": 17,
   "metadata": {},
   "outputs": [
    {
     "data": {
      "text/plain": [
       "'95.95% of the interaction matrix is composed of zeros'"
      ]
     },
     "execution_count": 17,
     "metadata": {},
     "output_type": "execute_result"
    }
   ],
   "source": [
    "n_interactions = ratings_optimized.count()\n",
    "n_movies = ratings_optimized.select(['movieId']).distinct().count()\n",
    "\n",
    "sparsity = 1 - (n_interactions/(n_users*n_movies))\n",
    "\n",
    "f\"{sparsity:.2%} of the interaction matrix is composed of zeros\""
   ]
  },
  {
   "cell_type": "markdown",
   "metadata": {},
   "source": [
    "## Summary statistics"
   ]
  },
  {
   "cell_type": "code",
   "execution_count": 21,
   "metadata": {},
   "outputs": [],
   "source": [
    "from pyspark.sql.functions import min, max, avg"
   ]
  },
  {
   "cell_type": "code",
   "execution_count": 20,
   "metadata": {},
   "outputs": [
    {
     "name": "stdout",
     "output_type": "stream",
     "text": [
      "+-------+-----------------+-----+\n",
      "|movieId|       avg_rating|votes|\n",
      "+-------+-----------------+-----+\n",
      "|    356|4.164133738601824|  329|\n",
      "|    318|4.429022082018927|  317|\n",
      "|    296|4.197068403908795|  307|\n",
      "|    593|4.161290322580645|  279|\n",
      "|   2571|4.192446043165468|  278|\n",
      "|    260|4.231075697211155|  251|\n",
      "|    480|             3.75|  238|\n",
      "|    110|4.031645569620253|  237|\n",
      "|    589|3.970982142857143|  224|\n",
      "|    527|            4.225|  220|\n",
      "+-------+-----------------+-----+\n",
      "\n"
     ]
    }
   ],
   "source": [
    "query = f'''\n",
    "SELECT * FROM \n",
    "    (SELECT movieId, AVG(rating) as avg_rating, COUNT(*) as votes FROM RATINGS\n",
    "     GROUP BY movieId)\n",
    "\n",
    "ORDER BY votes DESC, avg_rating  DESC\n",
    "LIMIT 10\n",
    "'''\n",
    "\n",
    "top10_movies = spark1.sql(query)\n",
    "top10_movies.show()"
   ]
  },
  {
   "cell_type": "markdown",
   "metadata": {},
   "source": [
    "To get movies name let's merge `top10_movies` with `movies` table"
   ]
  },
  {
   "cell_type": "code",
   "execution_count": 22,
   "metadata": {},
   "outputs": [
    {
     "name": "stdout",
     "output_type": "stream",
     "text": [
      "+-------+-----------------+-----+--------------------+--------------------+\n",
      "|movieId|       avg_rating|votes|               title|              genres|\n",
      "+-------+-----------------+-----+--------------------+--------------------+\n",
      "|    356|4.164133738601824|  329| Forrest Gump (1994)|Comedy|Drama|Roma...|\n",
      "|    318|4.429022082018927|  317|Shawshank Redempt...|         Crime|Drama|\n",
      "|    296|4.197068403908795|  307| Pulp Fiction (1994)|Comedy|Crime|Dram...|\n",
      "|    593|4.161290322580645|  279|Silence of the La...|Crime|Horror|Thri...|\n",
      "|   2571|4.192446043165468|  278|  Matrix, The (1999)|Action|Sci-Fi|Thr...|\n",
      "|    260|4.231075697211155|  251|Star Wars: Episod...|Action|Adventure|...|\n",
      "|    480|             3.75|  238|Jurassic Park (1993)|Action|Adventure|...|\n",
      "|    110|4.031645569620253|  237|   Braveheart (1995)|    Action|Drama|War|\n",
      "|    589|3.970982142857143|  224|Terminator 2: Jud...|       Action|Sci-Fi|\n",
      "|    527|            4.225|  220|Schindler's List ...|           Drama|War|\n",
      "+-------+-----------------+-----+--------------------+--------------------+\n",
      "\n"
     ]
    }
   ],
   "source": [
    "top10_movies.join(movies, on='movieId', how='left').show()"
   ]
  },
  {
   "cell_type": "markdown",
   "metadata": {},
   "source": [
    "## Modelisation"
   ]
  },
  {
   "cell_type": "code",
   "execution_count": 23,
   "metadata": {},
   "outputs": [],
   "source": [
    "SEED = 1\n",
    "train, test = ratings_optimized.randomSplit([0.8, 0.2], seed=SEED)"
   ]
  },
  {
   "cell_type": "code",
   "execution_count": 24,
   "metadata": {},
   "outputs": [
    {
     "name": "stdout",
     "output_type": "stream",
     "text": [
      "Nbr of hyperparameters combinations  4\n"
     ]
    }
   ],
   "source": [
    "from pyspark.ml.tuning import ParamGridBuilder, CrossValidator\n",
    "from pyspark.ml.recommendation import ALS\n",
    "from pyspark.ml.evaluation import RegressionEvaluator\n",
    "\n",
    "als = ALS(userCol=\"userId\", itemCol=\"movieId\", ratingCol=\"rating\",\n",
    "          nonnegative = True, implicitPrefs = False, coldStartStrategy='drop')\n",
    "\n",
    "param_grid = ParamGridBuilder() \\\n",
    "            .addGrid(als.rank, [10, 50]) \\\n",
    "            .addGrid(als.maxIter, [5, 50])\\\n",
    "            .build()\n",
    "           \n",
    "# Define evaluator as RMSE and print length of evaluator\n",
    "evaluator = RegressionEvaluator(metricName=\"rmse\", labelCol=\"rating\", predictionCol=\"prediction\") \n",
    "print (\"Nbr of hyperparameters combinations \", len(param_grid))"
   ]
  },
  {
   "cell_type": "code",
   "execution_count": 25,
   "metadata": {},
   "outputs": [],
   "source": [
    "cv = CrossValidator(estimator=als, estimatorParamMaps=param_grid, evaluator=evaluator, numFolds=5)"
   ]
  },
  {
   "cell_type": "code",
   "execution_count": null,
   "metadata": {},
   "outputs": [],
   "source": [
    "#Fit cross validator to the 'train' dataset\n",
    "model = cv.fit(train)\n",
    "\n",
    "#Extract best model from the cv model above\n",
    "best_model = model.bestModel"
   ]
  },
  {
   "cell_type": "markdown",
   "metadata": {},
   "source": [
    "## Final Model"
   ]
  },
  {
   "cell_type": "code",
   "execution_count": 27,
   "metadata": {},
   "outputs": [],
   "source": [
    "als = ALS(userCol='userId', itemCol='movieId', ratingCol='rating', rank=10,\n",
    "            maxIter=20, regParam=0.1, coldStartStrategy='drop', nonnegative=True, implicitPrefs=False)"
   ]
  },
  {
   "cell_type": "code",
   "execution_count": 28,
   "metadata": {},
   "outputs": [],
   "source": [
    "model = als.fit(train)"
   ]
  },
  {
   "cell_type": "code",
   "execution_count": 29,
   "metadata": {},
   "outputs": [
    {
     "name": "stdout",
     "output_type": "stream",
     "text": [
      "+------+-------+------+----------+----------+\n",
      "|userId|movieId|rating| timestamp|prediction|\n",
      "+------+-------+------+----------+----------+\n",
      "|   436|    471|   3.0| 833530187| 3.5376735|\n",
      "|   520|    471|   5.0|1326609921|  3.589494|\n",
      "|   136|    471|   4.0| 832450058| 3.6335943|\n",
      "|   273|    471|   5.0| 835861348| 4.2163095|\n",
      "|   448|    471|   4.0|1178980875| 3.5326889|\n",
      "|   260|    471|   4.5|1109409455|  3.921546|\n",
      "|   357|    471|   3.5|1348627082|   4.10469|\n",
      "|    44|    833|   2.0| 869252237|  3.188034|\n",
      "|   307|    833|   1.0|1186172725| 1.0259031|\n",
      "|   492|    833|   4.0| 863976674| 3.1052873|\n",
      "|   606|   1088|   3.0|1171926956| 2.9679475|\n",
      "|   599|   1088|   2.5|1498515232|  2.541874|\n",
      "|   563|   1088|   4.0|1440793700| 3.1622243|\n",
      "|   307|   1088|   3.0|1186162146|   2.66366|\n",
      "|   555|   1088|   4.0| 978822670| 3.2510967|\n",
      "|   116|   1088|   4.5|1337195649| 3.4005952|\n",
      "|   483|   1088|   3.0|1215895737|  3.197276|\n",
      "|   462|   1238|   3.5|1370129249| 3.4404497|\n",
      "|   156|   1238|   4.0| 946799272| 4.0768776|\n",
      "|   469|   1238|   5.0| 965425364|  3.937199|\n",
      "+------+-------+------+----------+----------+\n",
      "only showing top 20 rows\n",
      "\n"
     ]
    }
   ],
   "source": [
    "predictions = model.transform(test)\n",
    "predictions.show()"
   ]
  },
  {
   "cell_type": "code",
   "execution_count": 30,
   "metadata": {},
   "outputs": [
    {
     "data": {
      "text/plain": [
       "0.8442918550617431"
      ]
     },
     "execution_count": 30,
     "metadata": {},
     "output_type": "execute_result"
    }
   ],
   "source": [
    "evaluator = RegressionEvaluator(metricName=\"rmse\", labelCol=\"rating\", predictionCol=\"prediction\")\n",
    "evaluator.evaluate(predictions)"
   ]
  },
  {
   "cell_type": "markdown",
   "metadata": {},
   "source": [
    "## Prediction"
   ]
  },
  {
   "cell_type": "code",
   "execution_count": 36,
   "metadata": {},
   "outputs": [
    {
     "name": "stdout",
     "output_type": "stream",
     "text": [
      "+------+-------+------+----------+----------+\n",
      "|userId|movieId|rating| timestamp|prediction|\n",
      "+------+-------+------+----------+----------+\n",
      "|   436|    471|   3.0| 833530187| 3.5376735|\n",
      "|   520|    471|   5.0|1326609921|  3.589494|\n",
      "|   136|    471|   4.0| 832450058| 3.6335943|\n",
      "|   273|    471|   5.0| 835861348| 4.2163095|\n",
      "|   448|    471|   4.0|1178980875| 3.5326889|\n",
      "|   260|    471|   4.5|1109409455|  3.921546|\n",
      "|   357|    471|   3.5|1348627082|   4.10469|\n",
      "|    44|    833|   2.0| 869252237|  3.188034|\n",
      "|   307|    833|   1.0|1186172725| 1.0259031|\n",
      "|   492|    833|   4.0| 863976674| 3.1052873|\n",
      "|   606|   1088|   3.0|1171926956| 2.9679475|\n",
      "|   599|   1088|   2.5|1498515232|  2.541874|\n",
      "|   563|   1088|   4.0|1440793700| 3.1622243|\n",
      "|   307|   1088|   3.0|1186162146|   2.66366|\n",
      "|   555|   1088|   4.0| 978822670| 3.2510967|\n",
      "|   116|   1088|   4.5|1337195649| 3.4005952|\n",
      "|   483|   1088|   3.0|1215895737|  3.197276|\n",
      "|   462|   1238|   3.5|1370129249| 3.4404497|\n",
      "|   156|   1238|   4.0| 946799272| 4.0768776|\n",
      "|   469|   1238|   5.0| 965425364|  3.937199|\n",
      "+------+-------+------+----------+----------+\n",
      "only showing top 20 rows\n",
      "\n"
     ]
    }
   ],
   "source": [
    "predictions.show()"
   ]
  },
  {
   "cell_type": "code",
   "execution_count": 45,
   "metadata": {},
   "outputs": [
    {
     "name": "stdout",
     "output_type": "stream",
     "text": [
      "User 60's Ratings:\n",
      "+-------+------+------+----------+--------------------+--------------------+\n",
      "|movieId|userId|rating| timestamp|               title|              genres|\n",
      "+-------+------+------+----------+--------------------+--------------------+\n",
      "|  58559|    60|   5.0|1393542075|Dark Knight, The ...|Action|Crime|Dram...|\n",
      "|    858|    60|   5.0|1393542055|Godfather, The (1...|         Crime|Drama|\n",
      "|    527|    60|   5.0|1393542064|Schindler's List ...|           Drama|War|\n",
      "|    318|    60|   4.0|1393542053|Shawshank Redempt...|         Crime|Drama|\n",
      "|    362|    60|   4.0|1393541920|Jungle Book, The ...|Adventure|Childre...|\n",
      "|   3386|    60|   4.0|1393541937|          JFK (1991)|Drama|Mystery|Thr...|\n",
      "|   6016|    60|   4.0|1393542073|City of God (Cida...|Action|Adventure|...|\n",
      "|    783|    60|   4.0|1393541788|Hunchback of Notr...|Animation|Childre...|\n",
      "|   1242|    60|   4.0|1393541757|        Glory (1989)|           Drama|War|\n",
      "|   2150|    60|   4.0|1393541897|Gods Must Be Craz...|    Adventure|Comedy|\n",
      "|   2739|    60|   4.0|1393541977|Color Purple, The...|               Drama|\n",
      "|     48|    60|   3.0|1393541734|   Pocahontas (1995)|Animation|Childre...|\n",
      "|    832|    60|   3.0|1393541695|       Ransom (1996)|      Crime|Thriller|\n",
      "|     50|    60|   3.0|1393542060|Usual Suspects, T...|Crime|Mystery|Thr...|\n",
      "|   1203|    60|   3.0|1393542084| 12 Angry Men (1957)|               Drama|\n",
      "|   2724|    60|   3.0|1393541908|Runaway Bride (1999)|      Comedy|Romance|\n",
      "|     60|    60|   3.0|1393541955|Indian in the Cup...|Adventure|Childre...|\n",
      "|   1562|    60|   3.0|1393541892|Batman & Robin (1...|Action|Adventure|...|\n",
      "|    455|    60|   3.0|1393541905|   Free Willy (1993)|Adventure|Childre...|\n",
      "|   2067|    60|   3.0|1393541982|Doctor Zhivago (1...|   Drama|Romance|War|\n",
      "+-------+------+------+----------+--------------------+--------------------+\n",
      "\n"
     ]
    }
   ],
   "source": [
    "from pyspark.sql.functions import col\n",
    "print(\"User 60's Ratings:\")\n",
    "train.filter(col(\"userId\") == 60).join(movies, on='movieId', how='inner').sort(\"rating\", ascending = False).show()"
   ]
  },
  {
   "cell_type": "code",
   "execution_count": 43,
   "metadata": {},
   "outputs": [
    {
     "name": "stdout",
     "output_type": "stream",
     "text": [
      "User 63's Recommendations:\n",
      "+-------+------+------+----------+----------+--------------------+--------------+\n",
      "|movieId|userId|rating| timestamp|prediction|               title|        genres|\n",
      "+-------+------+------+----------+----------+--------------------+--------------+\n",
      "|   3424|    60|   4.0|1393541967| 3.4226027|Do the Right Thin...|         Drama|\n",
      "|    805|    60|   4.0|1393541754|   3.11559|Time to Kill, A (...|Drama|Thriller|\n",
      "+-------+------+------+----------+----------+--------------------+--------------+\n",
      "\n"
     ]
    }
   ],
   "source": [
    "print(\"User 63's Recommendations:\")\n",
    "predictions.filter(col(\"userId\") == 60).join(movies, on='movieId', how='inner').show()"
   ]
  }
 ],
 "metadata": {
  "kernelspec": {
   "display_name": "Python 3",
   "language": "python",
   "name": "python3"
  },
  "language_info": {
   "codemirror_mode": {
    "name": "ipython",
    "version": 3
   },
   "file_extension": ".py",
   "mimetype": "text/x-python",
   "name": "python",
   "nbconvert_exporter": "python",
   "pygments_lexer": "ipython3",
   "version": "3.7.6"
  }
 },
 "nbformat": 4,
 "nbformat_minor": 4
}
