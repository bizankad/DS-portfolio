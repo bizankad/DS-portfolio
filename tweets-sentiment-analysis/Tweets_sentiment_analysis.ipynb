{
 "cells": [
  {
   "cell_type": "code",
   "execution_count": 294,
   "metadata": {
    "colab": {
     "base_uri": "https://localhost:8080/",
     "height": 71
    },
    "colab_type": "code",
    "id": "C43JEWCorZHG",
    "outputId": "b6965b58-9e9e-4a17-ec8a-b3aaec403f44"
   },
   "outputs": [],
   "source": [
    "import pandas as pd\n",
    "import numpy as np\n",
    "import seaborn as sns\n",
    "import matplotlib.pyplot as plt \n",
    "from sklearn.base import BaseEstimator\n",
    "import gensim \n",
    "from nltk.corpus import stopwords\n",
    "from scipy import stats\n",
    "from sklearn.metrics import classification_report\n",
    "from sklearn.preprocessing import LabelEncoder\n",
    "from sklearn.model_selection import StratifiedKFold\n",
    "from xgboost import XGBClassifier\n",
    "from sklearn.pipeline import Pipeline, FeatureUnion\n",
    "from sklearn.compose import ColumnTransformer\n",
    "from sklearn.metrics import f1_score\n",
    "from sklearn.preprocessing import OrdinalEncoder\n",
    "from sklearn.decomposition import PCA\n",
    "from sklearn.model_selection import cross_validate\n",
    "from sklearn.preprocessing import OrdinalEncoder\n",
    "import lightgbm as lgb\n",
    "from nltk.tokenize import word_tokenize\n",
    "import re\n",
    "from nltk.corpus import stopwords\n",
    "from gensim import corpora\n",
    "\n",
    "plt.style.use('seaborn-whitegrid')"
   ]
  },
  {
   "cell_type": "markdown",
   "metadata": {
    "colab_type": "text",
    "id": "dFtjXqbBs9oA"
   },
   "source": [
    "This data originally came from Crowdflower's [Data for Everyone library](http://www.crowdflower.com/data-for-everyone).\n",
    "\n",
    "As the original source says,\n",
    "\n",
    "> We looked through tens of thousands of tweets about the early August GOP debate in Ohio and asked contributors to do both sentiment analysis and data categorization. Contributors were asked which candidate was mentioned, and what the sentiment was for a given tweet. "
   ]
  },
  {
   "cell_type": "code",
   "execution_count": 4,
   "metadata": {
    "colab": {
     "base_uri": "https://localhost:8080/",
     "height": 581
    },
    "colab_type": "code",
    "id": "1CWhxB9srZHn",
    "outputId": "fb46b1d7-3f12-4ad4-8e80-34c8da8d081d"
   },
   "outputs": [
    {
     "data": {
      "text/html": [
       "<div>\n",
       "<style scoped>\n",
       "    .dataframe tbody tr th:only-of-type {\n",
       "        vertical-align: middle;\n",
       "    }\n",
       "\n",
       "    .dataframe tbody tr th {\n",
       "        vertical-align: top;\n",
       "    }\n",
       "\n",
       "    .dataframe thead th {\n",
       "        text-align: right;\n",
       "    }\n",
       "</style>\n",
       "<table border=\"1\" class=\"dataframe\">\n",
       "  <thead>\n",
       "    <tr style=\"text-align: right;\">\n",
       "      <th></th>\n",
       "      <th>Unnamed: 0</th>\n",
       "      <th>id</th>\n",
       "      <th>candidate</th>\n",
       "      <th>sentiment</th>\n",
       "      <th>name</th>\n",
       "      <th>retweet_count</th>\n",
       "      <th>text</th>\n",
       "      <th>tweet_coord</th>\n",
       "      <th>tweet_created</th>\n",
       "      <th>tweet_id</th>\n",
       "      <th>tweet_location</th>\n",
       "      <th>user_timezone</th>\n",
       "    </tr>\n",
       "  </thead>\n",
       "  <tbody>\n",
       "    <tr>\n",
       "      <th>10999</th>\n",
       "      <td>10999</td>\n",
       "      <td>11000</td>\n",
       "      <td>Jeb Bush</td>\n",
       "      <td>Neutral</td>\n",
       "      <td>hobbsislander</td>\n",
       "      <td>153</td>\n",
       "      <td>RT @RWSurferGirl: Fox is cherry picking the ca...</td>\n",
       "      <td>NaN</td>\n",
       "      <td>2015-08-06 19:44:52-07:00</td>\n",
       "      <td>629483316140482561</td>\n",
       "      <td>Cul de Sac off Copperhead Rd</td>\n",
       "      <td>NaN</td>\n",
       "    </tr>\n",
       "    <tr>\n",
       "      <th>3430</th>\n",
       "      <td>3430</td>\n",
       "      <td>3431</td>\n",
       "      <td>No candidate mentioned</td>\n",
       "      <td>Neutral</td>\n",
       "      <td>LambasixX</td>\n",
       "      <td>0</td>\n",
       "      <td>Countries in Africa  RT' &amp;amp; DL' #Internatio...</td>\n",
       "      <td>NaN</td>\n",
       "      <td>2015-08-07 09:18:50-07:00</td>\n",
       "      <td>629688159757058048</td>\n",
       "      <td>DOPECITY HD</td>\n",
       "      <td>London</td>\n",
       "    </tr>\n",
       "    <tr>\n",
       "      <th>7083</th>\n",
       "      <td>7083</td>\n",
       "      <td>7084</td>\n",
       "      <td>No candidate mentioned</td>\n",
       "      <td>Negative</td>\n",
       "      <td>baronvonparker</td>\n",
       "      <td>1</td>\n",
       "      <td>#GOPDebate was the most watched primary debate...</td>\n",
       "      <td>NaN</td>\n",
       "      <td>2015-08-07 08:10:41-07:00</td>\n",
       "      <td>629671005221482496</td>\n",
       "      <td>NaN</td>\n",
       "      <td>Central Time (US &amp; Canada)</td>\n",
       "    </tr>\n",
       "    <tr>\n",
       "      <th>11095</th>\n",
       "      <td>11095</td>\n",
       "      <td>11096</td>\n",
       "      <td>No candidate mentioned</td>\n",
       "      <td>Negative</td>\n",
       "      <td>Mina001</td>\n",
       "      <td>120</td>\n",
       "      <td>RT @RWSurferGirl: Why doesn't Chris Wallace as...</td>\n",
       "      <td>NaN</td>\n",
       "      <td>2015-08-06 19:43:24-07:00</td>\n",
       "      <td>629482947964309504</td>\n",
       "      <td>USA</td>\n",
       "      <td>Central Time (US &amp; Canada)</td>\n",
       "    </tr>\n",
       "    <tr>\n",
       "      <th>13399</th>\n",
       "      <td>13399</td>\n",
       "      <td>13400</td>\n",
       "      <td>Jeb Bush</td>\n",
       "      <td>Negative</td>\n",
       "      <td>gatmanuk1</td>\n",
       "      <td>153</td>\n",
       "      <td>RT @RWSurferGirl: Fox is cherry picking the ca...</td>\n",
       "      <td>NaN</td>\n",
       "      <td>2015-08-06 19:05:12-07:00</td>\n",
       "      <td>629473332728057857</td>\n",
       "      <td>World/Net CitiZen</td>\n",
       "      <td>Nairobi</td>\n",
       "    </tr>\n",
       "  </tbody>\n",
       "</table>\n",
       "</div>"
      ],
      "text/plain": [
       "       Unnamed: 0     id               candidate sentiment            name  \\\n",
       "10999       10999  11000                Jeb Bush   Neutral   hobbsislander   \n",
       "3430         3430   3431  No candidate mentioned   Neutral       LambasixX   \n",
       "7083         7083   7084  No candidate mentioned  Negative  baronvonparker   \n",
       "11095       11095  11096  No candidate mentioned  Negative         Mina001   \n",
       "13399       13399  13400                Jeb Bush  Negative       gatmanuk1   \n",
       "\n",
       "       retweet_count                                               text  \\\n",
       "10999            153  RT @RWSurferGirl: Fox is cherry picking the ca...   \n",
       "3430               0  Countries in Africa  RT' &amp; DL' #Internatio...   \n",
       "7083               1  #GOPDebate was the most watched primary debate...   \n",
       "11095            120  RT @RWSurferGirl: Why doesn't Chris Wallace as...   \n",
       "13399            153  RT @RWSurferGirl: Fox is cherry picking the ca...   \n",
       "\n",
       "      tweet_coord             tweet_created            tweet_id  \\\n",
       "10999         NaN 2015-08-06 19:44:52-07:00  629483316140482561   \n",
       "3430          NaN 2015-08-07 09:18:50-07:00  629688159757058048   \n",
       "7083          NaN 2015-08-07 08:10:41-07:00  629671005221482496   \n",
       "11095         NaN 2015-08-06 19:43:24-07:00  629482947964309504   \n",
       "13399         NaN 2015-08-06 19:05:12-07:00  629473332728057857   \n",
       "\n",
       "                     tweet_location               user_timezone  \n",
       "10999  Cul de Sac off Copperhead Rd                         NaN  \n",
       "3430                    DOPECITY HD                      London  \n",
       "7083                            NaN  Central Time (US & Canada)  \n",
       "11095                           USA  Central Time (US & Canada)  \n",
       "13399             World/Net CitiZen                     Nairobi  "
      ]
     },
     "execution_count": 4,
     "metadata": {},
     "output_type": "execute_result"
    }
   ],
   "source": [
    "# load dataset \n",
    "tweets = pd.read_csv('input/Sentiment.csv', parse_dates=['tweet_created'])\n",
    "tweets.sample(5)"
   ]
  },
  {
   "cell_type": "code",
   "execution_count": 5,
   "metadata": {
    "colab": {
     "base_uri": "https://localhost:8080/",
     "height": 34
    },
    "colab_type": "code",
    "id": "_X5pQRz1rZIA",
    "outputId": "cfc58810-8142-4dd4-bc03-886e76f828db"
   },
   "outputs": [
    {
     "name": "stdout",
     "output_type": "stream",
     "text": [
      "dataset contains 13871 tweets and 12 predictor variables.\n"
     ]
    }
   ],
   "source": [
    "print(f\"dataset contains {tweets.shape[0]} tweets and {tweets.shape[1]} predictor variables.\")"
   ]
  },
  {
   "cell_type": "code",
   "execution_count": 6,
   "metadata": {
    "colab": {
     "base_uri": "https://localhost:8080/",
     "height": 291
    },
    "colab_type": "code",
    "id": "YileFspCrZIP",
    "outputId": "edd66b14-1b01-4e2f-d650-3a7831bfbea2"
   },
   "outputs": [
    {
     "data": {
      "image/png": "[encoded data removed]",
      "text/plain": [
       "<Figure size 432x288 with 1 Axes>"
      ]
     },
     "metadata": {},
     "output_type": "display_data"
    }
   ],
   "source": [
    "plt.figure()\n",
    "ax = plt.axes()\n",
    "sns.countplot(tweets.sentiment)\n",
    "\n",
    "total_tweets = len(tweets)\n",
    "plt.title('class distribution')\n",
    "for p in ax.patches:\n",
    "    height = p.get_height()\n",
    "    ax.text(p.get_x()+p.get_width()/2.,\n",
    "            height+20,\n",
    "            f'{int(height)/total_tweets:.2%}',\n",
    "            ha=\"center\", fontsize=10)\n",
    "    \n",
    "plt.show()"
   ]
  },
  {
   "cell_type": "code",
   "execution_count": 7,
   "metadata": {
    "colab": {
     "base_uri": "https://localhost:8080/",
     "height": 421
    },
    "colab_type": "code",
    "id": "t2iIT8iTrZIZ",
    "outputId": "95c7a42f-6fbc-47dc-cd94-4768cd643329"
   },
   "outputs": [
    {
     "data": {
      "text/html": [
       "<div>\n",
       "<style scoped>\n",
       "    .dataframe tbody tr th:only-of-type {\n",
       "        vertical-align: middle;\n",
       "    }\n",
       "\n",
       "    .dataframe tbody tr th {\n",
       "        vertical-align: top;\n",
       "    }\n",
       "\n",
       "    .dataframe thead th {\n",
       "        text-align: right;\n",
       "    }\n",
       "</style>\n",
       "<table border=\"1\" class=\"dataframe\">\n",
       "  <thead>\n",
       "    <tr style=\"text-align: right;\">\n",
       "      <th>sentiment</th>\n",
       "      <th>Negative</th>\n",
       "      <th>Neutral</th>\n",
       "      <th>Positive</th>\n",
       "      <th>negative_proportion</th>\n",
       "    </tr>\n",
       "    <tr>\n",
       "      <th>candidate</th>\n",
       "      <th></th>\n",
       "      <th></th>\n",
       "      <th></th>\n",
       "      <th></th>\n",
       "    </tr>\n",
       "  </thead>\n",
       "  <tbody>\n",
       "    <tr>\n",
       "      <th>Ben Carson</th>\n",
       "      <td>186</td>\n",
       "      <td>54</td>\n",
       "      <td>164</td>\n",
       "      <td>0.460396</td>\n",
       "    </tr>\n",
       "    <tr>\n",
       "      <th>Chris Christie</th>\n",
       "      <td>218</td>\n",
       "      <td>42</td>\n",
       "      <td>33</td>\n",
       "      <td>0.744027</td>\n",
       "    </tr>\n",
       "    <tr>\n",
       "      <th>Donald Trump</th>\n",
       "      <td>1758</td>\n",
       "      <td>446</td>\n",
       "      <td>609</td>\n",
       "      <td>0.624956</td>\n",
       "    </tr>\n",
       "    <tr>\n",
       "      <th>Jeb Bush</th>\n",
       "      <td>589</td>\n",
       "      <td>72</td>\n",
       "      <td>44</td>\n",
       "      <td>0.835461</td>\n",
       "    </tr>\n",
       "    <tr>\n",
       "      <th>John Kasich</th>\n",
       "      <td>82</td>\n",
       "      <td>47</td>\n",
       "      <td>113</td>\n",
       "      <td>0.338843</td>\n",
       "    </tr>\n",
       "    <tr>\n",
       "      <th>Marco Rubio</th>\n",
       "      <td>105</td>\n",
       "      <td>51</td>\n",
       "      <td>119</td>\n",
       "      <td>0.381818</td>\n",
       "    </tr>\n",
       "    <tr>\n",
       "      <th>Mike Huckabee</th>\n",
       "      <td>237</td>\n",
       "      <td>83</td>\n",
       "      <td>73</td>\n",
       "      <td>0.603053</td>\n",
       "    </tr>\n",
       "    <tr>\n",
       "      <th>No candidate mentioned</th>\n",
       "      <td>4724</td>\n",
       "      <td>2087</td>\n",
       "      <td>680</td>\n",
       "      <td>0.630623</td>\n",
       "    </tr>\n",
       "    <tr>\n",
       "      <th>Rand Paul</th>\n",
       "      <td>148</td>\n",
       "      <td>60</td>\n",
       "      <td>55</td>\n",
       "      <td>0.562738</td>\n",
       "    </tr>\n",
       "    <tr>\n",
       "      <th>Scott Walker</th>\n",
       "      <td>179</td>\n",
       "      <td>38</td>\n",
       "      <td>42</td>\n",
       "      <td>0.691120</td>\n",
       "    </tr>\n",
       "    <tr>\n",
       "      <th>Ted Cruz</th>\n",
       "      <td>221</td>\n",
       "      <td>126</td>\n",
       "      <td>290</td>\n",
       "      <td>0.346939</td>\n",
       "    </tr>\n",
       "  </tbody>\n",
       "</table>\n",
       "</div>"
      ],
      "text/plain": [
       "sentiment               Negative  Neutral  Positive  negative_proportion\n",
       "candidate                                                               \n",
       "Ben Carson                   186       54       164             0.460396\n",
       "Chris Christie               218       42        33             0.744027\n",
       "Donald Trump                1758      446       609             0.624956\n",
       "Jeb Bush                     589       72        44             0.835461\n",
       "John Kasich                   82       47       113             0.338843\n",
       "Marco Rubio                  105       51       119             0.381818\n",
       "Mike Huckabee                237       83        73             0.603053\n",
       "No candidate mentioned      4724     2087       680             0.630623\n",
       "Rand Paul                    148       60        55             0.562738\n",
       "Scott Walker                 179       38        42             0.691120\n",
       "Ted Cruz                     221      126       290             0.346939"
      ]
     },
     "execution_count": 7,
     "metadata": {},
     "output_type": "execute_result"
    }
   ],
   "source": [
    "contingency_table = pd.crosstab(tweets.candidate, tweets.sentiment)\n",
    "contingency_table['negative_proportion'] = contingency_table.Negative/contingency_table.sum(axis=1)\n",
    "contingency_table"
   ]
  },
  {
   "cell_type": "markdown",
   "metadata": {
    "colab_type": "text",
    "id": "HXtIjHYPrZIh"
   },
   "source": [
    "The candidate `Donald Trump` has the highest number of negative tweets. However, if we look at the total number of tweet per candidate we can see that `Jeb Bush` has almost 84% of the tweets mentionning him as negative."
   ]
  },
  {
   "cell_type": "markdown",
   "metadata": {
    "colab_type": "text",
    "id": "SjmsKzfDrZIi"
   },
   "source": [
    "**What kind of tweets are the most retweeted?**"
   ]
  },
  {
   "cell_type": "code",
   "execution_count": 8,
   "metadata": {
    "colab": {
     "base_uri": "https://localhost:8080/",
     "height": 102
    },
    "colab_type": "code",
    "id": "c7qsUVBorZIj",
    "outputId": "615bdc5a-04b7-42e5-f3ee-7cd500dd2a00"
   },
   "outputs": [
    {
     "data": {
      "text/plain": [
       "sentiment\n",
       "Negative    419335.0\n",
       "Neutral     117243.0\n",
       "Positive     98760.0\n",
       "Name: retweet_count, dtype: float64"
      ]
     },
     "execution_count": 8,
     "metadata": {},
     "output_type": "execute_result"
    }
   ],
   "source": [
    "tweets.groupby('sentiment').sum()['retweet_count']"
   ]
  },
  {
   "cell_type": "markdown",
   "metadata": {
    "colab_type": "text",
    "id": "4Bw7jY0JrZIv"
   },
   "source": [
    "Negative tweets are more than 4 times retweeted than positive tweets. "
   ]
  },
  {
   "cell_type": "markdown",
   "metadata": {
    "colab_type": "text",
    "id": "efqoyCy6rZIw"
   },
   "source": [
    "**Who are the most retweeted candidates?**"
   ]
  },
  {
   "cell_type": "code",
   "execution_count": 9,
   "metadata": {
    "colab": {
     "base_uri": "https://localhost:8080/",
     "height": 434
    },
    "colab_type": "code",
    "id": "vyG28_9jrZIx",
    "outputId": "27dc87df-6db9-4b7a-d929-61751e15cc31"
   },
   "outputs": [
    {
     "data": {
      "image/png": "[encoded data removed]",
      "text/plain": [
       "<Figure size 1080x432 with 1 Axes>"
      ]
     },
     "metadata": {},
     "output_type": "display_data"
    }
   ],
   "source": [
    "most_rt_candidates = tweets.groupby('candidate').sum()['retweet_count'].sort_values()\n",
    "plt.figure(figsize=(15,6))\n",
    "sns.barplot(most_rt_candidates.index, most_rt_candidates)\n",
    "plt.xticks(rotation=45)\n",
    "plt.show()"
   ]
  },
  {
   "cell_type": "markdown",
   "metadata": {
    "colab_type": "text",
    "id": "dGVdfnXLrZI2"
   },
   "source": [
    "Let us have a look at the time variable `tweet_created`"
   ]
  },
  {
   "cell_type": "code",
   "execution_count": 10,
   "metadata": {
    "colab": {
     "base_uri": "https://localhost:8080/",
     "height": 102
    },
    "colab_type": "code",
    "id": "gaEZheVorZI6",
    "outputId": "e7a40edd-dcc7-4e25-cfbe-18d85544666b"
   },
   "outputs": [
    {
     "data": {
      "text/plain": [
       "(Timestamp('2015-08-06 17:44:53-0700', tz='pytz.FixedOffset(-420)'),\n",
       " Timestamp('2015-08-07 10:12:32-0700', tz='pytz.FixedOffset(-420)'),\n",
       " Timedelta('0 days 16:27:39'),\n",
       " 'Thursday',\n",
       " 'Friday')"
      ]
     },
     "execution_count": 10,
     "metadata": {},
     "output_type": "execute_result"
    }
   ],
   "source": [
    "start_date = tweets.tweet_created.sort_values().iloc[0]\n",
    "end_date = tweets.tweet_created.sort_values().iloc[-1]\n",
    "start_date, end_date, (end_date - start_date), start_date.day_name(), end_date.day_name()"
   ]
  },
  {
   "cell_type": "markdown",
   "metadata": {
    "colab_type": "text",
    "id": "U_lcRMjPrZJE"
   },
   "source": [
    "We can conclude that the tweets recording lasted for 16hours and ~28 minute. The recodring started Thursday, august 2015 at 17:44 until friday, august 2015 at 10:12."
   ]
  },
  {
   "cell_type": "markdown",
   "metadata": {
    "colab_type": "text",
    "id": "iJdM6NWkrZJF"
   },
   "source": [
    "**How are tweets distributed accros the day? is there any time slot that has more tweets than others?**"
   ]
  },
  {
   "cell_type": "code",
   "execution_count": 11,
   "metadata": {
    "colab": {},
    "colab_type": "code",
    "id": "gtfMhcCErZJG"
   },
   "outputs": [],
   "source": [
    "tweets_ordered_bytime = tweets.sort_values(by='tweet_created')"
   ]
  },
  {
   "cell_type": "code",
   "execution_count": 12,
   "metadata": {
    "colab": {
     "base_uri": "https://localhost:8080/",
     "height": 297
    },
    "colab_type": "code",
    "id": "05I4GMI0rZJL",
    "outputId": "00ebfa89-fd78-49ef-edfa-996cd5ae48f5"
   },
   "outputs": [
    {
     "data": {
      "image/png": "[encoded data removed]",
      "text/plain": [
       "<Figure size 1440x432 with 1 Axes>"
      ]
     },
     "metadata": {},
     "output_type": "display_data"
    }
   ],
   "source": [
    "plt.figure(figsize=(20,6))\n",
    "sns.countplot(tweets_ordered_bytime.tweet_created.dt.hour, hue=tweets_ordered_bytime.sentiment)\n",
    "plt.title('tweets distribution over the day Vs Sentiment')\n",
    "plt.show()"
   ]
  },
  {
   "cell_type": "markdown",
   "metadata": {
    "colab_type": "text",
    "id": "x3svvpdIrZJT"
   },
   "source": [
    "We might one to add a new predictor variable that stores the hour of the day or maybe categorigal variable with the following enumeration: morning, afternoon, evening, night"
   ]
  },
  {
   "cell_type": "markdown",
   "metadata": {
    "colab_type": "text",
    "id": "ab80zk4OrZJT"
   },
   "source": [
    "## Missing values"
   ]
  },
  {
   "cell_type": "code",
   "execution_count": 13,
   "metadata": {
    "colab": {
     "base_uri": "https://localhost:8080/",
     "height": 491
    },
    "colab_type": "code",
    "id": "RP--nIf-rZJU",
    "outputId": "f0c29d19-8882-437d-fc67-fa770653fc11",
    "scrolled": false
   },
   "outputs": [
    {
     "data": {
      "image/png": "[encoded data removed]",
      "text/plain": [
       "<Figure size 1440x720 with 2 Axes>"
      ]
     },
     "metadata": {},
     "output_type": "display_data"
    }
   ],
   "source": [
    "plt.figure(figsize=(20,10))\n",
    "sns.heatmap(tweets_ordered_bytime.isna())\n",
    "plt.show()"
   ]
  },
  {
   "cell_type": "markdown",
   "metadata": {
    "colab_type": "text",
    "id": "mB5lSQMlrZJZ"
   },
   "source": [
    "`Tweet_location` and `user_timezone` contain a lot of missing values.\n",
    "- add new boolean is_nan + impuatation most freq ?"
   ]
  },
  {
   "cell_type": "code",
   "execution_count": 14,
   "metadata": {
    "colab": {
     "base_uri": "https://localhost:8080/",
     "height": 34
    },
    "colab_type": "code",
    "id": "kGz05OcLrZJd",
    "outputId": "6909f210-ad4a-4edf-9793-cf3a6d6cec98"
   },
   "outputs": [
    {
     "data": {
      "text/plain": [
       "(0.28202725109941607, 0.3174248431980391)"
      ]
     },
     "execution_count": 14,
     "metadata": {},
     "output_type": "execute_result"
    }
   ],
   "source": [
    "tweets.tweet_location.isna().sum()/len(tweets), tweets.user_timezone.isna().sum()/len(tweets)"
   ]
  },
  {
   "cell_type": "markdown",
   "metadata": {
    "colab_type": "text",
    "id": "siaUYaHtCS0c"
   },
   "source": [
    "Tweet_location and user_timezone are composed of neary 30% of missing of values."
   ]
  },
  {
   "cell_type": "code",
   "execution_count": 15,
   "metadata": {
    "colab": {},
    "colab_type": "code",
    "id": "qQeofVXnrZJz"
   },
   "outputs": [],
   "source": [
    "def is_feature_important(feature, target, alpha=.05):\n",
    "    crosstable = pd.crosstab(target,feature) \n",
    "    chi2, p, dof, expected = stats.chi2_contingency(crosstable.values)\n",
    "    \n",
    "    return p < alpha"
   ]
  },
  {
   "cell_type": "code",
   "execution_count": 16,
   "metadata": {
    "colab": {
     "base_uri": "https://localhost:8080/",
     "height": 34
    },
    "colab_type": "code",
    "id": "DunxV6jJrZJ4",
    "outputId": "4a895bcf-668c-47ce-c24e-b205a5681984",
    "scrolled": true
   },
   "outputs": [
    {
     "data": {
      "text/plain": [
       "(True, True)"
      ]
     },
     "execution_count": 16,
     "metadata": {},
     "output_type": "execute_result"
    }
   ],
   "source": [
    "is_feature_important(tweets.user_timezone, tweets.sentiment), is_feature_important(tweets.tweet_location, tweets.sentiment)"
   ]
  },
  {
   "cell_type": "markdown",
   "metadata": {
    "colab_type": "text",
    "id": "FBjxnxFRCS0j"
   },
   "source": [
    "- Tweet_location and user_timezone are correlated with the target variable accorind to kh2 test of independance."
   ]
  },
  {
   "cell_type": "markdown",
   "metadata": {
    "colab_type": "text",
    "id": "bomsBnIQrZJ-"
   },
   "source": [
    "## Tweet's text"
   ]
  },
  {
   "cell_type": "markdown",
   "metadata": {
    "colab_type": "text",
    "id": "nR2ZvSGmrZJ-"
   },
   "source": [
    "Let's print some tweets and see how they look"
   ]
  },
  {
   "cell_type": "code",
   "execution_count": null,
   "metadata": {
    "colab": {
     "base_uri": "https://localhost:8080/",
     "height": 71
    },
    "colab_type": "code",
    "id": "BEiS6RdErZJ_",
    "outputId": "c3823686-af69-425b-ac0e-210c3465c9b7"
   },
   "outputs": [
    {
     "data": {
      "text/plain": [
       "[\"RT @Nice1Parker: #GOPdebates where the bell doesn't mean a thing #dingdingding 😂\",\n",
       " 'RT @ckimbro927: Paul brilliantly got Christie to admit that he would violate the 4th Amendment. Of course, no one in that building cares. #…']"
      ]
     },
     "execution_count": 17,
     "metadata": {
      "tags": []
     },
     "output_type": "execute_result"
    }
   ],
   "source": [
    "tweets.text.sample(2).to_list()"
   ]
  },
  {
   "cell_type": "markdown",
   "metadata": {
    "colab_type": "text",
    "id": "krGxJwinrZKE"
   },
   "source": [
    "Before analyzing tweets some cleaning has to be performed:\n",
    "- remove special caracters.\n",
    "- remove links\n"
   ]
  },
  {
   "cell_type": "code",
   "execution_count": 62,
   "metadata": {},
   "outputs": [],
   "source": [
    "def pre_process_tweets(tweet):\n",
    "    tweet = tweet.replace('RT', '').replace('@', '').replace('#', '')\n",
    "    \n",
    "    # remove links\n",
    "    tweet = re.sub(r'http[s]*\\S+', '', tweet)\n",
    "    \n",
    "    tokens = word_tokenize(tweet)\n",
    "    \n",
    "    tokens = [token for token in tokens if token.isalpha()]\n",
    "    tokens = [token.lower() for token in tokens]\n",
    "    # no lemmatization or stemming since we are going to use pre-trained embeddings\n",
    "    \n",
    "    \n",
    "    # delete stop words\n",
    "    tokens = [token for token in tokens if token not in stop_words]\n",
    "    return tokens\n",
    "\n",
    "tweets['tokens'] = tweets.text.apply(pre_process_tweets)"
   ]
  },
  {
   "cell_type": "markdown",
   "metadata": {},
   "source": [
    "## Topic modeling"
   ]
  },
  {
   "cell_type": "code",
   "execution_count": 63,
   "metadata": {},
   "outputs": [
    {
     "name": "stdout",
     "output_type": "stream",
     "text": [
      "Dictionary(13630 unique tokens: ['change', 'climate', 'everyone', 'exactly', 'feel']...)\n"
     ]
    }
   ],
   "source": [
    "# Create dictionary\n",
    "dictionary = corpora.Dictionary(tweets.tokens)\n",
    "print(dictionary)"
   ]
  },
  {
   "cell_type": "code",
   "execution_count": 77,
   "metadata": {},
   "outputs": [
    {
     "name": "stdout",
     "output_type": "stream",
     "text": [
      "[(0,\n",
      "  '0.027*\"oncoming\" + 0.027*\"leverage\" + 0.024*\"perspective\" + 0.017*\"trivia\" '\n",
      "  '+ 0.016*\"shill\" + 0.013*\"unpredictability\" + 0.010*\"national\" + '\n",
      "  '0.009*\"lnyhbt\" + 0.009*\"flush\" + 0.008*\"parisdennard\"'),\n",
      " (1,\n",
      "  '0.018*\"leverage\" + 0.015*\"jpnet\" + 0.012*\"unpredictability\" + '\n",
      "  '0.011*\"oncoming\" + 0.011*\"lorion\" + 0.008*\"parisdennard\" + 0.008*\"assure\" + '\n",
      "  '0.008*\"essentially\" + 0.008*\"overdue\" + 0.008*\"jacksonville\"'),\n",
      " (2,\n",
      "  '0.015*\"leverage\" + 0.009*\"unpredictability\" + 0.007*\"cqnow\" + '\n",
      "  '0.007*\"goprealityshow\" + 0.005*\"lap\" + 0.005*\"nerdland\" + '\n",
      "  '0.004*\"unfairworld\" + 0.004*\"outta\" + 0.004*\"jeebus\" + '\n",
      "  '0.004*\"parisdennard\"')]\n"
     ]
    }
   ],
   "source": [
    "from sklearn.feature_extraction.text import TfidfVectorizer, CountVectorizer\n",
    "from gensim.matutils import Sparse2Corpus\n",
    "from gensim.models import LdaModel\n",
    "\n",
    "# Instantiate the TF-IDF vectorizer\n",
    "vectorizer = TfidfVectorizer(lowercase=False, analyzer=lambda x: x)\n",
    "\n",
    "# Compute the TF-IDF\n",
    "tf_idf = vectorizer.fit_transform(tweets['tokens'])\n",
    "\n",
    "# Convert the TF-IDF to the needed input for Gensim\n",
    "tf_idf_sklearn = Sparse2Corpus(tf_idf, documents_columns=False)\n",
    "\n",
    "# Compute the LDA\n",
    "lda2 = LdaModel(corpus=tf_idf_sklearn, id2word=dictionary, num_topics=3, passes=10)\n",
    "\n",
    "# Print the main topics\n",
    "pprint(lda2.print_topics())"
   ]
  },
  {
   "cell_type": "code",
   "execution_count": 81,
   "metadata": {},
   "outputs": [
    {
     "data": {
      "text/html": [
       "\n",
       "<link rel=\"stylesheet\" type=\"text/css\" href=\"https://cdn.rawgit.com/bmabey/pyLDAvis/files/ldavis.v1.0.0.css\">\n",
       "\n",
       "\n",
       "<div id=\"ldavis_el1077247748606245781325752\"></div>\n",
       "<script type=\"text/javascript\">\n",
       "\n",
       "var ldavis_el1077247748606245781325752_data = {\"mdsDat\": {\"x\": [-0.07679776468192875, -0.10758722047753967, 0.1843849851594684], \"y\": [0.15350501804601407, -0.1373173951275225, -0.016187622918491584], \"topics\": [1, 2, 3], \"cluster\": [1, 1, 1], \"Freq\": [46.81135559082031, 36.088096618652344, 17.100547790527344]}, \"tinfo\": {\"Term\": [\"oncoming\", \"perspective\", \"jpnet\", \"trivia\", \"shill\", \"leverage\", \"national\", \"assure\", \"essentially\", \"lorion\", \"overdue\", \"jacksonville\", \"referring\", \"flush\", \"sharp\", \"laughable\", \"cqnow\", \"represents\", \"goprealityshow\", \"raulareyes\", \"lnyhbt\", \"unconstitutional\", \"mikewhitmore\", \"takeaways\", \"shut\", \"picture\", \"swinging\", \"tlot\", \"dumbfucks\", \"domestically\", \"goprealityshow\", \"cqnow\", \"jeebus\", \"karrattipaul\", \"twink\", \"nowwww\", \"mostwiselatina\", \"washingtoncartel\", \"scalaiss\", \"releases\", \"stoprush\", \"bpolitics\", \"asked\", \"mrteller\", \"boxing\", \"wmcinally\", \"brandnewsheriff\", \"moderation\", \"notreadyforprimetime\", \"balloon\", \"rushlimbaugh\", \"mediastocks\", \"kills\", \"foxnewssunday\", \"politicalnightmare\", \"alert\", \"plenty\", \"alyssalafage\", \"crawls\", \"valid\", \"dominos\", \"credibility\", \"aduanebrown\", \"suspect\", \"dating\", \"outta\", \"apathycase\", \"nerdland\", \"lap\", \"purposeful\", \"megynkellyforpresident\", \"unfairworld\", \"leverage\", \"blatantly\", \"wink\", \"unpredictability\", \"oriolesfanprobz\", \"donation\", \"christy\", \"deserving\", \"national\", \"parisdennard\", \"deenazarucnn\", \"jpnet\", \"overdue\", \"essentially\", \"jacksonville\", \"referring\", \"assure\", \"raulareyes\", \"represents\", \"mikewhitmore\", \"takeaways\", \"picture\", \"sharp\", \"dumbfucks\", \"arbitrary\", \"unconstitutional\", \"laughable\", \"clown\", \"teamkcp\", \"sjadetx\", \"oops\", \"kkkelly\", \"jonyiveparody\", \"age\", \"circles\", \"ogoper\", \"bites\", \"screenshots\", \"aleister\", \"electability\", \"episode\", \"shaunking\", \"swinging\", \"lorion\", \"boldprogressive\", \"tcmparty\", \"untrue\", \"swapped\", \"truthful\", \"comfortable\", \"concede\", \"decency\", \"leverage\", \"oncoming\", \"unpredictability\", \"parisdennard\", \"shopped\", \"costco\", \"perspective\", \"trivia\", \"flush\", \"tlot\", \"alexandersoros\", \"graduate\", \"bubba\", \"wembley\", \"takedownthegop\", \"chairmanborges\", \"bachelorette\", \"domestically\", \"profjnmoyo\", \"neighbor\", \"trumpiest\", \"disingenuous\", \"racheligraber\", \"crowd\", \"solve\", \"sketch\", \"especislly\", \"trolling\", \"pro\", \"dreadful\", \"justencharters\", \"asshats\", \"rinos\", \"career\", \"safer\", \"shown\", \"jews\", \"shill\", \"bor\", \"oncoming\", \"jennmjack\", \"leverage\", \"national\", \"lnyhbt\", \"shut\", \"visa\", \"unpredictability\", \"parisdennard\", \"dragswolf\", \"angrily\", \"costco\", \"donation\"], \"Freq\": [1134.0, 539.0, 697.0, 388.0, 392.0, 2369.0, 431.0, 395.0, 386.0, 595.0, 378.0, 374.0, 373.0, 207.0, 341.0, 336.0, 446.0, 317.0, 430.0, 313.0, 427.0, 301.0, 280.0, 274.0, 251.0, 274.0, 322.0, 150.0, 264.0, 149.0, 429.0799255371094, 444.8670654296875, 259.0161437988281, 212.89358520507812, 194.2816162109375, 186.8716278076172, 206.91830444335938, 188.33291625976562, 175.26576232910156, 173.81466674804688, 175.2693328857422, 166.16390991210938, 184.70745849609375, 136.62657165527344, 133.16371154785156, 131.887451171875, 134.13414001464844, 132.4621124267578, 128.87303161621094, 128.68898010253906, 118.80239868164062, 114.17810821533203, 116.23839569091797, 123.11959838867188, 144.36109924316406, 122.86911010742188, 105.79366302490234, 105.95160675048828, 105.09477233886719, 183.6589813232422, 125.95125579833984, 118.97775268554688, 242.58143615722656, 128.054931640625, 142.6482391357422, 260.4999694824219, 231.2537841796875, 294.5600891113281, 307.65960693359375, 176.09170532226562, 163.2429962158203, 272.6525573730469, 894.6378173828125, 242.54995727539062, 235.22691345214844, 540.4848022460938, 203.82223510742188, 232.4822235107422, 185.4984893798828, 172.17034912109375, 209.73695373535156, 246.20999145507812, 178.17083740234375, 695.8920288085938, 376.81060791015625, 384.83514404296875, 373.0160217285156, 372.5222473144531, 394.3694152832031, 312.4898986816406, 315.5627746582031, 278.648193359375, 273.37725830078125, 272.724609375, 339.40478515625, 263.07855224609375, 231.73739624023438, 299.20263671875, 334.13873291015625, 185.02554321289062, 183.01573181152344, 122.59420013427734, 112.15354919433594, 119.90818786621094, 108.19180297851562, 102.21562194824219, 96.8176498413086, 90.44072723388672, 63.16804504394531, 63.28628921508789, 75.25959777832031, 64.75287628173828, 55.660125732421875, 61.36768341064453, 303.4150390625, 510.63970947265625, 130.76463317871094, 293.6586608886719, 320.45916748046875, 320.1048278808594, 302.78472900390625, 153.18881225585938, 273.1822814941406, 286.2547912597656, 870.5601806640625, 522.29150390625, 571.6168212890625, 396.0283203125, 222.08224487304688, 216.1172637939453, 536.9451293945312, 385.9247131347656, 204.52713012695312, 148.40750122070312, 145.2882537841797, 141.2972869873047, 136.02813720703125, 145.62030029296875, 131.7481231689453, 133.572265625, 129.2334747314453, 147.135498046875, 116.86775207519531, 118.20137023925781, 110.98047637939453, 110.51460266113281, 110.12258911132812, 109.2789535522461, 106.77989959716797, 105.3985366821289, 101.3142318725586, 101.37401580810547, 101.37401580810547, 100.4410171508789, 96.63658142089844, 96.38168334960938, 83.5731430053711, 75.22532653808594, 68.31021118164062, 63.56051254272461, 72.84237670898438, 365.68927001953125, 122.69612884521484, 611.3453369140625, 108.43413543701172, 604.7072143554688, 220.94241333007812, 210.10797119140625, 152.18264770507812, 117.38677978515625, 292.622314453125, 185.71656799316406, 123.06318664550781, 114.52516174316406, 119.42005920410156, 112.75176239013672], \"Total\": [1134.0, 539.0, 697.0, 388.0, 392.0, 2369.0, 431.0, 395.0, 386.0, 595.0, 378.0, 374.0, 373.0, 207.0, 341.0, 336.0, 446.0, 317.0, 430.0, 313.0, 427.0, 301.0, 280.0, 274.0, 251.0, 274.0, 322.0, 150.0, 264.0, 149.0, 430.66033935546875, 446.7340393066406, 260.5800476074219, 214.47586059570312, 195.8382568359375, 188.42276000976562, 208.67959594726562, 189.94630432128906, 176.77810668945312, 175.3363800048828, 176.81161499023438, 167.69569396972656, 186.4433135986328, 138.175537109375, 134.68447875976562, 133.40211486816406, 135.67544555664062, 133.98617553710938, 130.35826110839844, 130.25576782226562, 120.31591796875, 115.65650177001953, 117.74638366699219, 124.72210693359375, 146.2528076171875, 124.53583526611328, 107.2883529663086, 107.47653198242188, 106.61380767822266, 186.33460998535156, 127.8115234375, 120.74789428710938, 248.27040100097656, 130.21533203125, 146.6783905029297, 287.6003723144531, 252.09579467773438, 336.8102722167969, 381.8988342285156, 202.4259033203125, 183.87657165527344, 397.8460998535156, 2369.9052734375, 348.48291015625, 336.0690002441406, 1404.723876953125, 295.460205078125, 398.7193298339844, 284.6291198730469, 237.67762756347656, 431.89825439453125, 827.954833984375, 318.28436279296875, 697.6384887695312, 378.26336669921875, 386.31903076171875, 374.4684143066406, 373.97314453125, 395.9250183105469, 313.9651184082031, 317.10113525390625, 280.1096496582031, 274.8285217285156, 274.1758728027344, 341.2347106933594, 264.59820556640625, 233.19606018066406, 301.14898681640625, 336.685302734375, 186.52835083007812, 184.5427703857422, 124.11458587646484, 113.60643005371094, 121.48519897460938, 109.67313385009766, 103.6841049194336, 98.2752914428711, 91.90049743652344, 64.6324234008789, 64.76475524902344, 77.11157989501953, 66.38540649414062, 57.11381912231445, 62.989261627197266, 322.1763610839844, 595.8755493164062, 144.6968231201172, 359.6028747558594, 402.57330322265625, 407.98358154296875, 385.1146240234375, 173.7696075439453, 362.14727783203125, 406.9164123535156, 2369.9052734375, 1134.9603271484375, 1404.723876953125, 827.954833984375, 328.3708801269531, 336.5791931152344, 539.9246826171875, 388.9033203125, 207.40740966796875, 150.50259399414062, 147.36611938476562, 143.3557891845703, 138.1236572265625, 147.89320373535156, 133.8123779296875, 135.67124938964844, 131.29473876953125, 149.52020263671875, 118.97923278808594, 120.36125183105469, 113.04753112792969, 112.57711791992188, 112.1854019165039, 111.33782958984375, 108.90435028076172, 107.5197982788086, 103.37425231933594, 103.43663787841797, 103.43663787841797, 102.49684143066406, 98.70038604736328, 98.44022369384766, 85.84362030029297, 77.28377532958984, 70.44308471679688, 65.65885925292969, 75.27536010742188, 392.06512451171875, 131.28233337402344, 1134.9603271484375, 125.87928009033203, 2369.9052734375, 431.89825439453125, 427.89178466796875, 251.87277221679688, 147.62261962890625, 1404.723876953125, 827.954833984375, 213.13665771484375, 185.1121063232422, 336.5791931152344, 398.7193298339844], \"Category\": [\"Default\", \"Default\", \"Default\", \"Default\", \"Default\", \"Default\", \"Default\", \"Default\", \"Default\", \"Default\", \"Default\", \"Default\", \"Default\", \"Default\", \"Default\", \"Default\", \"Default\", \"Default\", \"Default\", \"Default\", \"Default\", \"Default\", \"Default\", \"Default\", \"Default\", \"Default\", \"Default\", \"Default\", \"Default\", \"Default\", \"Topic1\", \"Topic1\", \"Topic1\", \"Topic1\", \"Topic1\", \"Topic1\", \"Topic1\", \"Topic1\", \"Topic1\", \"Topic1\", \"Topic1\", \"Topic1\", \"Topic1\", \"Topic1\", \"Topic1\", \"Topic1\", \"Topic1\", \"Topic1\", \"Topic1\", \"Topic1\", \"Topic1\", \"Topic1\", \"Topic1\", \"Topic1\", \"Topic1\", \"Topic1\", \"Topic1\", \"Topic1\", \"Topic1\", \"Topic1\", \"Topic1\", \"Topic1\", \"Topic1\", \"Topic1\", \"Topic1\", \"Topic1\", \"Topic1\", \"Topic1\", \"Topic1\", \"Topic1\", \"Topic1\", \"Topic1\", \"Topic1\", \"Topic1\", \"Topic1\", \"Topic1\", \"Topic1\", \"Topic1\", \"Topic1\", \"Topic1\", \"Topic1\", \"Topic1\", \"Topic1\", \"Topic2\", \"Topic2\", \"Topic2\", \"Topic2\", \"Topic2\", \"Topic2\", \"Topic2\", \"Topic2\", \"Topic2\", \"Topic2\", \"Topic2\", \"Topic2\", \"Topic2\", \"Topic2\", \"Topic2\", \"Topic2\", \"Topic2\", \"Topic2\", \"Topic2\", \"Topic2\", \"Topic2\", \"Topic2\", \"Topic2\", \"Topic2\", \"Topic2\", \"Topic2\", \"Topic2\", \"Topic2\", \"Topic2\", \"Topic2\", \"Topic2\", \"Topic2\", \"Topic2\", \"Topic2\", \"Topic2\", \"Topic2\", \"Topic2\", \"Topic2\", \"Topic2\", \"Topic2\", \"Topic2\", \"Topic2\", \"Topic2\", \"Topic2\", \"Topic2\", \"Topic2\", \"Topic2\", \"Topic3\", \"Topic3\", \"Topic3\", \"Topic3\", \"Topic3\", \"Topic3\", \"Topic3\", \"Topic3\", \"Topic3\", \"Topic3\", \"Topic3\", \"Topic3\", \"Topic3\", \"Topic3\", \"Topic3\", \"Topic3\", \"Topic3\", \"Topic3\", \"Topic3\", \"Topic3\", \"Topic3\", \"Topic3\", \"Topic3\", \"Topic3\", \"Topic3\", \"Topic3\", \"Topic3\", \"Topic3\", \"Topic3\", \"Topic3\", \"Topic3\", \"Topic3\", \"Topic3\", \"Topic3\", \"Topic3\", \"Topic3\", \"Topic3\", \"Topic3\", \"Topic3\", \"Topic3\", \"Topic3\", \"Topic3\", \"Topic3\", \"Topic3\", \"Topic3\", \"Topic3\"], \"logprob\": [30.0, 29.0, 28.0, 27.0, 26.0, 25.0, 24.0, 23.0, 22.0, 21.0, 20.0, 19.0, 18.0, 17.0, 16.0, 15.0, 14.0, 13.0, 12.0, 11.0, 10.0, 9.0, 8.0, 7.0, 6.0, 5.0, 4.0, 3.0, 2.0, 1.0, -4.960899829864502, -4.924699783325195, -5.46560001373291, -5.6616997718811035, -5.753200054168701, -5.792099952697754, -5.690199851989746, -5.784299850463867, -5.856200218200684, -5.864500045776367, -5.856200218200684, -5.909599781036377, -5.803800106048584, -6.105299949645996, -6.130899906158447, -6.140600204467773, -6.123700141906738, -6.136199951171875, -6.163700103759766, -6.16510009765625, -6.245100021362305, -6.284800052642822, -6.266900062561035, -6.209400177001953, -6.05019998550415, -6.211400032043457, -6.361000061035156, -6.359499931335449, -6.367700099945068, -5.8094000816345215, -6.186600208282471, -6.243599891662598, -5.531199932098389, -6.170100212097168, -6.062099933624268, -5.45989990234375, -5.578999996185303, -5.336999893188477, -5.293499946594238, -5.851500034332275, -5.927299976348877, -5.414299964904785, -4.226099967956543, -5.531300067901611, -5.561999797821045, -4.730100154876709, -5.7052998542785645, -5.573699951171875, -5.799499988555908, -5.874000072479248, -5.676700115203857, -5.516300201416016, -5.839799880981445, -4.217199802398682, -4.830599784851074, -4.809500217437744, -4.840700149536133, -4.842100143432617, -4.785099983215332, -5.0177998542785645, -5.007999897003174, -5.132400035858154, -5.151500225067139, -5.153900146484375, -4.935200214385986, -5.189899921417236, -5.316800117492676, -5.061200141906738, -4.950799942016602, -5.541900157928467, -5.552800178527832, -5.953499794006348, -6.042500019073486, -5.975599765777588, -6.078499794006348, -6.135300159454346, -6.189499855041504, -6.257699966430664, -6.616600036621094, -6.614699840545654, -6.441400051116943, -6.591800212860107, -6.743100166320801, -6.645500183105469, -5.047299861907959, -4.526700019836426, -5.888999938964844, -5.079899787902832, -4.992599964141846, -4.99370002746582, -5.049300193786621, -5.7307000160217285, -5.152200222015381, -5.105500221252441, -3.9932000637054443, -4.5040998458862305, -4.413899898529053, -4.780900001525879, -5.359300136566162, -5.386499881744385, -3.729599952697754, -4.059899806976318, -4.694799900054932, -5.015500068664551, -5.036799907684326, -5.064599990844727, -5.10260009765625, -5.0345001220703125, -5.1346001625061035, -5.1209001541137695, -5.153900146484375, -5.024199962615967, -5.254499912261963, -5.243100166320801, -5.30620002746582, -5.310400009155273, -5.313899993896484, -5.321599960327148, -5.344699859619141, -5.357800006866455, -5.397299766540527, -5.396699905395508, -5.396699905395508, -5.405900001525879, -5.4446001052856445, -5.447199821472168, -5.589799880981445, -5.695000171661377, -5.791500091552734, -5.863500118255615, -5.727200031280518, -4.113699913024902, -5.2058000564575195, -3.5998001098632812, -5.329400062561035, -3.61080002784729, -4.617599964141846, -4.667900085449219, -4.9903998374938965, -5.25, -4.336599826812744, -4.791299819946289, -5.2027997970581055, -5.274700164794922, -5.232900142669678, -5.290299892425537], \"loglift\": [30.0, 29.0, 28.0, 27.0, 26.0, 25.0, 24.0, 23.0, 22.0, 21.0, 20.0, 19.0, 18.0, 17.0, 16.0, 15.0, 14.0, 13.0, 12.0, 11.0, 10.0, 9.0, 8.0, 7.0, 6.0, 5.0, 4.0, 3.0, 2.0, 1.0, 0.7554000020027161, 0.7548999786376953, 0.753000020980835, 0.7516000270843506, 0.7511000037193298, 0.7508000135421753, 0.7505999803543091, 0.7505000233650208, 0.7505000233650208, 0.7502999901771545, 0.7502999901771545, 0.7498999834060669, 0.7497000098228455, 0.7477999925613403, 0.7476999759674072, 0.7476000189781189, 0.7476000189781189, 0.7476000189781189, 0.7476000189781189, 0.7469000220298767, 0.746399998664856, 0.7462000250816345, 0.7462000250816345, 0.7461000084877014, 0.7459999918937683, 0.7455999851226807, 0.7450000047683716, 0.7447999715805054, 0.744700014591217, 0.7445999979972839, 0.7444000244140625, 0.7443000078201294, 0.7358999848365784, 0.7422999739646912, 0.7311999797821045, 0.660099983215332, 0.6728000044822693, 0.625, 0.542900025844574, 0.619700014591217, 0.6399999856948853, 0.38119998574256897, -0.2151000052690506, 0.396699994802475, 0.40230000019073486, -0.19609999656677246, 0.387800008058548, 0.21960000693798065, 0.33090001344680786, 0.436599999666214, 0.03669999912381172, -0.4537000060081482, 0.17880000174045563, 1.016700029373169, 1.0154000520706177, 1.0154000520706177, 1.0153000354766846, 1.0153000354766846, 1.0153000354766846, 1.0145000219345093, 1.014299988746643, 1.0140000581741333, 1.0139000415802002, 1.0139000415802002, 1.013800024986267, 1.0133999586105347, 1.0128999948501587, 1.0126999616622925, 1.0116000175476074, 1.0111000537872314, 1.0109000205993652, 1.0068999528884888, 1.0062999725341797, 1.006100058555603, 1.0055999755859375, 1.0048999786376953, 1.0042999982833862, 1.0032000541687012, 0.9962999820709229, 0.9961000084877014, 0.9948999881744385, 0.9943000078201294, 0.993399977684021, 0.9930999875068665, 0.9592000246047974, 0.864799976348877, 0.9179999828338623, 0.8166000247001648, 0.791100025177002, 0.7766000032424927, 0.7786999940872192, 0.8931000232696533, 0.7372999787330627, 0.6675000190734863, 0.01769999973475933, 0.24310000240802765, 0.1200999990105629, 0.2816999852657318, 0.6280999779701233, 0.576200008392334, 1.7604999542236328, 1.7583999633789062, 1.7520999908447266, 1.7519999742507935, 1.7518999576568604, 1.7516000270843506, 1.7508000135421753, 1.750599980354309, 1.750499963760376, 1.750499963760376, 1.7502000331878662, 1.75, 1.7482000589370728, 1.7480000257492065, 1.7475999593734741, 1.7475999593734741, 1.747499942779541, 1.7474000453948975, 1.746399998664856, 1.7460999488830566, 1.74590003490448, 1.74590003490448, 1.74590003490448, 1.7458000183105469, 1.7448999881744385, 1.7448999881744385, 1.739300012588501, 1.7390999794006348, 1.7352999448776245, 1.7336000204086304, 1.733199954032898, 1.6964000463485718, 1.6984000205993652, 1.1474000215530396, 1.6168999671936035, 0.4002000093460083, 1.0958000421524048, 1.054800033569336, 1.2621999979019165, 1.5369000434875488, 0.1973000019788742, 0.27129998803138733, 1.2167999744415283, 1.2858999967575073, 0.7299000024795532, 0.503000020980835]}, \"token.table\": {\"Topic\": [1, 2, 1, 2, 1, 2, 1, 2, 1, 2, 3, 1, 2, 1, 2, 3, 1, 2, 3, 1, 2, 1, 2, 3, 1, 2, 3, 1, 2, 1, 2, 3, 1, 2, 1, 2, 1, 2, 3, 1, 2, 1, 2, 3, 1, 2, 1, 2, 1, 2, 1, 2, 3, 1, 2, 3, 1, 2, 3, 1, 2, 3, 1, 2, 1, 2, 1, 2, 3, 1, 2, 3, 1, 2, 3, 1, 2, 1, 2, 1, 2, 3, 1, 2, 3, 1, 2, 3, 1, 2, 3, 1, 2, 3, 1, 2, 3, 1, 2, 3, 1, 2, 3, 1, 2, 1, 2, 3, 1, 2, 3, 1, 2, 3, 1, 2, 1, 2, 1, 2, 1, 2, 3, 1, 2, 1, 2, 3, 1, 2, 1, 2, 1, 2, 3, 1, 2, 1, 2, 1, 2, 3, 1, 2, 3, 1, 2, 1, 2, 1, 2, 3, 1, 2, 1, 2, 1, 2, 1, 2, 3, 1, 2, 3, 1, 2, 3, 1, 2, 3, 1, 2, 3, 1, 2, 1, 2, 3, 1, 2, 1, 2, 1, 2, 1, 2, 1, 2, 3, 1, 2, 3, 1, 2, 3, 1, 2, 1, 2, 3, 1, 2, 1, 2, 3, 1, 2, 1, 2, 3, 1, 2, 3, 1, 2, 1, 2, 3, 1, 2, 3, 1, 2, 1, 2, 1, 2, 1, 2, 3, 1, 2, 3, 1, 2, 3, 1, 2, 3, 1, 2, 1, 2, 1, 2, 1, 2, 3, 1, 2, 3, 1, 2, 1, 2, 3, 1, 2, 1, 2, 1, 2, 1, 2, 1, 2, 3, 1, 2, 3, 1, 2, 3, 1, 2, 3, 1, 2, 1, 2, 3, 1, 2, 3, 1, 2, 1, 2, 3, 1, 2, 3, 1, 2, 1, 2, 1, 2, 3, 1, 2, 1, 2, 3, 1, 2, 3, 1, 2, 3, 1, 2, 3, 1, 2, 3, 1, 2, 3, 1, 2, 1, 2, 3, 1, 2, 3, 1, 2, 3, 1, 2, 1, 2, 3, 1, 2, 3, 1, 2, 3, 1, 2, 3, 1, 2, 3, 1, 2], \"Freq\": [0.9787715077400208, 0.020139330998063087, 0.009644679725170135, 0.9837573766708374, 0.012968220748007298, 0.9726165533065796, 0.9876675009727478, 0.0080298176035285, 0.006785820238292217, 0.006785820238292217, 0.9839439392089844, 0.9862618446350098, 0.009304356761276722, 0.2593023180961609, 0.12424903362989426, 0.6212451457977295, 0.9163183569908142, 0.003966745920479298, 0.07536817342042923, 0.004288237076252699, 0.9948710203170776, 0.9922587275505066, 0.005363560747355223, 0.005363560747355223, 0.010158449411392212, 0.010158449411392212, 0.9752110838890076, 0.0025257307570427656, 0.9951379299163818, 0.007616451475769281, 0.007616451475769281, 0.9825222492218018, 0.9903591871261597, 0.007677203044295311, 0.015472110360860825, 0.9747429490089417, 0.6973082423210144, 0.28982770442962646, 0.014347906224429607, 0.0898430198431015, 0.9053412079811096, 0.060937367379665375, 0.007617170922458172, 0.9369120597839355, 0.9874931573867798, 0.007424760609865189, 0.9898882508277893, 0.005963182542473078, 0.9876510500907898, 0.007370530627667904, 0.007239889353513718, 0.007239889353513718, 0.984624981880188, 0.012939326465129852, 0.012939326465129852, 0.9704495072364807, 0.007370758336037397, 0.007370758336037397, 0.9876816272735596, 0.6499686241149902, 0.0035133438650518656, 0.34430772066116333, 0.010175497271120548, 0.9870232939720154, 0.0053611150942742825, 0.9918063282966614, 0.005754746496677399, 0.880476176738739, 0.11509492248296738, 0.055226150900125504, 0.7538369297981262, 0.18776890635490417, 0.0029710689559578896, 0.6417508721351624, 0.35355719923973083, 0.996118426322937, 0.0022384682670235634, 0.9848630428314209, 0.009379647672176361, 0.9855244159698486, 0.008281718008220196, 0.008281718008220196, 0.008981673046946526, 0.008981673046946526, 0.9790023565292358, 0.9749220609664917, 0.006817637011408806, 0.020452911034226418, 0.27524080872535706, 0.7028470635414124, 0.02211756445467472, 0.5592483282089233, 0.3016170859336853, 0.13824115693569183, 0.7236692905426025, 0.06311069428920746, 0.21036897599697113, 0.008882800117135048, 0.008882800117135048, 0.9859907627105713, 0.0066880593076348305, 0.0066880593076348305, 0.9831447601318359, 0.9858266115188599, 0.007824020460247993, 0.5818629264831543, 0.1329255849123001, 0.28340739011764526, 0.4175724685192108, 0.004691825248301029, 0.577094554901123, 0.009756398387253284, 0.009756398387253284, 0.975639820098877, 0.0037793151568621397, 0.993959903717041, 0.015063551254570484, 0.9791308641433716, 0.017508897930383682, 0.9804982542991638, 0.009673588909208775, 0.009673588909208775, 0.977032482624054, 0.002588534029200673, 0.9965856671333313, 0.0048214285634458065, 0.009642857126891613, 0.9883928298950195, 0.9861924648284912, 0.008017824962735176, 0.9961446523666382, 0.0023220155853778124, 0.006975651253014803, 0.006975651253014803, 0.9835668206214905, 0.002670452231541276, 0.9960786700248718, 0.9939364194869995, 0.0038375924341380596, 0.12710590660572052, 0.007944119162857533, 0.8579648733139038, 0.013284559361636639, 0.013284559361636639, 0.9697728157043457, 0.009118003770709038, 0.9847443699836731, 0.0014334071893244982, 0.9976513981819153, 0.010131672956049442, 0.010131672956049442, 0.9827722311019897, 0.9931187629699707, 0.004662529565393925, 0.9851682782173157, 0.008492830209434032, 0.008231455460190773, 0.987774670124054, 0.8064963221549988, 0.1361617147922516, 0.057606879621744156, 0.0029701325111091137, 0.992024302482605, 0.0029701325111091137, 0.37765222787857056, 0.36752524971961975, 0.25528445839881897, 0.3715892732143402, 0.13788533210754395, 0.4907782971858978, 0.0016782027669250965, 0.8575615882873535, 0.14096903800964355, 0.9856774210929871, 0.008646292611956596, 0.8864642381668091, 0.10876861214637756, 0.005438430700451136, 0.0035700304433703423, 0.9960384964942932, 0.9851762652397156, 0.007463456597179174, 0.9919513463973999, 0.004792035557329655, 0.9914924502372742, 0.007237171288579702, 0.4862256348133087, 0.0023153601214289665, 0.511694610118866, 0.008308321237564087, 0.008308321237564087, 0.980381965637207, 0.8758640289306641, 0.0029690305236727, 0.1217302531003952, 0.9895805716514587, 0.007671167142689228, 0.9924491047859192, 0.005307214334607124, 0.005307214334607124, 0.010881333611905575, 0.9793200492858887, 0.000881088082678616, 0.4599279761314392, 0.5383448004722595, 0.008802318945527077, 0.9858596920967102, 0.6904482841491699, 0.3079940974712372, 0.00338455056771636, 0.9040322303771973, 0.010431140661239624, 0.08344912528991699, 0.002643660642206669, 0.9966601133346558, 0.2971176505088806, 0.4782869517803192, 0.22464993596076965, 0.003704220289364457, 0.0018521101446822286, 0.9945831894874573, 0.003647293895483017, 0.9957112669944763, 0.9879916906356812, 0.009320676326751709, 0.9845964908599854, 0.0068374755792319775, 0.009667754173278809, 0.009667754173278809, 0.9764431715011597, 0.008404827676713467, 0.008404827676713467, 0.9833648800849915, 0.8694539666175842, 0.0049400790594518185, 0.1235019788146019, 0.008913815952837467, 0.008913815952837467, 0.980519711971283, 0.003185067092999816, 0.993740975856781, 0.0026739886961877346, 0.9973978400230408, 0.9923781752586365, 0.005703323055058718, 0.003153568133711815, 0.9965274930000305, 0.003153568133711815, 0.011649088934063911, 0.011649088934063911, 0.9785234928131104, 0.9890627861022949, 0.008311452344059944, 0.01419585756957531, 0.01419585756957531, 0.9653183221817017, 0.9899415969848633, 0.005656809080392122, 0.015440496616065502, 0.9727513194084167, 0.002930534305050969, 0.9934511184692383, 0.015875721350312233, 0.9684190154075623, 0.06376491487026215, 0.0025505966041237116, 0.9335184097290039, 0.0030453370418399572, 0.6760648488998413, 0.31976038217544556, 0.015230237506330013, 0.015230237506330013, 0.9747352004051208, 0.39305558800697327, 0.00397025840356946, 0.603479266166687, 0.008057070896029472, 0.9910197257995605, 0.009300612844526768, 0.009300612844526768, 0.976564347743988, 0.009182369336485863, 0.009182369336485863, 0.9825135469436646, 0.9897539615631104, 0.00565573712810874, 0.9829871654510498, 0.015359174460172653, 0.007679587230086327, 0.1936352401971817, 0.784345269203186, 0.022059710696339607, 0.055870022624731064, 0.9404786825180054, 0.003638632595539093, 0.9933466911315918, 0.00747315026819706, 0.00747315026819706, 0.9864557981491089, 0.18075494468212128, 0.8175685405731201, 0.005418797954916954, 0.991640031337738, 0.005418797954916954, 0.00664440356194973, 0.00664440356194973, 0.9833717346191406, 0.005142666399478912, 0.002571333199739456, 0.9925345778465271, 0.009667754173278809, 0.009667754173278809, 0.9764431715011597, 0.008845836855471134, 0.008845836855471134, 0.9818878769874573, 0.09347866475582123, 0.7867787480354309, 0.11944495886564255, 0.9906134009361267, 0.005106254480779171, 0.003320615505799651, 0.9928640127182007, 0.003320615505799651, 0.6861950159072876, 0.3141918480396271, 0.0025135348550975323, 0.38441717624664307, 0.4071974754333496, 0.20858192443847656, 0.2036896049976349, 0.7948862910270691, 0.9874708652496338, 0.005366689525544643, 0.010733379051089287, 0.19644686579704285, 0.006774029694497585, 0.7925614714622498, 0.9897534251213074, 0.005264645908027887, 0.005264645908027887, 0.00676163611933589, 0.00676163611933589, 0.9871988296508789, 0.6992611885070801, 0.28268003463745117, 0.017853476107120514, 0.9894895553588867, 0.007496132981032133], \"Term\": [\"aduanebrown\", \"aduanebrown\", \"age\", \"age\", \"aleister\", \"aleister\", \"alert\", \"alert\", \"alexandersoros\", \"alexandersoros\", \"alexandersoros\", \"alyssalafage\", \"alyssalafage\", \"angrily\", \"angrily\", \"angrily\", \"apathycase\", \"apathycase\", \"apathycase\", \"arbitrary\", \"arbitrary\", \"asked\", \"asked\", \"asked\", \"asshats\", \"asshats\", \"asshats\", \"assure\", \"assure\", \"bachelorette\", \"bachelorette\", \"bachelorette\", \"balloon\", \"balloon\", \"bites\", \"bites\", \"blatantly\", \"blatantly\", \"blatantly\", \"boldprogressive\", \"boldprogressive\", \"bor\", \"bor\", \"bor\", \"boxing\", \"boxing\", \"bpolitics\", \"bpolitics\", \"brandnewsheriff\", \"brandnewsheriff\", \"bubba\", \"bubba\", \"bubba\", \"career\", \"career\", \"career\", \"chairmanborges\", \"chairmanborges\", \"chairmanborges\", \"christy\", \"christy\", \"christy\", \"circles\", \"circles\", \"clown\", \"clown\", \"comfortable\", \"comfortable\", \"comfortable\", \"concede\", \"concede\", \"concede\", \"costco\", \"costco\", \"costco\", \"cqnow\", \"cqnow\", \"crawls\", \"crawls\", \"credibility\", \"credibility\", \"credibility\", \"crowd\", \"crowd\", \"crowd\", \"dating\", \"dating\", \"dating\", \"decency\", \"decency\", \"decency\", \"deenazarucnn\", \"deenazarucnn\", \"deenazarucnn\", \"deserving\", \"deserving\", \"deserving\", \"disingenuous\", \"disingenuous\", \"disingenuous\", \"domestically\", \"domestically\", \"domestically\", \"dominos\", \"dominos\", \"donation\", \"donation\", \"donation\", \"dragswolf\", \"dragswolf\", \"dragswolf\", \"dreadful\", \"dreadful\", \"dreadful\", \"dumbfucks\", \"dumbfucks\", \"electability\", \"electability\", \"episode\", \"episode\", \"especislly\", \"especislly\", \"especislly\", \"essentially\", \"essentially\", \"flush\", \"flush\", \"flush\", \"foxnewssunday\", \"foxnewssunday\", \"goprealityshow\", \"goprealityshow\", \"graduate\", \"graduate\", \"graduate\", \"jacksonville\", \"jacksonville\", \"jeebus\", \"jeebus\", \"jennmjack\", \"jennmjack\", \"jennmjack\", \"jews\", \"jews\", \"jews\", \"jonyiveparody\", \"jonyiveparody\", \"jpnet\", \"jpnet\", \"justencharters\", \"justencharters\", \"justencharters\", \"karrattipaul\", \"karrattipaul\", \"kills\", \"kills\", \"kkkelly\", \"kkkelly\", \"lap\", \"lap\", \"lap\", \"laughable\", \"laughable\", \"laughable\", \"leverage\", \"leverage\", \"leverage\", \"lnyhbt\", \"lnyhbt\", \"lnyhbt\", \"lorion\", \"lorion\", \"lorion\", \"mediastocks\", \"mediastocks\", \"megynkellyforpresident\", \"megynkellyforpresident\", \"megynkellyforpresident\", \"mikewhitmore\", \"mikewhitmore\", \"moderation\", \"moderation\", \"mostwiselatina\", \"mostwiselatina\", \"mrteller\", \"mrteller\", \"national\", \"national\", \"national\", \"neighbor\", \"neighbor\", \"neighbor\", \"nerdland\", \"nerdland\", \"nerdland\", \"notreadyforprimetime\", \"notreadyforprimetime\", \"nowwww\", \"nowwww\", \"nowwww\", \"ogoper\", \"ogoper\", \"oncoming\", \"oncoming\", \"oncoming\", \"oops\", \"oops\", \"oriolesfanprobz\", \"oriolesfanprobz\", \"oriolesfanprobz\", \"outta\", \"outta\", \"outta\", \"overdue\", \"overdue\", \"parisdennard\", \"parisdennard\", \"parisdennard\", \"perspective\", \"perspective\", \"perspective\", \"picture\", \"picture\", \"plenty\", \"plenty\", \"politicalnightmare\", \"politicalnightmare\", \"pro\", \"pro\", \"pro\", \"profjnmoyo\", \"profjnmoyo\", \"profjnmoyo\", \"purposeful\", \"purposeful\", \"purposeful\", \"racheligraber\", \"racheligraber\", \"racheligraber\", \"raulareyes\", \"raulareyes\", \"referring\", \"referring\", \"releases\", \"releases\", \"represents\", \"represents\", \"represents\", \"rinos\", \"rinos\", \"rinos\", \"rushlimbaugh\", \"rushlimbaugh\", \"safer\", \"safer\", \"safer\", \"scalaiss\", \"scalaiss\", \"screenshots\", \"screenshots\", \"sharp\", \"sharp\", \"shaunking\", \"shaunking\", \"shill\", \"shill\", \"shill\", \"shopped\", \"shopped\", \"shopped\", \"shown\", \"shown\", \"shown\", \"shut\", \"shut\", \"shut\", \"sjadetx\", \"sjadetx\", \"sketch\", \"sketch\", \"sketch\", \"solve\", \"solve\", \"solve\", \"stoprush\", \"stoprush\", \"suspect\", \"suspect\", \"suspect\", \"swapped\", \"swapped\", \"swapped\", \"swinging\", \"swinging\", \"takeaways\", \"takeaways\", \"takedownthegop\", \"takedownthegop\", \"takedownthegop\", \"tcmparty\", \"tcmparty\", \"teamkcp\", \"teamkcp\", \"teamkcp\", \"tlot\", \"tlot\", \"tlot\", \"trivia\", \"trivia\", \"trivia\", \"trolling\", \"trolling\", \"trolling\", \"trumpiest\", \"trumpiest\", \"trumpiest\", \"truthful\", \"truthful\", \"truthful\", \"twink\", \"twink\", \"unconstitutional\", \"unconstitutional\", \"unconstitutional\", \"unfairworld\", \"unfairworld\", \"unfairworld\", \"unpredictability\", \"unpredictability\", \"unpredictability\", \"untrue\", \"untrue\", \"valid\", \"valid\", \"valid\", \"visa\", \"visa\", \"visa\", \"washingtoncartel\", \"washingtoncartel\", \"washingtoncartel\", \"wembley\", \"wembley\", \"wembley\", \"wink\", \"wink\", \"wink\", \"wmcinally\", \"wmcinally\"]}, \"R\": 30, \"lambda.step\": 0.01, \"plot.opts\": {\"xlab\": \"PC1\", \"ylab\": \"PC2\"}, \"topic.order\": [3, 2, 1]};\n",
       "\n",
       "function LDAvis_load_lib(url, callback){\n",
       "  var s = document.createElement('script');\n",
       "  s.src = url;\n",
       "  s.async = true;\n",
       "  s.onreadystatechange = s.onload = callback;\n",
       "  s.onerror = function(){console.warn(\"failed to load library \" + url);};\n",
       "  document.getElementsByTagName(\"head\")[0].appendChild(s);\n",
       "}\n",
       "\n",
       "if(typeof(LDAvis) !== \"undefined\"){\n",
       "   // already loaded: just create the visualization\n",
       "   !function(LDAvis){\n",
       "       new LDAvis(\"#\" + \"ldavis_el1077247748606245781325752\", ldavis_el1077247748606245781325752_data);\n",
       "   }(LDAvis);\n",
       "}else if(typeof define === \"function\" && define.amd){\n",
       "   // require.js is available: use it to load d3/LDAvis\n",
       "   require.config({paths: {d3: \"https://cdnjs.cloudflare.com/ajax/libs/d3/3.5.5/d3.min\"}});\n",
       "   require([\"d3\"], function(d3){\n",
       "      window.d3 = d3;\n",
       "      LDAvis_load_lib(\"https://cdn.rawgit.com/bmabey/pyLDAvis/files/ldavis.v1.0.0.js\", function(){\n",
       "        new LDAvis(\"#\" + \"ldavis_el1077247748606245781325752\", ldavis_el1077247748606245781325752_data);\n",
       "      });\n",
       "    });\n",
       "}else{\n",
       "    // require.js not available: dynamically load d3 & LDAvis\n",
       "    LDAvis_load_lib(\"https://cdnjs.cloudflare.com/ajax/libs/d3/3.5.5/d3.min.js\", function(){\n",
       "         LDAvis_load_lib(\"https://cdn.rawgit.com/bmabey/pyLDAvis/files/ldavis.v1.0.0.js\", function(){\n",
       "                 new LDAvis(\"#\" + \"ldavis_el1077247748606245781325752\", ldavis_el1077247748606245781325752_data);\n",
       "            })\n",
       "         });\n",
       "}\n",
       "</script>"
      ],
      "text/plain": [
       "PreparedData(topic_coordinates=              x         y  topics  cluster       Freq\n",
       "topic                                                \n",
       "2     -0.076798  0.153505       1        1  46.811356\n",
       "1     -0.107587 -0.137317       2        1  36.088097\n",
       "0      0.184385 -0.016188       3        1  17.100548, topic_info=               Term         Freq        Total Category  logprob  loglift\n",
       "10358      oncoming  1134.000000  1134.000000  Default  30.0000  30.0000\n",
       "4546    perspective   539.000000   539.000000  Default  29.0000  29.0000\n",
       "1612          jpnet   697.000000   697.000000  Default  28.0000  28.0000\n",
       "8160         trivia   388.000000   388.000000  Default  27.0000  27.0000\n",
       "9719          shill   392.000000   392.000000  Default  26.0000  26.0000\n",
       "...             ...          ...          ...      ...      ...      ...\n",
       "12500  parisdennard   185.716568   827.954834   Topic3  -4.7913   0.2713\n",
       "9545      dragswolf   123.063187   213.136658   Topic3  -5.2028   1.2168\n",
       "13159       angrily   114.525162   185.112106   Topic3  -5.2747   1.2859\n",
       "13101        costco   119.420059   336.579193   Topic3  -5.2329   0.7299\n",
       "422        donation   112.751762   398.719330   Topic3  -5.2903   0.5030\n",
       "\n",
       "[176 rows x 6 columns], token_table=       Topic      Freq         Term\n",
       "term                               \n",
       "11691      1  0.978772  aduanebrown\n",
       "11691      2  0.020139  aduanebrown\n",
       "3875       1  0.009645          age\n",
       "3875       2  0.983757          age\n",
       "13536      1  0.012968     aleister\n",
       "...      ...       ...          ...\n",
       "6781       1  0.699261         wink\n",
       "6781       2  0.282680         wink\n",
       "6781       3  0.017853         wink\n",
       "11169      1  0.989490    wmcinally\n",
       "11169      2  0.007496    wmcinally\n",
       "\n",
       "[349 rows x 3 columns], R=30, lambda_step=0.01, plot_opts={'xlab': 'PC1', 'ylab': 'PC2'}, topic_order=[3, 2, 1])"
      ]
     },
     "execution_count": 81,
     "metadata": {},
     "output_type": "execute_result"
    }
   ],
   "source": [
    "# Import the modules\n",
    "import pyLDAvis\n",
    "import pyLDAvis.gensim\n",
    "\n",
    "bow = [dictionary.doc2bow(token) for token in tweets.tokens]\n",
    "\n",
    "# Visualize the topics\n",
    "pyLDAvis.enable_notebook()\n",
    "vis = pyLDAvis.gensim.prepare(topic_model=lda2, corpus=bow, dictionary=dictionary)\n",
    "vis"
   ]
  },
  {
   "cell_type": "markdown",
   "metadata": {},
   "source": [
    "It is not easy to intuitevely see what are the underlying topics from LDA results."
   ]
  },
  {
   "cell_type": "code",
   "execution_count": 302,
   "metadata": {
    "scrolled": true
   },
   "outputs": [
    {
     "data": {
      "text/html": [
       "<div>\n",
       "<style scoped>\n",
       "    .dataframe tbody tr th:only-of-type {\n",
       "        vertical-align: middle;\n",
       "    }\n",
       "\n",
       "    .dataframe tbody tr th {\n",
       "        vertical-align: top;\n",
       "    }\n",
       "\n",
       "    .dataframe thead th {\n",
       "        text-align: right;\n",
       "    }\n",
       "</style>\n",
       "<table border=\"1\" class=\"dataframe\">\n",
       "  <thead>\n",
       "    <tr style=\"text-align: right;\">\n",
       "      <th></th>\n",
       "      <th>text</th>\n",
       "      <th>tweet_len</th>\n",
       "      <th>num_words</th>\n",
       "      <th>nunique_words</th>\n",
       "      <th>words_diversity</th>\n",
       "      <th>sentiment</th>\n",
       "    </tr>\n",
       "  </thead>\n",
       "  <tbody>\n",
       "    <tr>\n",
       "      <th>826</th>\n",
       "      <td>BBCJonSopel: Listening to Donald Trump2016 yo...</td>\n",
       "      <td>112</td>\n",
       "      <td>18</td>\n",
       "      <td>18</td>\n",
       "      <td>1.000000</td>\n",
       "      <td>Negative</td>\n",
       "    </tr>\n",
       "    <tr>\n",
       "      <th>8530</th>\n",
       "      <td>RWSurferGirl: So megynkelly posed for adult p...</td>\n",
       "      <td>100</td>\n",
       "      <td>13</td>\n",
       "      <td>13</td>\n",
       "      <td>1.000000</td>\n",
       "      <td>Neutral</td>\n",
       "    </tr>\n",
       "    <tr>\n",
       "      <th>3124</th>\n",
       "      <td>Doesn't it bother anyone that the GOP is prima...</td>\n",
       "      <td>143</td>\n",
       "      <td>26</td>\n",
       "      <td>24</td>\n",
       "      <td>0.923077</td>\n",
       "      <td>Negative</td>\n",
       "    </tr>\n",
       "    <tr>\n",
       "      <th>8433</th>\n",
       "      <td>larryelder: Trump should have said, \"Megyn, a...</td>\n",
       "      <td>136</td>\n",
       "      <td>22</td>\n",
       "      <td>22</td>\n",
       "      <td>1.000000</td>\n",
       "      <td>Negative</td>\n",
       "    </tr>\n",
       "    <tr>\n",
       "      <th>5113</th>\n",
       "      <td>Lol- I just realized there are people that are...</td>\n",
       "      <td>113</td>\n",
       "      <td>20</td>\n",
       "      <td>19</td>\n",
       "      <td>0.950000</td>\n",
       "      <td>Negative</td>\n",
       "    </tr>\n",
       "  </tbody>\n",
       "</table>\n",
       "</div>"
      ],
      "text/plain": [
       "                                                   text  tweet_len  num_words  \\\n",
       "826    BBCJonSopel: Listening to Donald Trump2016 yo...        112         18   \n",
       "8530   RWSurferGirl: So megynkelly posed for adult p...        100         13   \n",
       "3124  Doesn't it bother anyone that the GOP is prima...        143         26   \n",
       "8433   larryelder: Trump should have said, \"Megyn, a...        136         22   \n",
       "5113  Lol- I just realized there are people that are...        113         20   \n",
       "\n",
       "      nunique_words  words_diversity sentiment  \n",
       "826              18         1.000000  Negative  \n",
       "8530             13         1.000000   Neutral  \n",
       "3124             24         0.923077  Negative  \n",
       "8433             22         1.000000  Negative  \n",
       "5113             19         0.950000  Negative  "
      ]
     },
     "execution_count": 302,
     "metadata": {},
     "output_type": "execute_result"
    }
   ],
   "source": [
    "tweets_complexity = pd.DataFrame(tweets_cleaned)\n",
    "tweets_complexity['tweet_len'] = tweets_cleaned.str.len()\n",
    "tweets_complexity['num_words'] = tweets_cleaned.str.split().str.len()\n",
    "tweets_complexity['nunique_words'] = tweets_cleaned.str.split().apply(set).str.len()\n",
    "tweets_complexity['words_diversity'] = tweets_complexity['nunique_words'] / tweets_complexity['num_words'] \n",
    "tweets_complexity['sentiment'] = tweets.sentiment\n",
    "tweets_complexity.sample(5)"
   ]
  },
  {
   "cell_type": "code",
   "execution_count": 303,
   "metadata": {
    "scrolled": false
   },
   "outputs": [
    {
     "data": {
      "image/png": "[encoded data removed]",
      "text/plain": [
       "<Figure size 1440x432 with 1 Axes>"
      ]
     },
     "metadata": {},
     "output_type": "display_data"
    }
   ],
   "source": [
    "plt.figure(figsize=(20,6))\n",
    "sns.countplot(tweets_complexity.nunique_words, hue=tweets_complexity.sentiment)\n",
    "plt.title('Tweet nbr of unique words Vs sentiment')\n",
    "plt.show()"
   ]
  },
  {
   "cell_type": "code",
   "execution_count": 308,
   "metadata": {},
   "outputs": [
    {
     "data": {
      "image/png": "[encoded data removed]",
      "text/plain": [
       "<Figure size 1440x432 with 1 Axes>"
      ]
     },
     "metadata": {},
     "output_type": "display_data"
    }
   ],
   "source": [
    "\n",
    "plt.figure(figsize=(20,6))\n",
    "sns.countplot(pd.cut(tweets_complexity.words_diversity, 10), hue=tweets_complexity.sentiment)\n",
    "plt.title('Used words diversity Vs sentiment')\n",
    "plt.show()"
   ]
  },
  {
   "cell_type": "markdown",
   "metadata": {
    "colab_type": "text",
    "id": "S8pX0gNvrZKe"
   },
   "source": [
    "## tweet_created"
   ]
  },
  {
   "cell_type": "markdown",
   "metadata": {
    "colab_type": "text",
    "id": "94y5F0XprZKn"
   },
   "source": [
    "let's create four categories out of tweet_created.\n",
    "\n",
    "- Noon: from 6:00 to 12:00 \n",
    "- Afternoon: from 12:01 to 17:00\n",
    "- Evening: from 17:01 to 20:00\n",
    "- Night: from 20:01 to 5:59"
   ]
  },
  {
   "cell_type": "code",
   "execution_count": 10,
   "metadata": {
    "colab": {},
    "colab_type": "code",
    "id": "0MpD8TYZrZKo"
   },
   "outputs": [],
   "source": [
    "def mapping_func(hour):\n",
    "    if 6 < hour <= 12:\n",
    "        return 'Noon'\n",
    "    elif 12 < hour <= 17:\n",
    "        return 'Afternoon'\n",
    "    elif 17 < hour <= 20:\n",
    "        return 'Evening' \n",
    "    else:\n",
    "        return 'Night'\n",
    "period_of_day = tweets.tweet_created.dt.hour.apply(mapping_func)"
   ]
  },
  {
   "cell_type": "code",
   "execution_count": 11,
   "metadata": {
    "colab": {
     "base_uri": "https://localhost:8080/",
     "height": 276
    },
    "colab_type": "code",
    "id": "IKb8P-3MrZKu",
    "outputId": "980d03f5-afe3-4e04-b7af-4a1b2417115f"
   },
   "outputs": [
    {
     "data": {
      "image/png": "[encoded data removed]",
      "text/plain": [
       "<Figure size 432x288 with 1 Axes>"
      ]
     },
     "metadata": {
      "tags": []
     },
     "output_type": "display_data"
    }
   ],
   "source": [
    "sns.countplot(period_of_day);"
   ]
  },
  {
   "cell_type": "markdown",
   "metadata": {},
   "source": [
    "People tend to tweet more in the morning as well as in the evening before going to bed."
   ]
  },
  {
   "cell_type": "markdown",
   "metadata": {
    "colab_type": "text",
    "id": "q9vSgmV_rZKy"
   },
   "source": [
    "## Sentiment"
   ]
  },
  {
   "cell_type": "markdown",
   "metadata": {
    "colab_type": "text",
    "id": "QWY3Aq0YrZKz"
   },
   "source": [
    "Let's encode our classes into numerical values."
   ]
  },
  {
   "cell_type": "code",
   "execution_count": 12,
   "metadata": {
    "colab": {},
    "colab_type": "code",
    "id": "r_4DPAaTrZK0"
   },
   "outputs": [],
   "source": [
    "\n",
    "target_encoder = LabelEncoder()\n",
    "y = pd.Series(target_encoder.fit_transform(tweets.sentiment))"
   ]
  },
  {
   "cell_type": "markdown",
   "metadata": {
    "colab_type": "text",
    "id": "b3n05nRdrZK8"
   },
   "source": [
    "As we saw in EDA ~30% of these two features is composed of missing values. Let's consider the missing value as another category therefore we will impute it -999.\n",
    "\n",
    "Let's create two other feature, user_timezone_isna and tweet_location_isna which will hold a boolean value to indictate to the model the rows containing missing values respectively for user_timezone and tweet_location."
   ]
  },
  {
   "cell_type": "code",
   "execution_count": 123,
   "metadata": {
    "colab": {},
    "colab_type": "code",
    "id": "Ut9fliLbrZK-"
   },
   "outputs": [],
   "source": [
    "tweets['user_timezone_isna'] = tweets.user_timezone.isna().astype(int)\n",
    "tweets['tweet_location_isna'] = tweets.tweet_location.isna().astype(int)\n",
    "tweets['user_timezone'] = tweets.user_timezone.fillna(-999)\n",
    "tweets['tweet_location'] = tweets.tweet_location.fillna(-999)"
   ]
  },
  {
   "cell_type": "markdown",
   "metadata": {
    "colab_type": "text",
    "id": "qOawi0tMrZLB"
   },
   "source": [
    "## Candidate"
   ]
  },
  {
   "cell_type": "code",
   "execution_count": 14,
   "metadata": {
    "colab": {
     "base_uri": "https://localhost:8080/",
     "height": 34
    },
    "colab_type": "code",
    "id": "_SiB6bRGrZLC",
    "outputId": "56ea3d88-e04b-497d-9c40-b0fee92b9cd1"
   },
   "outputs": [
    {
     "data": {
      "text/plain": [
       "96"
      ]
     },
     "execution_count": 14,
     "metadata": {
      "tags": []
     },
     "output_type": "execute_result"
    }
   ],
   "source": [
    "tweets.candidate.isna().sum()"
   ]
  },
  {
   "cell_type": "code",
   "execution_count": 15,
   "metadata": {
    "colab": {
     "base_uri": "https://localhost:8080/",
     "height": 221
    },
    "colab_type": "code",
    "id": "8MrJi8_IrZLE",
    "outputId": "cf155c87-9c3f-4804-d4c2-a7e67c747173"
   },
   "outputs": [
    {
     "data": {
      "text/plain": [
       "No candidate mentioned    7491\n",
       "Donald Trump              2813\n",
       "Jeb Bush                   705\n",
       "Ted Cruz                   637\n",
       "Ben Carson                 404\n",
       "Mike Huckabee              393\n",
       "Chris Christie             293\n",
       "Marco Rubio                275\n",
       "Rand Paul                  263\n",
       "Scott Walker               259\n",
       "John Kasich                242\n",
       "Name: candidate, dtype: int64"
      ]
     },
     "execution_count": 15,
     "metadata": {
      "tags": []
     },
     "output_type": "execute_result"
    }
   ],
   "source": [
    "tweets.candidate.value_counts()"
   ]
  },
  {
   "cell_type": "markdown",
   "metadata": {
    "colab_type": "text",
    "id": "r8hbf1elrZLH"
   },
   "source": [
    "When a candidate is not mentionned, the tweet is put in 'No candidate mentioned'. Therefore, I will consider the missing candidate values to be part of 'No candidate mentioned' category."
   ]
  },
  {
   "cell_type": "code",
   "execution_count": 122,
   "metadata": {
    "colab": {},
    "colab_type": "code",
    "id": "tEoT5KzOrZLI"
   },
   "outputs": [],
   "source": [
    "from sklearn.impute import SimpleImputer\n",
    "imputer = SimpleImputer(strategy='most_frequent')\n",
    "tweets['candidate'] = imputer.fit_transform(tweets['candidate'].values.reshape(-1, 1))"
   ]
  },
  {
   "cell_type": "markdown",
   "metadata": {
    "colab_type": "text",
    "id": "67kTdB7BrZLL"
   },
   "source": [
    "## Data split"
   ]
  },
  {
   "cell_type": "markdown",
   "metadata": {
    "colab_type": "text",
    "id": "2hVK2nwArZLM"
   },
   "source": [
    "Our final dataset will be composed of the following features: user_timezone_isna, tweet_location_isna, user_timezone, tweet_location, text embeddings, retweet_count and candidate"
   ]
  },
  {
   "cell_type": "code",
   "execution_count": 235,
   "metadata": {},
   "outputs": [],
   "source": [
    "boolean_features = ['user_timezone_isna', 'tweet_location_isna']\n",
    "categorical_features = ['candidate', 'user_timezone', 'tweet_location']\n",
    "numerical_features = ['retweet_count']\n",
    "embeddings = ['text']"
   ]
  },
  {
   "cell_type": "code",
   "execution_count": 292,
   "metadata": {
    "scrolled": true
   },
   "outputs": [
    {
     "data": {
      "text/html": [
       "<div>\n",
       "<style scoped>\n",
       "    .dataframe tbody tr th:only-of-type {\n",
       "        vertical-align: middle;\n",
       "    }\n",
       "\n",
       "    .dataframe tbody tr th {\n",
       "        vertical-align: top;\n",
       "    }\n",
       "\n",
       "    .dataframe thead th {\n",
       "        text-align: right;\n",
       "    }\n",
       "</style>\n",
       "<table border=\"1\" class=\"dataframe\">\n",
       "  <thead>\n",
       "    <tr style=\"text-align: right;\">\n",
       "      <th></th>\n",
       "      <th>user_timezone_isna</th>\n",
       "      <th>tweet_location_isna</th>\n",
       "      <th>candidate</th>\n",
       "      <th>user_timezone</th>\n",
       "      <th>tweet_location</th>\n",
       "      <th>retweet_count</th>\n",
       "      <th>text</th>\n",
       "    </tr>\n",
       "  </thead>\n",
       "  <tbody>\n",
       "    <tr>\n",
       "      <th>7371</th>\n",
       "      <td>0</td>\n",
       "      <td>1</td>\n",
       "      <td>Marco Rubio</td>\n",
       "      <td>Pacific Time (US &amp; Canada)</td>\n",
       "      <td>-999</td>\n",
       "      <td>0</td>\n",
       "      <td>Rubio, Cruz  and Carson were the top  dawgs  i...</td>\n",
       "    </tr>\n",
       "    <tr>\n",
       "      <th>5398</th>\n",
       "      <td>0</td>\n",
       "      <td>0</td>\n",
       "      <td>No candidate mentioned</td>\n",
       "      <td>Eastern Time (US &amp; Canada)</td>\n",
       "      <td>New York City</td>\n",
       "      <td>0</td>\n",
       "      <td>#MegynKelly  #GOPDebate After last night I won...</td>\n",
       "    </tr>\n",
       "    <tr>\n",
       "      <th>7443</th>\n",
       "      <td>1</td>\n",
       "      <td>1</td>\n",
       "      <td>No candidate mentioned</td>\n",
       "      <td>-999</td>\n",
       "      <td>-999</td>\n",
       "      <td>0</td>\n",
       "      <td>Jon Stewart America needs you! SMH at #GOPDeba...</td>\n",
       "    </tr>\n",
       "    <tr>\n",
       "      <th>1681</th>\n",
       "      <td>1</td>\n",
       "      <td>0</td>\n",
       "      <td>No candidate mentioned</td>\n",
       "      <td>-999</td>\n",
       "      <td>Jacksonville, AL</td>\n",
       "      <td>126</td>\n",
       "      <td>RT @AlexSamuelsx5: So, there's 45 minutes left...</td>\n",
       "    </tr>\n",
       "    <tr>\n",
       "      <th>12183</th>\n",
       "      <td>0</td>\n",
       "      <td>0</td>\n",
       "      <td>No candidate mentioned</td>\n",
       "      <td>Pacific Time (US &amp; Canada)</td>\n",
       "      <td>Newport Beach, California</td>\n",
       "      <td>120</td>\n",
       "      <td>Why doesn't Chris Wallace ask the other politi...</td>\n",
       "    </tr>\n",
       "  </tbody>\n",
       "</table>\n",
       "</div>"
      ],
      "text/plain": [
       "       user_timezone_isna  tweet_location_isna               candidate  \\\n",
       "7371                    0                    1             Marco Rubio   \n",
       "5398                    0                    0  No candidate mentioned   \n",
       "7443                    1                    1  No candidate mentioned   \n",
       "1681                    1                    0  No candidate mentioned   \n",
       "12183                   0                    0  No candidate mentioned   \n",
       "\n",
       "                    user_timezone             tweet_location  retweet_count  \\\n",
       "7371   Pacific Time (US & Canada)                       -999              0   \n",
       "5398   Eastern Time (US & Canada)              New York City              0   \n",
       "7443                         -999                       -999              0   \n",
       "1681                         -999           Jacksonville, AL            126   \n",
       "12183  Pacific Time (US & Canada)  Newport Beach, California            120   \n",
       "\n",
       "                                                    text  \n",
       "7371   Rubio, Cruz  and Carson were the top  dawgs  i...  \n",
       "5398   #MegynKelly  #GOPDebate After last night I won...  \n",
       "7443   Jon Stewart America needs you! SMH at #GOPDeba...  \n",
       "1681   RT @AlexSamuelsx5: So, there's 45 minutes left...  \n",
       "12183  Why doesn't Chris Wallace ask the other politi...  "
      ]
     },
     "execution_count": 292,
     "metadata": {},
     "output_type": "execute_result"
    }
   ],
   "source": [
    "tweets[boolean_features+categorical_features+numerical_features+embeddings].sample(5)"
   ]
  },
  {
   "cell_type": "code",
   "execution_count": 241,
   "metadata": {
    "colab": {},
    "colab_type": "code",
    "id": "X6ANI21wrZLT"
   },
   "outputs": [],
   "source": [
    "from sklearn.model_selection import train_test_split\n",
    "\n",
    "SEED = 42\n",
    "\n",
    "X_train, X_test, y_train, y_test = train_test_split(tweets[boolean_features+categorical_features+numerical_features+embeddings], y, test_size=.2,\n",
    "                               stratify=y, random_state=SEED)"
   ]
  },
  {
   "cell_type": "markdown",
   "metadata": {
    "colab_type": "text",
    "id": "uDCTDq2MrZLW"
   },
   "source": [
    "# Pipeline"
   ]
  },
  {
   "cell_type": "markdown",
   "metadata": {
    "colab_type": "text",
    "id": "xxwtqBWorZLW"
   },
   "source": [
    "For the categorical variable, I suggest that we count encode them. Basically we will replace each categorie by it's number of occurences."
   ]
  },
  {
   "cell_type": "code",
   "execution_count": 285,
   "metadata": {
    "colab": {},
    "colab_type": "code",
    "id": "DbkYiBeNrZLX"
   },
   "outputs": [],
   "source": [
    "stop_words = stopwords.words(\"english\")\n",
    "class Doc2Vec(BaseEstimator):\n",
    "\n",
    "    def __init__(self, vector_size=50, min_count=2, epochs=40):        \n",
    "        self.vector_size=vector_size\n",
    "        self.min_count=min_count\n",
    "        self.epochs=epochs\n",
    "        \n",
    "    def __pre_process(self, X, train_tag=True):\n",
    "        X_tr = X.copy()\n",
    "        X_tr = X_tr.text.str.replace('RT', '').str.replace('@', '').str.replace('#', '')\n",
    "\n",
    "        # remove links\n",
    "        X_tr = X_tr.str.replace(r'http[s]*\\S+', '')\n",
    "\n",
    "        X_tr = X_tr.apply(word_tokenize)\n",
    "\n",
    "        X_tr = [[token.lower() for token in tokens if token.isalpha()] for tokens in X_tr]\n",
    "        X_tr = [[token.lower() for token in tokens] for tokens in X_tr]\n",
    "        # no lemmatization or stemming since we are going to use pre-trained embeddings\n",
    "\n",
    "\n",
    "        # delete stop words\n",
    "        X_tr = [[token.lower() for token in tokens if token not in stop_words] for tokens in X_tr]\n",
    "        \n",
    "        X_tag = []\n",
    "        for i, doc in enumerate(X_tr):\n",
    "                # For training data, add tags\n",
    "                if train_tag:\n",
    "                    X_tag.append(gensim.models.doc2vec.TaggedDocument(doc, [i]))\n",
    "                else:\n",
    "                    X_tag.append(doc)\n",
    "        \n",
    "        return list(X_tag)\n",
    "    \n",
    "    def fit(self, X_train, y=None):\n",
    "        self.model = gensim.models.doc2vec.Doc2Vec(vector_size=self.vector_size, min_count=self.min_count, epochs=self.epochs)\n",
    "        X_train_tag = self.__pre_process(X_train)\n",
    "        self.model.build_vocab(X_train_tag) \n",
    "        self.model.train(X_train_tag, total_examples=self.model.corpus_count, epochs=self.model.epochs)\n",
    "        \n",
    "        return self\n",
    "\n",
    "    def transform(self, X):\n",
    "        X_tr = self.__pre_process(X, train_tag=False)\n",
    "        doc2vec_embeddings = np.array([self.model.infer_vector(doc) for doc in X_tr])\n",
    "        \n",
    "        return doc2vec_embeddings\n",
    "\n",
    "class CountEncoder(BaseEstimator):\n",
    "\n",
    "    def __init__(self, normalize=True):\n",
    "        self.normalize = normalize\n",
    "\n",
    "    def fit(self, X_train, y=None):\n",
    "        self.__set_mapping(X_train)\n",
    "        \n",
    "        return self\n",
    "\n",
    "    def transform(self, X):\n",
    "        X_tr = X.copy()\n",
    "\n",
    "        if type(X) != type(pd.DataFrame()): \n",
    "            raise ValueError(f'{type(X)} not supported')\n",
    "        \n",
    "        col_id = 0\n",
    "        for col, serie in  X.iteritems():\n",
    "            X_tr[col] = serie.map(self.mapping_list[col_id])\n",
    "            col_id += 1\n",
    "        \n",
    "        return X_tr\n",
    "\n",
    "    def __set_mapping(self, X):\n",
    "        if type(X) != type(pd.DataFrame()):\n",
    "            raise ValueError(f'{type(X)} not supported')\n",
    "\n",
    "        self.mapping_list = []\n",
    "        for col, serie in X.iteritems():\n",
    "            if self.normalize:\n",
    "                self.mapping_list.append((serie.value_counts()/serie.value_counts().max()).to_dict())\n",
    "            else:\n",
    "                self.mapping_list.append(serie.value_counts().to_dict())"
   ]
  },
  {
   "cell_type": "code",
   "execution_count": 287,
   "metadata": {
    "colab": {},
    "colab_type": "code",
    "id": "Y2Pq9VeWrZLa"
   },
   "outputs": [
    {
     "data": {
      "text/plain": [
       "Pipeline(steps=[('feature_engineering',\n",
       "                 ColumnTransformer(remainder='passthrough',\n",
       "                                   transformers=[('CountEncoder',\n",
       "                                                  CountEncoder(),\n",
       "                                                  ['candidate', 'user_timezone',\n",
       "                                                   'tweet_location']),\n",
       "                                                 ('doc2vec', Doc2Vec(),\n",
       "                                                  ['text'])],\n",
       "                                   verbose=0)),\n",
       "                ('model',\n",
       "                 LGBMClassifier(max_depth=5, metric='multi_logloss',\n",
       "                                num_class=3, objective='multiclass'))])"
      ]
     },
     "execution_count": 287,
     "metadata": {},
     "output_type": "execute_result"
    }
   ],
   "source": [
    "static_params = {\n",
    "    'objective': 'multiclass',\n",
    "    'boosting_type': 'gbdt',\n",
    "    'num_class': 3,\n",
    "    'metric': 'multi_logloss',\n",
    "    'max_depth': 5\n",
    "}\n",
    "\n",
    "\n",
    "feature_engineering = ColumnTransformer([('CountEncoder', CountEncoder(), categorical_features),\n",
    "                                         ('doc2vec', Doc2Vec(), embeddings)],\n",
    "                                         remainder='passthrough', verbose=0)\n",
    "\n",
    "steps = [('feature_engineering', feature_engineering),\n",
    "         ('model', lgb.LGBMClassifier(**static_params))\n",
    "        ]\n",
    "\n",
    "model = Pipeline(steps)\n",
    "    \n",
    "\n",
    "\n",
    "model.fit(X_train, y_train)"
   ]
  },
  {
   "cell_type": "code",
   "execution_count": 291,
   "metadata": {},
   "outputs": [
    {
     "name": "stdout",
     "output_type": "stream",
     "text": [
      "              precision    recall  f1-score   support\n",
      "\n",
      "           0       0.67      0.94      0.78      1699\n",
      "           1       0.49      0.14      0.22       629\n",
      "           2       0.62      0.29      0.40       447\n",
      "\n",
      "    accuracy                           0.65      2775\n",
      "   macro avg       0.59      0.46      0.47      2775\n",
      "weighted avg       0.62      0.65      0.59      2775\n",
      "\n"
     ]
    }
   ],
   "source": [
    "print(classification_report(y_test, model.predict(X_test)))"
   ]
  },
  {
   "cell_type": "code",
   "execution_count": 290,
   "metadata": {},
   "outputs": [
    {
     "name": "stdout",
     "output_type": "stream",
     "text": [
      "              precision    recall  f1-score   support\n",
      "\n",
      "           0       0.70      0.95      0.81      6794\n",
      "           1       0.71      0.25      0.37      2513\n",
      "           2       0.76      0.42      0.54      1789\n",
      "\n",
      "    accuracy                           0.71     11096\n",
      "   macro avg       0.72      0.54      0.57     11096\n",
      "weighted avg       0.71      0.71      0.67     11096\n",
      "\n"
     ]
    }
   ],
   "source": [
    "print(classification_report(y_train, model.predict(X_train)))"
   ]
  },
  {
   "cell_type": "markdown",
   "metadata": {
    "colab_type": "text",
    "id": "_VeMvuv7K8zL"
   },
   "source": [
    "The performance of the model is very bad, it could be that the the number of samples is not sufficient for the model to perform better. \n",
    "\n",
    "Options to consider in order to improve the model performance:\n",
    "\n",
    "- perfrom a grid search to optimize hyperparamters\n",
    "- create synthtic (SMOTE) tweets or scrappe more tweets and label them.\n",
    "- feature engineering"
   ]
  }
 ],
 "metadata": {
  "accelerator": "GPU",
  "colab": {
   "collapsed_sections": [
    "hpdEhw3SrZJ9"
   ],
   "name": "Tweets-sentiment-analysis.ipynb",
   "provenance": [],
   "toc_visible": true
  },
  "kernelspec": {
   "display_name": "Python 3",
   "language": "python",
   "name": "python3"
  },
  "language_info": {
   "codemirror_mode": {
    "name": "ipython",
    "version": 3
   },
   "file_extension": ".py",
   "mimetype": "text/x-python",
   "name": "python",
   "nbconvert_exporter": "python",
   "pygments_lexer": "ipython3",
   "version": "3.7.6"
  }
 },
 "nbformat": 4,
 "nbformat_minor": 1
}
