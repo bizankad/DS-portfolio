{
 "cells": [
  {
   "cell_type": "code",
   "execution_count": 430,
   "metadata": {
    "colab": {
     "base_uri": "https://localhost:8080/",
     "height": 71
    },
    "colab_type": "code",
    "id": "C43JEWCorZHG",
    "outputId": "b6965b58-9e9e-4a17-ec8a-b3aaec403f44"
   },
   "outputs": [],
   "source": [
    "import pandas as pd\n",
    "import numpy as np\n",
    "import seaborn as sns\n",
    "import matplotlib.pyplot as plt \n",
    "from sklearn.base import BaseEstimator\n",
    "import gensim \n",
    "from nltk.corpus import stopwords\n",
    "from scipy import stats\n",
    "from sklearn.metrics import classification_report, plot_confusion_matrix, plot_precision_recall_curve, plot_roc_curve\n",
    "from sklearn.preprocessing import LabelEncoder\n",
    "from sklearn.model_selection import StratifiedKFold\n",
    "from xgboost import XGBClassifier\n",
    "from sklearn.pipeline import Pipeline, FeatureUnion\n",
    "from sklearn.compose import ColumnTransformer\n",
    "from sklearn.metrics import f1_score\n",
    "from sklearn.preprocessing import OrdinalEncoder\n",
    "from sklearn.decomposition import PCA\n",
    "from sklearn.model_selection import cross_validate\n",
    "from sklearn.preprocessing import OrdinalEncoder\n",
    "import lightgbm as lgb\n",
    "from nltk.tokenize import word_tokenize\n",
    "from imblearn.over_sampling import SMOTE\n",
    "import re\n",
    "from nltk.corpus import stopwords\n",
    "from gensim import corpora\n",
    "from sklearn.svm import SVC\n",
    "stop_words = stopwords.words(\"english\")\n",
    "plt.style.use('seaborn-whitegrid')"
   ]
  },
  {
   "cell_type": "markdown",
   "metadata": {
    "colab_type": "text",
    "id": "dFtjXqbBs9oA"
   },
   "source": [
    "This data originally came from Crowdflower's [Data for Everyone library](http://www.crowdflower.com/data-for-everyone).\n",
    "\n",
    "As the original source says,\n",
    "\n",
    "> We looked through tens of thousands of tweets about the early August GOP debate in Ohio and asked contributors to do both sentiment analysis and data categorization. Contributors were asked which candidate was mentioned, and what the sentiment was for a given tweet. "
   ]
  },
  {
   "cell_type": "code",
   "execution_count": 431,
   "metadata": {
    "colab": {
     "base_uri": "https://localhost:8080/",
     "height": 581
    },
    "colab_type": "code",
    "id": "1CWhxB9srZHn",
    "outputId": "fb46b1d7-3f12-4ad4-8e80-34c8da8d081d"
   },
   "outputs": [
    {
     "data": {
      "text/html": [
       "<div>\n",
       "<style scoped>\n",
       "    .dataframe tbody tr th:only-of-type {\n",
       "        vertical-align: middle;\n",
       "    }\n",
       "\n",
       "    .dataframe tbody tr th {\n",
       "        vertical-align: top;\n",
       "    }\n",
       "\n",
       "    .dataframe thead th {\n",
       "        text-align: right;\n",
       "    }\n",
       "</style>\n",
       "<table border=\"1\" class=\"dataframe\">\n",
       "  <thead>\n",
       "    <tr style=\"text-align: right;\">\n",
       "      <th></th>\n",
       "      <th>Unnamed: 0</th>\n",
       "      <th>id</th>\n",
       "      <th>candidate</th>\n",
       "      <th>sentiment</th>\n",
       "      <th>name</th>\n",
       "      <th>retweet_count</th>\n",
       "      <th>text</th>\n",
       "      <th>tweet_coord</th>\n",
       "      <th>tweet_created</th>\n",
       "      <th>tweet_id</th>\n",
       "      <th>tweet_location</th>\n",
       "      <th>user_timezone</th>\n",
       "    </tr>\n",
       "  </thead>\n",
       "  <tbody>\n",
       "    <tr>\n",
       "      <th>9156</th>\n",
       "      <td>9156</td>\n",
       "      <td>9157</td>\n",
       "      <td>No candidate mentioned</td>\n",
       "      <td>Negative</td>\n",
       "      <td>new_debis</td>\n",
       "      <td>0</td>\n",
       "      <td>\"@RWSurferGirl: We the American people pick th...</td>\n",
       "      <td>NaN</td>\n",
       "      <td>2015-08-06 20:52:45-07:00</td>\n",
       "      <td>629500400433893376</td>\n",
       "      <td>NaN</td>\n",
       "      <td>NaN</td>\n",
       "    </tr>\n",
       "    <tr>\n",
       "      <th>2579</th>\n",
       "      <td>2579</td>\n",
       "      <td>2580</td>\n",
       "      <td>Jeb Bush</td>\n",
       "      <td>Neutral</td>\n",
       "      <td>DeafFromAIDS</td>\n",
       "      <td>8</td>\n",
       "      <td>RT @NicholasPell: \"Whatever the geometric mean...</td>\n",
       "      <td>NaN</td>\n",
       "      <td>2015-08-07 09:29:13-07:00</td>\n",
       "      <td>629690770799374336</td>\n",
       "      <td>Milton Keynes</td>\n",
       "      <td>NaN</td>\n",
       "    </tr>\n",
       "    <tr>\n",
       "      <th>5055</th>\n",
       "      <td>5055</td>\n",
       "      <td>5056</td>\n",
       "      <td>No candidate mentioned</td>\n",
       "      <td>Negative</td>\n",
       "      <td>NOtoGMOs</td>\n",
       "      <td>39</td>\n",
       "      <td>RT @2noame: So @SenSanders live-tweeted the #G...</td>\n",
       "      <td>NaN</td>\n",
       "      <td>2015-08-07 08:41:09-07:00</td>\n",
       "      <td>629678674418225152</td>\n",
       "      <td>Montreal</td>\n",
       "      <td>Eastern Time (US &amp; Canada)</td>\n",
       "    </tr>\n",
       "    <tr>\n",
       "      <th>11121</th>\n",
       "      <td>11121</td>\n",
       "      <td>11122</td>\n",
       "      <td>Scott Walker</td>\n",
       "      <td>Negative</td>\n",
       "      <td>jsc1835</td>\n",
       "      <td>0</td>\n",
       "      <td>Scott Walker, what about YOUR email controvers...</td>\n",
       "      <td>NaN</td>\n",
       "      <td>2015-08-06 19:42:57-07:00</td>\n",
       "      <td>629482833212391425</td>\n",
       "      <td>NaN</td>\n",
       "      <td>Central Time (US &amp; Canada)</td>\n",
       "    </tr>\n",
       "    <tr>\n",
       "      <th>1919</th>\n",
       "      <td>1919</td>\n",
       "      <td>1920</td>\n",
       "      <td>Chris Christie</td>\n",
       "      <td>Negative</td>\n",
       "      <td>xbgix</td>\n",
       "      <td>0</td>\n",
       "      <td>@seanhannity @ChrisChristie @GovChristie Then ...</td>\n",
       "      <td>NaN</td>\n",
       "      <td>2015-08-07 09:36:13-07:00</td>\n",
       "      <td>629692531714887681</td>\n",
       "      <td>Seattle</td>\n",
       "      <td>Pacific Time (US &amp; Canada)</td>\n",
       "    </tr>\n",
       "  </tbody>\n",
       "</table>\n",
       "</div>"
      ],
      "text/plain": [
       "       Unnamed: 0     id               candidate sentiment          name  \\\n",
       "9156         9156   9157  No candidate mentioned  Negative     new_debis   \n",
       "2579         2579   2580                Jeb Bush   Neutral  DeafFromAIDS   \n",
       "5055         5055   5056  No candidate mentioned  Negative      NOtoGMOs   \n",
       "11121       11121  11122            Scott Walker  Negative       jsc1835   \n",
       "1919         1919   1920          Chris Christie  Negative         xbgix   \n",
       "\n",
       "       retweet_count                                               text  \\\n",
       "9156               0  \"@RWSurferGirl: We the American people pick th...   \n",
       "2579               8  RT @NicholasPell: \"Whatever the geometric mean...   \n",
       "5055              39  RT @2noame: So @SenSanders live-tweeted the #G...   \n",
       "11121              0  Scott Walker, what about YOUR email controvers...   \n",
       "1919               0  @seanhannity @ChrisChristie @GovChristie Then ...   \n",
       "\n",
       "      tweet_coord             tweet_created            tweet_id  \\\n",
       "9156          NaN 2015-08-06 20:52:45-07:00  629500400433893376   \n",
       "2579          NaN 2015-08-07 09:29:13-07:00  629690770799374336   \n",
       "5055          NaN 2015-08-07 08:41:09-07:00  629678674418225152   \n",
       "11121         NaN 2015-08-06 19:42:57-07:00  629482833212391425   \n",
       "1919          NaN 2015-08-07 09:36:13-07:00  629692531714887681   \n",
       "\n",
       "      tweet_location               user_timezone  \n",
       "9156             NaN                         NaN  \n",
       "2579   Milton Keynes                         NaN  \n",
       "5055        Montreal  Eastern Time (US & Canada)  \n",
       "11121            NaN  Central Time (US & Canada)  \n",
       "1919         Seattle  Pacific Time (US & Canada)  "
      ]
     },
     "execution_count": 431,
     "metadata": {},
     "output_type": "execute_result"
    }
   ],
   "source": [
    "# load dataset \n",
    "tweets = pd.read_csv('input/Sentiment.csv', parse_dates=['tweet_created'])\n",
    "tweets.sample(5)"
   ]
  },
  {
   "cell_type": "code",
   "execution_count": 432,
   "metadata": {
    "colab": {
     "base_uri": "https://localhost:8080/",
     "height": 34
    },
    "colab_type": "code",
    "id": "_X5pQRz1rZIA",
    "outputId": "cfc58810-8142-4dd4-bc03-886e76f828db"
   },
   "outputs": [
    {
     "name": "stdout",
     "output_type": "stream",
     "text": [
      "dataset contains 13871 tweets and 12 predictor variables.\n"
     ]
    }
   ],
   "source": [
    "print(f\"dataset contains {tweets.shape[0]} tweets and {tweets.shape[1]} predictor variables.\")"
   ]
  },
  {
   "cell_type": "code",
   "execution_count": 433,
   "metadata": {
    "colab": {
     "base_uri": "https://localhost:8080/",
     "height": 291
    },
    "colab_type": "code",
    "id": "YileFspCrZIP",
    "outputId": "edd66b14-1b01-4e2f-d650-3a7831bfbea2"
   },
   "outputs": [
    {
     "data": {
      "image/png": "[encoded data removed]",
      "text/plain": [
       "<Figure size 432x288 with 1 Axes>"
      ]
     },
     "metadata": {},
     "output_type": "display_data"
    }
   ],
   "source": [
    "plt.figure()\n",
    "ax = plt.axes()\n",
    "sns.countplot(tweets.sentiment)\n",
    "\n",
    "total_tweets = len(tweets)\n",
    "plt.title('class distribution')\n",
    "for p in ax.patches:\n",
    "    height = p.get_height()\n",
    "    ax.text(p.get_x()+p.get_width()/2.,\n",
    "            height+20,\n",
    "            f'{int(height)/total_tweets:.2%}',\n",
    "            ha=\"center\", fontsize=10)\n",
    "    \n",
    "plt.show()"
   ]
  },
  {
   "cell_type": "code",
   "execution_count": 434,
   "metadata": {
    "colab": {
     "base_uri": "https://localhost:8080/",
     "height": 421
    },
    "colab_type": "code",
    "id": "t2iIT8iTrZIZ",
    "outputId": "95c7a42f-6fbc-47dc-cd94-4768cd643329"
   },
   "outputs": [
    {
     "data": {
      "text/html": [
       "<div>\n",
       "<style scoped>\n",
       "    .dataframe tbody tr th:only-of-type {\n",
       "        vertical-align: middle;\n",
       "    }\n",
       "\n",
       "    .dataframe tbody tr th {\n",
       "        vertical-align: top;\n",
       "    }\n",
       "\n",
       "    .dataframe thead th {\n",
       "        text-align: right;\n",
       "    }\n",
       "</style>\n",
       "<table border=\"1\" class=\"dataframe\">\n",
       "  <thead>\n",
       "    <tr style=\"text-align: right;\">\n",
       "      <th>sentiment</th>\n",
       "      <th>Negative</th>\n",
       "      <th>Neutral</th>\n",
       "      <th>Positive</th>\n",
       "      <th>negative_proportion</th>\n",
       "    </tr>\n",
       "    <tr>\n",
       "      <th>candidate</th>\n",
       "      <th></th>\n",
       "      <th></th>\n",
       "      <th></th>\n",
       "      <th></th>\n",
       "    </tr>\n",
       "  </thead>\n",
       "  <tbody>\n",
       "    <tr>\n",
       "      <th>Ben Carson</th>\n",
       "      <td>186</td>\n",
       "      <td>54</td>\n",
       "      <td>164</td>\n",
       "      <td>0.460396</td>\n",
       "    </tr>\n",
       "    <tr>\n",
       "      <th>Chris Christie</th>\n",
       "      <td>218</td>\n",
       "      <td>42</td>\n",
       "      <td>33</td>\n",
       "      <td>0.744027</td>\n",
       "    </tr>\n",
       "    <tr>\n",
       "      <th>Donald Trump</th>\n",
       "      <td>1758</td>\n",
       "      <td>446</td>\n",
       "      <td>609</td>\n",
       "      <td>0.624956</td>\n",
       "    </tr>\n",
       "    <tr>\n",
       "      <th>Jeb Bush</th>\n",
       "      <td>589</td>\n",
       "      <td>72</td>\n",
       "      <td>44</td>\n",
       "      <td>0.835461</td>\n",
       "    </tr>\n",
       "    <tr>\n",
       "      <th>John Kasich</th>\n",
       "      <td>82</td>\n",
       "      <td>47</td>\n",
       "      <td>113</td>\n",
       "      <td>0.338843</td>\n",
       "    </tr>\n",
       "    <tr>\n",
       "      <th>Marco Rubio</th>\n",
       "      <td>105</td>\n",
       "      <td>51</td>\n",
       "      <td>119</td>\n",
       "      <td>0.381818</td>\n",
       "    </tr>\n",
       "    <tr>\n",
       "      <th>Mike Huckabee</th>\n",
       "      <td>237</td>\n",
       "      <td>83</td>\n",
       "      <td>73</td>\n",
       "      <td>0.603053</td>\n",
       "    </tr>\n",
       "    <tr>\n",
       "      <th>No candidate mentioned</th>\n",
       "      <td>4724</td>\n",
       "      <td>2087</td>\n",
       "      <td>680</td>\n",
       "      <td>0.630623</td>\n",
       "    </tr>\n",
       "    <tr>\n",
       "      <th>Rand Paul</th>\n",
       "      <td>148</td>\n",
       "      <td>60</td>\n",
       "      <td>55</td>\n",
       "      <td>0.562738</td>\n",
       "    </tr>\n",
       "    <tr>\n",
       "      <th>Scott Walker</th>\n",
       "      <td>179</td>\n",
       "      <td>38</td>\n",
       "      <td>42</td>\n",
       "      <td>0.691120</td>\n",
       "    </tr>\n",
       "    <tr>\n",
       "      <th>Ted Cruz</th>\n",
       "      <td>221</td>\n",
       "      <td>126</td>\n",
       "      <td>290</td>\n",
       "      <td>0.346939</td>\n",
       "    </tr>\n",
       "  </tbody>\n",
       "</table>\n",
       "</div>"
      ],
      "text/plain": [
       "sentiment               Negative  Neutral  Positive  negative_proportion\n",
       "candidate                                                               \n",
       "Ben Carson                   186       54       164             0.460396\n",
       "Chris Christie               218       42        33             0.744027\n",
       "Donald Trump                1758      446       609             0.624956\n",
       "Jeb Bush                     589       72        44             0.835461\n",
       "John Kasich                   82       47       113             0.338843\n",
       "Marco Rubio                  105       51       119             0.381818\n",
       "Mike Huckabee                237       83        73             0.603053\n",
       "No candidate mentioned      4724     2087       680             0.630623\n",
       "Rand Paul                    148       60        55             0.562738\n",
       "Scott Walker                 179       38        42             0.691120\n",
       "Ted Cruz                     221      126       290             0.346939"
      ]
     },
     "execution_count": 434,
     "metadata": {},
     "output_type": "execute_result"
    }
   ],
   "source": [
    "contingency_table = pd.crosstab(tweets.candidate, tweets.sentiment)\n",
    "contingency_table['negative_proportion'] = contingency_table.Negative/contingency_table.sum(axis=1)\n",
    "contingency_table"
   ]
  },
  {
   "cell_type": "markdown",
   "metadata": {
    "colab_type": "text",
    "id": "HXtIjHYPrZIh"
   },
   "source": [
    "The candidate `Donald Trump` has the highest number of negative tweets. However, if we look at the total number of tweet per candidate we can see that `Jeb Bush` has almost 84% of the tweets mentioning him as negative."
   ]
  },
  {
   "cell_type": "markdown",
   "metadata": {
    "colab_type": "text",
    "id": "SjmsKzfDrZIi"
   },
   "source": [
    "**What kind of tweets are the most retweeted?**"
   ]
  },
  {
   "cell_type": "code",
   "execution_count": 435,
   "metadata": {
    "colab": {
     "base_uri": "https://localhost:8080/",
     "height": 102
    },
    "colab_type": "code",
    "id": "c7qsUVBorZIj",
    "outputId": "615bdc5a-04b7-42e5-f3ee-7cd500dd2a00"
   },
   "outputs": [
    {
     "data": {
      "text/plain": [
       "sentiment\n",
       "Negative    419335.0\n",
       "Neutral     117243.0\n",
       "Positive     98760.0\n",
       "Name: retweet_count, dtype: float64"
      ]
     },
     "execution_count": 435,
     "metadata": {},
     "output_type": "execute_result"
    }
   ],
   "source": [
    "tweets.groupby('sentiment').sum()['retweet_count']"
   ]
  },
  {
   "cell_type": "markdown",
   "metadata": {
    "colab_type": "text",
    "id": "4Bw7jY0JrZIv"
   },
   "source": [
    "Negative tweets are more than 4 times retweeted than positive tweets. "
   ]
  },
  {
   "cell_type": "markdown",
   "metadata": {
    "colab_type": "text",
    "id": "efqoyCy6rZIw"
   },
   "source": [
    "**Who are the most retweeted candidates?**"
   ]
  },
  {
   "cell_type": "code",
   "execution_count": 436,
   "metadata": {
    "colab": {
     "base_uri": "https://localhost:8080/",
     "height": 434
    },
    "colab_type": "code",
    "id": "vyG28_9jrZIx",
    "outputId": "27dc87df-6db9-4b7a-d929-61751e15cc31"
   },
   "outputs": [
    {
     "data": {
      "image/png": "[encoded data removed]",
      "text/plain": [
       "<Figure size 1080x432 with 1 Axes>"
      ]
     },
     "metadata": {},
     "output_type": "display_data"
    }
   ],
   "source": [
    "most_rt_candidates = tweets.groupby('candidate').sum()['retweet_count'].sort_values()\n",
    "plt.figure(figsize=(15,6))\n",
    "sns.barplot(most_rt_candidates.index, most_rt_candidates)\n",
    "plt.xticks(rotation=45)\n",
    "plt.show()"
   ]
  },
  {
   "cell_type": "markdown",
   "metadata": {
    "colab_type": "text",
    "id": "dGVdfnXLrZI2"
   },
   "source": [
    "Let us have a look at the time variable `tweet_created`"
   ]
  },
  {
   "cell_type": "code",
   "execution_count": 437,
   "metadata": {
    "colab": {
     "base_uri": "https://localhost:8080/",
     "height": 102
    },
    "colab_type": "code",
    "id": "gaEZheVorZI6",
    "outputId": "e7a40edd-dcc7-4e25-cfbe-18d85544666b"
   },
   "outputs": [
    {
     "data": {
      "text/plain": [
       "(Timestamp('2015-08-06 17:44:53-0700', tz='pytz.FixedOffset(-420)'),\n",
       " Timestamp('2015-08-07 10:12:32-0700', tz='pytz.FixedOffset(-420)'),\n",
       " Timedelta('0 days 16:27:39'),\n",
       " 'Thursday',\n",
       " 'Friday')"
      ]
     },
     "execution_count": 437,
     "metadata": {},
     "output_type": "execute_result"
    }
   ],
   "source": [
    "start_date = tweets.tweet_created.sort_values().iloc[0]\n",
    "end_date = tweets.tweet_created.sort_values().iloc[-1]\n",
    "start_date, end_date, (end_date - start_date), start_date.day_name(), end_date.day_name()"
   ]
  },
  {
   "cell_type": "markdown",
   "metadata": {
    "colab_type": "text",
    "id": "U_lcRMjPrZJE"
   },
   "source": [
    "We can conclude that the tweets recording lasted for 16hours and ~28 minute. The recodring started Thursday, august 2015 at 17:44 until friday, august 2015 at 10:12."
   ]
  },
  {
   "cell_type": "markdown",
   "metadata": {
    "colab_type": "text",
    "id": "iJdM6NWkrZJF"
   },
   "source": [
    "**How are tweets distributed accros the day? is there any time slot that has more tweets than others?**"
   ]
  },
  {
   "cell_type": "code",
   "execution_count": 438,
   "metadata": {
    "colab": {},
    "colab_type": "code",
    "id": "gtfMhcCErZJG"
   },
   "outputs": [],
   "source": [
    "tweets_ordered_bytime = tweets.sort_values(by='tweet_created')"
   ]
  },
  {
   "cell_type": "code",
   "execution_count": 439,
   "metadata": {
    "colab": {
     "base_uri": "https://localhost:8080/",
     "height": 297
    },
    "colab_type": "code",
    "id": "05I4GMI0rZJL",
    "outputId": "00ebfa89-fd78-49ef-edfa-996cd5ae48f5"
   },
   "outputs": [
    {
     "data": {
      "image/png": "[encoded data removed]",
      "text/plain": [
       "<Figure size 1440x432 with 1 Axes>"
      ]
     },
     "metadata": {},
     "output_type": "display_data"
    }
   ],
   "source": [
    "plt.figure(figsize=(20,6))\n",
    "sns.countplot(tweets_ordered_bytime.tweet_created.dt.hour, hue=tweets_ordered_bytime.sentiment)\n",
    "plt.title('tweets distribution over the day Vs Sentiment')\n",
    "plt.show()"
   ]
  },
  {
   "cell_type": "markdown",
   "metadata": {
    "colab_type": "text",
    "id": "x3svvpdIrZJT"
   },
   "source": [
    "We might one to add a new predictor variable that stores the hour of the day or maybe categorigal variable with the following enumeration: morning, afternoon, evening, night"
   ]
  },
  {
   "cell_type": "markdown",
   "metadata": {
    "colab_type": "text",
    "id": "ab80zk4OrZJT"
   },
   "source": [
    "## Missing values"
   ]
  },
  {
   "cell_type": "code",
   "execution_count": 440,
   "metadata": {
    "colab": {
     "base_uri": "https://localhost:8080/",
     "height": 491
    },
    "colab_type": "code",
    "id": "RP--nIf-rZJU",
    "outputId": "f0c29d19-8882-437d-fc67-fa770653fc11",
    "scrolled": false
   },
   "outputs": [
    {
     "data": {
      "image/png": "[encoded data removed]",
      "text/plain": [
       "<Figure size 1440x720 with 2 Axes>"
      ]
     },
     "metadata": {},
     "output_type": "display_data"
    }
   ],
   "source": [
    "plt.figure(figsize=(20,10))\n",
    "sns.heatmap(tweets_ordered_bytime.isna())\n",
    "plt.show()"
   ]
  },
  {
   "cell_type": "markdown",
   "metadata": {
    "colab_type": "text",
    "id": "mB5lSQMlrZJZ"
   },
   "source": [
    "`Tweet_location` and `user_timezone` contain a lot of missing values.\n",
    "- add new boolean is_nan + impuatation most freq ?\n",
    "\n",
    "As to `tweet_coord` we will simply drop it."
   ]
  },
  {
   "cell_type": "code",
   "execution_count": 441,
   "metadata": {},
   "outputs": [],
   "source": [
    "tweets.drop(columns=['tweet_coord'], inplace=True)"
   ]
  },
  {
   "cell_type": "code",
   "execution_count": 442,
   "metadata": {
    "colab": {
     "base_uri": "https://localhost:8080/",
     "height": 34
    },
    "colab_type": "code",
    "id": "kGz05OcLrZJd",
    "outputId": "6909f210-ad4a-4edf-9793-cf3a6d6cec98"
   },
   "outputs": [
    {
     "data": {
      "text/plain": [
       "(0.28202725109941607, 0.3174248431980391)"
      ]
     },
     "execution_count": 442,
     "metadata": {},
     "output_type": "execute_result"
    }
   ],
   "source": [
    "tweets.tweet_location.isna().sum()/len(tweets), tweets.user_timezone.isna().sum()/len(tweets)"
   ]
  },
  {
   "cell_type": "markdown",
   "metadata": {
    "colab_type": "text",
    "id": "siaUYaHtCS0c"
   },
   "source": [
    "Tweet_location and user_timezone are composed of neary 30% of missing of values."
   ]
  },
  {
   "cell_type": "code",
   "execution_count": 443,
   "metadata": {
    "colab": {},
    "colab_type": "code",
    "id": "qQeofVXnrZJz"
   },
   "outputs": [],
   "source": [
    "def is_feature_important(feature, target, alpha=.05):\n",
    "    crosstable = pd.crosstab(target,feature) \n",
    "    chi2, p, dof, expected = stats.chi2_contingency(crosstable.values)\n",
    "    \n",
    "    return p < alpha"
   ]
  },
  {
   "cell_type": "code",
   "execution_count": 444,
   "metadata": {
    "colab": {
     "base_uri": "https://localhost:8080/",
     "height": 34
    },
    "colab_type": "code",
    "id": "DunxV6jJrZJ4",
    "outputId": "4a895bcf-668c-47ce-c24e-b205a5681984",
    "scrolled": true
   },
   "outputs": [
    {
     "data": {
      "text/plain": [
       "(True, True)"
      ]
     },
     "execution_count": 444,
     "metadata": {},
     "output_type": "execute_result"
    }
   ],
   "source": [
    "is_feature_important(tweets.user_timezone, tweets.sentiment), is_feature_important(tweets.tweet_location, tweets.sentiment)"
   ]
  },
  {
   "cell_type": "markdown",
   "metadata": {
    "colab_type": "text",
    "id": "FBjxnxFRCS0j"
   },
   "source": [
    "- Tweet_location and user_timezone are correlated with the target variable accorind to kh2 test of independance."
   ]
  },
  {
   "cell_type": "markdown",
   "metadata": {
    "colab_type": "text",
    "id": "bomsBnIQrZJ-"
   },
   "source": [
    "## Tweet's text"
   ]
  },
  {
   "cell_type": "markdown",
   "metadata": {
    "colab_type": "text",
    "id": "nR2ZvSGmrZJ-"
   },
   "source": [
    "Let's print some tweets and see how they look"
   ]
  },
  {
   "cell_type": "code",
   "execution_count": 445,
   "metadata": {
    "colab": {
     "base_uri": "https://localhost:8080/",
     "height": 71
    },
    "colab_type": "code",
    "id": "BEiS6RdErZJ_",
    "outputId": "c3823686-af69-425b-ac0e-210c3465c9b7"
   },
   "outputs": [
    {
     "data": {
      "text/plain": [
       "['Fox seems to be doing a hit job for GOP on @realDonaldTrump #gopdebates',\n",
       " \"RT @FredZeppelin12: WINNER OF TONIGHT's TWO DEBATES:\\n\\n@CarlyFiorina  \\n\\n#GOPDebate\"]"
      ]
     },
     "execution_count": 445,
     "metadata": {},
     "output_type": "execute_result"
    }
   ],
   "source": [
    "tweets.text.sample(2).to_list()"
   ]
  },
  {
   "cell_type": "markdown",
   "metadata": {
    "colab_type": "text",
    "id": "krGxJwinrZKE"
   },
   "source": [
    "Before analyzing tweets some cleaning has to be performed:\n",
    "- remove special caracters.\n",
    "- remove links\n"
   ]
  },
  {
   "cell_type": "code",
   "execution_count": 447,
   "metadata": {},
   "outputs": [],
   "source": [
    "def pre_process_tweets(tweet):\n",
    "    tweet = re.sub(r'http[s]*\\S+', '', tweet)\n",
    "    tweet = re.sub('[#@RT]+\\S+', '', tweet)\n",
    "    tweet = re.sub('&amp;', '', tweet)\n",
    "    tweet = re.sub(r'http[s]*\\S+', '', tweet)\n",
    "    #replace('\\s+', ' ').str.strip()\n",
    "    tokens = word_tokenize(tweet)\n",
    "    \n",
    "    tokens = [token for token in tokens if token.isalpha()]\n",
    "    tokens = [token.lower() for token in tokens]\n",
    "    # no lemmatization or stemming since we are going to use pre-trained embeddings\n",
    "    \n",
    "    \n",
    "    # delete stop words\n",
    "    tokens = [token for token in tokens if token not in stop_words]\n",
    "    return tokens\n",
    "\n",
    "tweets['tokens'] = tweets.text.apply(pre_process_tweets)"
   ]
  },
  {
   "cell_type": "markdown",
   "metadata": {},
   "source": [
    "## Topic modeling"
   ]
  },
  {
   "cell_type": "code",
   "execution_count": 455,
   "metadata": {},
   "outputs": [
    {
     "name": "stdout",
     "output_type": "stream",
     "text": [
      "Dictionary(9462 unique tokens: ['change', 'climate', 'everyone', 'exactly', 'feel']...)\n"
     ]
    }
   ],
   "source": [
    "# Create dictionary\n",
    "dictionary = corpora.Dictionary(tweets.tokens)\n",
    "print(dictionary)"
   ]
  },
  {
   "cell_type": "code",
   "execution_count": 458,
   "metadata": {},
   "outputs": [
    {
     "name": "stdout",
     "output_type": "stream",
     "text": [
      "[(0,\n",
      "  '0.010*\"disturbing\" + 0.009*\"new\" + 0.009*\"collective\" + 0.009*\"quality\" + '\n",
      "  '0.008*\"command\" + 0.008*\"hungry\" + 0.008*\"lanes\" + 0.007*\"holden\" + '\n",
      "  '0.007*\"eds\" + 0.007*\"handed\"'),\n",
      " (1,\n",
      "  '0.013*\"replaced\" + 0.012*\"counties\" + 0.011*\"handed\" + 0.011*\"disturbing\" + '\n",
      "  '0.009*\"kutcher\" + 0.008*\"snapping\" + 0.007*\"crossing\" + 0.007*\"wars\" + '\n",
      "  '0.007*\"asian\" + 0.007*\"honestly\"'),\n",
      " (2,\n",
      "  '0.017*\"involves\" + 0.017*\"personally\" + 0.012*\"ad\" + 0.011*\"disturbing\" + '\n",
      "  '0.011*\"knew\" + 0.011*\"dump\" + 0.009*\"andrea\" + 0.009*\"earful\" + '\n",
      "  '0.009*\"buzzer\" + 0.009*\"horse\"')]\n"
     ]
    }
   ],
   "source": [
    "from sklearn.feature_extraction.text import TfidfVectorizer, CountVectorizer\n",
    "from gensim.matutils import Sparse2Corpus\n",
    "from gensim.models import LdaModel\n",
    "from pprint import pprint\n",
    "\n",
    "# Instantiate the TF-IDF vectorizer\n",
    "vectorizer = TfidfVectorizer(lowercase=False, analyzer=lambda x: x)\n",
    "\n",
    "# Compute the TF-IDF\n",
    "tf_idf = vectorizer.fit_transform(tweets['tokens'])\n",
    "\n",
    "# Convert the TF-IDF to the needed input for Gensim\n",
    "tf_idf_sklearn = Sparse2Corpus(tf_idf, documents_columns=False)\n",
    "\n",
    "# Compute the LDA\n",
    "lda2 = LdaModel(corpus=tf_idf_sklearn, id2word=dictionary, num_topics=3, passes=10)\n",
    "\n",
    "# Print the main topics\n",
    "pprint(lda2.print_topics())"
   ]
  },
  {
   "cell_type": "code",
   "execution_count": 459,
   "metadata": {},
   "outputs": [
    {
     "data": {
      "text/html": [
       "\n",
       "<link rel=\"stylesheet\" type=\"text/css\" href=\"https://cdn.rawgit.com/bmabey/pyLDAvis/files/ldavis.v1.0.0.css\">\n",
       "\n",
       "\n",
       "<div id=\"ldavis_el6334863213630243102883461\"></div>\n",
       "<script type=\"text/javascript\">\n",
       "\n",
       "var ldavis_el6334863213630243102883461_data = {\"mdsDat\": {\"x\": [-0.09622305158398736, -0.12868640753277769, 0.22490945911676502], \"y\": [0.16219658816241203, -0.14730544810161936, -0.014891140060792746], \"topics\": [1, 2, 3], \"cluster\": [1, 1, 1], \"Freq\": [44.618526458740234, 28.915077209472656, 26.466400146484375]}, \"tinfo\": {\"Term\": [\"involves\", \"personally\", \"replaced\", \"ad\", \"knew\", \"dump\", \"andrea\", \"earful\", \"new\", \"buzzer\", \"horse\", \"brittney\", \"collective\", \"brag\", \"command\", \"drain\", \"visa\", \"updated\", \"busy\", \"noah\", \"unacceptable\", \"rolls\", \"snapping\", \"hungry\", \"bankers\", \"crossing\", \"reveals\", \"wars\", \"disgraced\", \"honestly\", \"new\", \"collective\", \"command\", \"exceptional\", \"juvenile\", \"dumb\", \"nurtured\", \"distracters\", \"alright\", \"wrapped\", \"oliver\", \"hungry\", \"word\", \"dumbo\", \"wishes\", \"regain\", \"analyses\", \"amy\", \"misrepresentations\", \"threaten\", \"input\", \"bear\", \"producers\", \"star\", \"ohhhh\", \"undoubtedly\", \"employer\", \"lock\", \"gruff\", \"harmed\", \"incredibly\", \"threat\", \"lanes\", \"cry\", \"holden\", \"eds\", \"gushing\", \"wacky\", \"quality\", \"apology\", \"china\", \"disturbing\", \"enterprise\", \"handed\", \"effectivley\", \"active\", \"counties\", \"automatically\", \"chinese\", \"replaced\", \"snapping\", \"crossing\", \"wars\", \"honestly\", \"prez\", \"blocked\", \"relevant\", \"clus\", \"hopefully\", \"hate\", \"japan\", \"ale\", \"passion\", \"besides\", \"taxing\", \"period\", \"vote\", \"excessive\", \"promoting\", \"likable\", \"controlling\", \"shake\", \"horrible\", \"pocket\", \"lightning\", \"tryin\", \"establishments\", \"statesman\", \"wise\", \"senior\", \"propsals\", \"kutcher\", \"garbled\", \"asian\", \"display\", \"handed\", \"counties\", \"growing\", \"transparent\", \"disturbing\", \"schism\", \"automatically\", \"plants\", \"quality\", \"involves\", \"personally\", \"ad\", \"knew\", \"earful\", \"andrea\", \"buzzer\", \"horse\", \"brittney\", \"visa\", \"updated\", \"drain\", \"brag\", \"noah\", \"unacceptable\", \"busy\", \"rolls\", \"disgraced\", \"bankers\", \"dump\", \"reveals\", \"cdm\", \"ouf\", \"takeaways\", \"missed\", \"snot\", \"tithes\", \"felt\", \"benghazi\", \"starnes\", \"key\", \"festival\", \"simply\", \"football\", \"disturbing\", \"greivenses\", \"plants\"], \"Freq\": [420.0, 416.0, 342.0, 300.0, 279.0, 278.0, 233.0, 226.0, 375.0, 222.0, 219.0, 219.0, 363.0, 214.0, 351.0, 204.0, 204.0, 200.0, 196.0, 194.0, 192.0, 191.0, 203.0, 335.0, 184.0, 196.0, 182.0, 194.0, 180.0, 189.0, 374.7231750488281, 362.3087463378906, 350.6687316894531, 260.2466735839844, 219.15419006347656, 222.18353271484375, 195.7510528564453, 187.03396606445312, 190.62120056152344, 188.32693481445312, 132.0332794189453, 331.7715759277344, 115.4555892944336, 107.67982482910156, 107.0562515258789, 124.99883270263672, 100.97212219238281, 99.95257568359375, 95.34256744384766, 95.91960144042969, 84.40069580078125, 81.12739562988281, 79.70986938476562, 77.39668273925781, 79.23838806152344, 110.90299987792969, 73.1540298461914, 69.71956634521484, 68.5985336303711, 66.266357421875, 77.13313293457031, 182.05335998535156, 313.6058044433594, 221.5504913330078, 285.423095703125, 280.71734619140625, 209.29269409179688, 119.4234848022461, 360.2377014160156, 191.269287109375, 186.065185546875, 413.74224853515625, 196.77442932128906, 272.5873718261719, 128.5260009765625, 128.13499450683594, 212.88058471679688, 136.487548828125, 122.09805297851562, 340.54437255859375, 202.16091918945312, 195.33779907226562, 192.79263305664062, 187.79605102539062, 152.72171020507812, 151.74264526367188, 147.2906951904297, 131.1061553955078, 121.70088195800781, 122.72528839111328, 117.92167663574219, 113.96357727050781, 126.74175262451172, 111.95487976074219, 113.0465316772461, 110.91979217529297, 103.94049072265625, 105.76107788085938, 119.98857116699219, 101.2197265625, 96.4748764038086, 87.3399658203125, 87.39613342285156, 86.83285522460938, 91.94874572753906, 86.29019927978516, 84.2400131225586, 88.36812591552734, 78.47422790527344, 120.9714584350586, 131.27688598632812, 234.5498504638672, 91.0089111328125, 192.5959014892578, 187.11187744140625, 296.9369201660156, 314.1266174316406, 113.51243591308594, 160.92318725585938, 289.4869079589844, 122.5209732055664, 121.48631286621094, 118.90934753417969, 123.91181182861328, 418.46923828125, 414.8476257324219, 298.3785095214844, 277.60125732421875, 225.3488006591797, 232.20925903320312, 220.90036010742188, 217.7825469970703, 217.41128540039062, 202.77015686035156, 199.10665893554688, 202.9918975830078, 213.1935577392578, 192.61094665527344, 191.27743530273438, 195.02352905273438, 189.68251037597656, 178.59683227539062, 182.8955535888672, 275.77392578125, 180.64749145507812, 169.0069122314453, 165.0070037841797, 170.81375122070312, 164.13180541992188, 159.17105102539062, 157.51026916503906, 156.27288818359375, 161.7818145751953, 154.41102600097656, 207.37620544433594, 186.8944549560547, 208.6905059814453, 173.86473083496094, 277.8525695800781, 174.0313720703125, 169.70758056640625], \"Total\": [420.0, 416.0, 342.0, 300.0, 279.0, 278.0, 233.0, 226.0, 375.0, 222.0, 219.0, 219.0, 363.0, 214.0, 351.0, 204.0, 204.0, 200.0, 196.0, 194.0, 192.0, 191.0, 203.0, 335.0, 184.0, 196.0, 182.0, 194.0, 180.0, 189.0, 375.9244384765625, 363.5185241699219, 351.85809326171875, 261.5361633300781, 220.3852081298828, 223.52699279785156, 196.94744873046875, 188.22265625, 191.83309936523438, 189.5438995361328, 133.29579162597656, 335.31658935546875, 116.73875427246094, 108.91388702392578, 108.32050323486328, 126.48406219482422, 102.1784439086914, 101.2160415649414, 96.5552978515625, 97.1751708984375, 85.58975982666016, 82.36150360107422, 80.95573425292969, 78.63484191894531, 80.5547866821289, 112.78398132324219, 74.47486877441406, 70.98934936523438, 69.85542297363281, 67.53350830078125, 78.63488006591797, 188.64207458496094, 345.784423828125, 270.88916015625, 383.59478759765625, 387.04119873046875, 276.5798645019531, 138.57321166992188, 608.7578735351562, 272.15618896484375, 266.21630859375, 981.0816650390625, 326.42352294921875, 578.9617309570312, 160.97747802734375, 161.48330688476562, 679.457275390625, 322.8486328125, 164.34539794921875, 342.3681945800781, 203.79550170898438, 196.9219512939453, 194.39364624023438, 189.41944885253906, 154.2966766357422, 153.31646728515625, 148.9862060546875, 132.7272491455078, 123.28496551513672, 124.33344268798828, 119.52889251708984, 115.55834197998047, 128.52182006835938, 113.57511138916016, 114.74038696289062, 112.60581970214844, 105.535400390625, 107.42495727539062, 121.8924331665039, 102.85357666015625, 98.06232452392578, 88.94200897216797, 89.0093002319336, 88.45598602294922, 93.6923599243164, 87.95210266113281, 85.89252471923828, 90.1166763305664, 80.0517349243164, 125.36417388916016, 142.0173797607422, 286.9591979980469, 93.78015899658203, 268.1011962890625, 258.1487121582031, 578.9617309570312, 679.457275390625, 134.3664093017578, 249.18695068359375, 981.0816650390625, 175.43353271484375, 322.8486328125, 289.97003173828125, 608.7578735351562, 420.1497497558594, 416.5326843261719, 300.0086669921875, 279.30291748046875, 226.9667510986328, 233.8910369873047, 222.50550842285156, 219.37432861328125, 219.00123596191406, 204.39520263671875, 200.71762084960938, 204.6370391845703, 214.9248809814453, 194.22061157226562, 192.8768768310547, 196.65524291992188, 191.27609252929688, 180.19314575195312, 184.5304412841797, 278.2519836425781, 182.38133239746094, 170.63487243652344, 166.6002655029297, 172.4656524658203, 165.7232666015625, 160.76206970214844, 159.10684204101562, 157.8633575439453, 163.48348999023438, 156.05096435546875, 267.2546081542969, 220.9444580078125, 289.1759948730469, 212.78868103027344, 981.0816650390625, 269.7009582519531, 289.97003173828125], \"Category\": [\"Default\", \"Default\", \"Default\", \"Default\", \"Default\", \"Default\", \"Default\", \"Default\", \"Default\", \"Default\", \"Default\", \"Default\", \"Default\", \"Default\", \"Default\", \"Default\", \"Default\", \"Default\", \"Default\", \"Default\", \"Default\", \"Default\", \"Default\", \"Default\", \"Default\", \"Default\", \"Default\", \"Default\", \"Default\", \"Default\", \"Topic1\", \"Topic1\", \"Topic1\", \"Topic1\", \"Topic1\", \"Topic1\", \"Topic1\", \"Topic1\", \"Topic1\", \"Topic1\", \"Topic1\", \"Topic1\", \"Topic1\", \"Topic1\", \"Topic1\", \"Topic1\", \"Topic1\", \"Topic1\", \"Topic1\", \"Topic1\", \"Topic1\", \"Topic1\", \"Topic1\", \"Topic1\", \"Topic1\", \"Topic1\", \"Topic1\", \"Topic1\", \"Topic1\", \"Topic1\", \"Topic1\", \"Topic1\", \"Topic1\", \"Topic1\", \"Topic1\", \"Topic1\", \"Topic1\", \"Topic1\", \"Topic1\", \"Topic1\", \"Topic1\", \"Topic1\", \"Topic1\", \"Topic1\", \"Topic1\", \"Topic1\", \"Topic1\", \"Topic1\", \"Topic1\", \"Topic2\", \"Topic2\", \"Topic2\", \"Topic2\", \"Topic2\", \"Topic2\", \"Topic2\", \"Topic2\", \"Topic2\", \"Topic2\", \"Topic2\", \"Topic2\", \"Topic2\", \"Topic2\", \"Topic2\", \"Topic2\", \"Topic2\", \"Topic2\", \"Topic2\", \"Topic2\", \"Topic2\", \"Topic2\", \"Topic2\", \"Topic2\", \"Topic2\", \"Topic2\", \"Topic2\", \"Topic2\", \"Topic2\", \"Topic2\", \"Topic2\", \"Topic2\", \"Topic2\", \"Topic2\", \"Topic2\", \"Topic2\", \"Topic2\", \"Topic2\", \"Topic2\", \"Topic2\", \"Topic2\", \"Topic2\", \"Topic2\", \"Topic2\", \"Topic2\", \"Topic3\", \"Topic3\", \"Topic3\", \"Topic3\", \"Topic3\", \"Topic3\", \"Topic3\", \"Topic3\", \"Topic3\", \"Topic3\", \"Topic3\", \"Topic3\", \"Topic3\", \"Topic3\", \"Topic3\", \"Topic3\", \"Topic3\", \"Topic3\", \"Topic3\", \"Topic3\", \"Topic3\", \"Topic3\", \"Topic3\", \"Topic3\", \"Topic3\", \"Topic3\", \"Topic3\", \"Topic3\", \"Topic3\", \"Topic3\", \"Topic3\", \"Topic3\", \"Topic3\", \"Topic3\", \"Topic3\", \"Topic3\", \"Topic3\"], \"logprob\": [30.0, 29.0, 28.0, 27.0, 26.0, 25.0, 24.0, 23.0, 22.0, 21.0, 20.0, 19.0, 18.0, 17.0, 16.0, 15.0, 14.0, 13.0, 12.0, 11.0, 10.0, 9.0, 8.0, 7.0, 6.0, 5.0, 4.0, 3.0, 2.0, 1.0, -4.704800128936768, -4.738500118255615, -4.771200180053711, -5.069399833679199, -5.241300106048584, -5.227499961853027, -5.3541998863220215, -5.399700164794922, -5.38070011138916, -5.392899990081787, -5.748000144958496, -4.826600074768066, -5.8821001052856445, -5.951900005340576, -5.957699775695801, -5.802700042724609, -6.016200065612793, -6.026299953460693, -6.073599815368652, -6.067500114440918, -6.195499897003174, -6.235000133514404, -6.252600193023682, -6.282100200653076, -6.258600234985352, -5.922399997711182, -6.338500022888184, -6.386600017547607, -6.4028000831604, -6.437399864196777, -6.2855000495910645, -5.426700115203857, -4.882900238037109, -5.230400085449219, -4.977099895477295, -4.99370002746582, -5.287300109863281, -5.848400115966797, -4.74429988861084, -5.377399921417236, -5.404900074005127, -4.605800151824951, -5.348999977111816, -5.023099899291992, -5.774899959564209, -5.777900218963623, -5.270299911499023, -5.714799880981445, -5.826200008392334, -4.366700172424316, -4.888199806213379, -4.922500133514404, -4.9355998039245605, -4.961900234222412, -5.168600082397461, -5.175099849700928, -5.204800128936768, -5.321199893951416, -5.395699977874756, -5.38730001449585, -5.427199840545654, -5.461400032043457, -5.355100154876709, -5.4791998863220215, -5.469399929046631, -5.488399982452393, -5.553400039672852, -5.536099910736084, -5.409800052642822, -5.579999923706055, -5.627999782562256, -5.727399826049805, -5.726799964904785, -5.73330020904541, -5.676000118255615, -5.739500045776367, -5.763599872589111, -5.715700149536133, -5.834499835968018, -5.401700019836426, -5.319900035858154, -4.73960018157959, -5.686299800872803, -4.936699867248535, -4.9654998779296875, -4.503699779510498, -4.447400093078613, -5.4653000831604, -5.116300106048584, -4.529099941253662, -5.388999938964844, -5.39739990234375, -5.418900012969971, -5.377699851989746, -4.072199821472168, -4.0808000564575195, -4.410399913787842, -4.482600212097168, -4.691100120544434, -4.661099910736084, -4.710999965667725, -4.725299835205078, -4.7270002365112305, -4.7967000007629395, -4.814899921417236, -4.795599937438965, -4.746600151062012, -4.848100185394287, -4.855000019073486, -4.835599899291992, -4.863399982452393, -4.923600196838379, -4.899799823760986, -4.489200115203857, -4.912199974060059, -4.978799819946289, -5.002799987792969, -4.968200206756592, -5.0081000328063965, -5.03879976272583, -5.049300193786621, -5.057199954986572, -5.022500038146973, -5.0690999031066895, -4.774199962615967, -4.878200054168701, -4.767899990081787, -4.950500011444092, -4.4816999435424805, -4.94950008392334, -4.974699974060059], \"loglift\": [30.0, 29.0, 28.0, 27.0, 26.0, 25.0, 24.0, 23.0, 22.0, 21.0, 20.0, 19.0, 18.0, 17.0, 16.0, 15.0, 14.0, 13.0, 12.0, 11.0, 10.0, 9.0, 8.0, 7.0, 6.0, 5.0, 4.0, 3.0, 2.0, 1.0, 0.8037999868392944, 0.8036999702453613, 0.803600013256073, 0.8021000027656555, 0.8014000058174133, 0.8009999990463257, 0.8008999824523926, 0.8007000088691711, 0.8007000088691711, 0.800599992275238, 0.7975000143051147, 0.7964000105857849, 0.7960000038146973, 0.7955999970436096, 0.7953000068664551, 0.795199990272522, 0.7950999736785889, 0.7944999933242798, 0.7943999767303467, 0.7940000295639038, 0.7929999828338623, 0.7918999791145325, 0.7914999723434448, 0.7911999821662903, 0.7904999852180481, 0.7901999950408936, 0.7890999913215637, 0.7889999747276306, 0.7889000177383423, 0.788100004196167, 0.7876999974250793, 0.7714999914169312, 0.7092999815940857, 0.6060000061988831, 0.5113999843597412, 0.48579999804496765, 0.5282999873161316, 0.65829998254776, 0.2824000120162964, 0.4542999863624573, 0.4487999975681305, -0.05640000104904175, 0.30090001225471497, 0.053700000047683716, 0.5819000005722046, 0.5756999850273132, -0.35350000858306885, -0.05389999970793724, 0.5098999738693237, 1.2354999780654907, 1.232800006866455, 1.232699990272522, 1.2324999570846558, 1.232200026512146, 1.2304999828338623, 1.2304999828338623, 1.2294000387191772, 1.2285000085830688, 1.2279000282287598, 1.2278000116348267, 1.2273000478744507, 1.2268999814987183, 1.2268999814987183, 1.2264000177383423, 1.2259000539779663, 1.2257000207901, 1.225600004196167, 1.2252000570297241, 1.225100040435791, 1.2247999906539917, 1.2244999408721924, 1.222599983215332, 1.222499966621399, 1.2223000526428223, 1.222000002861023, 1.2216999530792236, 1.2214000225067139, 1.2211999893188477, 1.220900058746338, 1.2051000595092773, 1.1621999740600586, 1.0391000509262085, 1.210800051689148, 0.9100000262260437, 0.9190000295639038, 0.5730999708175659, 0.4693000018596649, 1.072100043296814, 0.8034999966621399, 0.0203000009059906, 0.8817999958992004, 0.26339998841285706, 0.34940001368522644, -0.35100001096725464, 1.3252999782562256, 1.3251999616622925, 1.323799967765808, 1.323199987411499, 1.322100043296814, 1.322100043296814, 1.322100043296814, 1.3220000267028809, 1.3220000267028809, 1.3213000297546387, 1.3212000131607056, 1.3212000131607056, 1.3212000131607056, 1.3209999799728394, 1.3209999799728394, 1.3209999799728394, 1.3208999633789062, 1.3203999996185303, 1.3203999996185303, 1.3202999830245972, 1.319700002670288, 1.319700002670288, 1.319700002670288, 1.319700002670288, 1.319599986076355, 1.3193000555038452, 1.319200038909912, 1.319200038909912, 1.3187999725341797, 1.3186999559402466, 1.075600028038025, 1.1619000434875488, 1.003100037574768, 1.1273000240325928, 0.06769999861717224, 0.8912000060081482, 0.7936000227928162]}, \"token.table\": {\"Topic\": [1, 2, 3, 1, 2, 3, 1, 2, 3, 1, 2, 3, 1, 2, 3, 1, 2, 3, 1, 2, 3, 1, 2, 3, 1, 2, 3, 1, 2, 3, 1, 2, 3, 1, 2, 3, 1, 2, 3, 1, 2, 3, 1, 2, 3, 1, 2, 3, 1, 2, 3, 1, 2, 3, 1, 2, 3, 1, 2, 3, 1, 2, 3, 1, 2, 3, 1, 2, 3, 1, 2, 3, 1, 2, 3, 1, 2, 3, 1, 2, 3, 1, 2, 3, 1, 2, 3, 1, 2, 3, 1, 2, 3, 1, 2, 3, 1, 2, 3, 1, 2, 3, 1, 2, 3, 1, 2, 3, 1, 2, 3, 1, 2, 3, 1, 2, 3, 1, 2, 3, 1, 2, 3, 1, 2, 3, 1, 2, 3, 1, 2, 3, 1, 2, 3, 1, 2, 3, 1, 2, 3, 1, 2, 3, 1, 2, 3, 1, 2, 3, 1, 2, 3, 1, 2, 3, 1, 2, 3, 1, 2, 3, 1, 2, 3, 1, 2, 3, 1, 2, 3, 1, 2, 3, 1, 2, 3, 1, 2, 3, 1, 2, 3, 1, 2, 3, 1, 2, 3, 1, 2, 3, 1, 2, 3, 1, 2, 3, 1, 2, 3, 1, 2, 3, 1, 2, 3, 1, 2, 3, 1, 2, 3, 1, 2, 3, 1, 2, 3, 1, 2, 3, 1, 2, 3, 1, 2, 3, 1, 2, 3, 1, 2, 3, 1, 2, 3, 1, 2, 3, 1, 2, 3, 1, 2, 3, 1, 2, 3, 1, 2, 3, 1, 2, 3, 1, 2, 3, 1, 2, 3, 1, 2, 3, 1, 2, 3, 1, 2, 3, 1, 2, 3, 1, 2, 3, 1, 2, 3, 1, 2, 3, 1, 2, 3, 1, 2, 3, 1, 2, 3, 1, 2, 3, 1, 2, 3, 1, 2, 3, 1, 2, 3, 1, 2, 3, 1, 2, 3, 1, 2, 3, 1, 2, 3, 1, 2, 3, 1, 2, 3, 1, 2, 3, 1, 2, 3, 1, 2, 3, 1, 2, 3, 1, 2, 3, 1, 2, 3, 1, 2, 3, 1, 2, 3, 1, 2, 3, 1, 2, 3, 1, 2, 3, 1, 2, 3, 1, 2, 3, 1, 2, 3, 1, 2, 3, 1, 2, 3, 1, 2, 3], \"Freq\": [0.7926515936851501, 0.0061925905756652355, 0.20435549318790436, 0.0033332370221614838, 0.0033332370221614838, 0.9933046102523804, 0.008653637021780014, 0.986514687538147, 0.008653637021780014, 0.9956571459770203, 0.005212864838540554, 0.005212864838540554, 0.9879856705665588, 0.009879856370389462, 0.009879856370389462, 0.9884667992591858, 0.009786800481379032, 0.009786800481379032, 0.004275495186448097, 0.004275495186448097, 0.9919148683547974, 0.7018029093742371, 0.28660014271736145, 0.011023081839084625, 0.26855531334877014, 0.7198774218559265, 0.014919739216566086, 0.42125004529953003, 0.37478864192962646, 0.20133273303508759, 0.0054191602393984795, 0.0054191602393984795, 0.9917063117027283, 0.9834691882133484, 0.012141594663262367, 0.012141594663262367, 0.006116825621575117, 0.006116825621575117, 0.9909257292747498, 0.008804745972156525, 0.9861315488815308, 0.008804745972156525, 0.0065224566496908665, 0.991413414478302, 0.0065224566496908665, 0.004652788396924734, 0.004652788396924734, 0.9910439252853394, 0.0045661842450499535, 0.0045661842450499535, 0.9908620119094849, 0.005085041280835867, 0.005085041280835867, 0.9915830492973328, 0.004494270775467157, 0.004494270775467157, 0.993233859539032, 0.005860466975718737, 0.005860466975718737, 0.9904189109802246, 0.6986799836158752, 0.0037563438527286053, 0.2967511713504791, 0.742339015007019, 0.2068813592195511, 0.048677969723939896, 0.007534247823059559, 0.9869864583015442, 0.007534247823059559, 0.9958227276802063, 0.0027508914936333895, 0.0027508914936333895, 0.9975612759590149, 0.0028420549351722, 0.0028420549351722, 0.010197596624493599, 0.9789692759513855, 0.010197596624493599, 0.3134855031967163, 0.4621335566043854, 0.22370795905590057, 0.0050781541503965855, 0.9902400374412537, 0.0050781541503965855, 0.8195233941078186, 0.1771942377090454, 0.0036915468517690897, 0.005549600813537836, 0.005549600813537836, 0.9933785200119019, 0.26341405510902405, 0.7243886590003967, 0.015494944527745247, 0.9935042262077332, 0.005312856752425432, 0.005312856752425432, 0.4219832122325897, 0.2945728302001953, 0.28336071968078613, 0.00488670077174902, 0.00488670077174902, 0.9920002818107605, 0.9931686520576477, 0.0044737327843904495, 0.0044737327843904495, 0.9916090965270996, 0.00918156560510397, 0.00918156560510397, 0.007187729701399803, 0.0035938648506999016, 0.9919067025184631, 0.004405931569635868, 0.004405931569635868, 0.9913346171379089, 0.726020872592926, 0.27387264370918274, 0.0025837041903287172, 0.8013543486595154, 0.18014942109584808, 0.024848196655511856, 0.9801964163780212, 0.013427347876131535, 0.013427347876131535, 0.6035104393959045, 0.0030635048169642687, 0.39519211649894714, 0.011642456986010075, 0.9779663681983948, 0.011642456986010075, 0.9941263794898987, 0.003823562990874052, 0.003823562990874052, 0.009308823384344578, 0.9867353439331055, 0.009308823384344578, 0.006334592122584581, 0.006334592122584581, 0.9881963729858398, 0.004526024218648672, 0.1493588089942932, 0.8463665843009949, 0.17858092486858368, 0.004699497949331999, 0.817712664604187, 0.010663236491382122, 0.9703544974327087, 0.021326472982764244, 0.27808576822280884, 0.07415620982646942, 0.6451590061187744, 0.12651970982551575, 0.848426342010498, 0.02976934425532818, 0.9877544045448303, 0.014315281063318253, 0.014315281063318253, 0.755658745765686, 0.2422446757555008, 0.0036155921407043934, 0.47153374552726746, 0.5129872560501099, 0.015545069240033627, 0.9772926568984985, 0.014807464554905891, 0.014807464554905891, 0.008042888715863228, 0.9892752766609192, 0.008042888715863228, 0.7429715394973755, 0.020855341106653214, 0.23722949624061584, 0.0052792890928685665, 0.9925063252449036, 0.0052792890928685665, 0.008111288771033287, 0.9895772933959961, 0.008111288771033287, 0.01123478077352047, 0.9774259328842163, 0.01123478077352047, 0.004558418411761522, 0.004558418411761522, 0.9937352538108826, 0.9901090860366821, 0.0029822562355548143, 0.008946768939495087, 0.9792092442512512, 0.012717003002762794, 0.012717003002762794, 0.9814258217811584, 0.011683641001582146, 0.011683641001582146, 0.0023801038041710854, 0.0023801038041710854, 0.9948833584785461, 0.008366177789866924, 0.9872090220451355, 0.008366177789866924, 0.9937146306037903, 0.0045375097543001175, 0.0045375097543001175, 0.08980200439691544, 0.13470301032066345, 0.7745423316955566, 0.003580342046916485, 0.003580342046916485, 0.9953351020812988, 0.17075598239898682, 0.8189317584037781, 0.013939264230430126, 0.9080802202224731, 0.09254320710897446, 0.0028919752221554518, 0.010673228651285172, 0.981937050819397, 0.010673228651285172, 0.009722559712827206, 0.9819784760475159, 0.009722559712827206, 0.9860634207725525, 0.014086619950830936, 0.014086619950830936, 0.9838921427726746, 0.010356759652495384, 0.010356759652495384, 0.0060341558419167995, 0.0060341558419167995, 0.9896015524864197, 0.9975408911705017, 0.0026601089630275965, 0.0026601089630275965, 0.005148784257471561, 0.005148784257471561, 0.9937153458595276, 0.9951893091201782, 0.005077496636658907, 0.005077496636658907, 0.9806990027427673, 0.012413911521434784, 0.012413911521434784, 0.9902788400650024, 0.007502112537622452, 0.007502112537622452, 0.006002391222864389, 0.006002391222864389, 0.9903945922851562, 0.007780780084431171, 0.9881590604782104, 0.007780780084431171, 0.008880536071956158, 0.9857394695281982, 0.008880536071956158, 0.0024007719475775957, 0.0024007719475775957, 0.996320366859436, 0.003448632312938571, 0.410387247800827, 0.5862674713134766, 0.011305057443678379, 0.9835399985313416, 0.011305057443678379, 0.006481021177023649, 0.9915962219238281, 0.006481021177023649, 0.9881943464279175, 0.012352429330348969, 0.012352429330348969, 0.008203954435884953, 0.9844745397567749, 0.008203954435884953, 0.07041391730308533, 0.9224222898483276, 0.007041391916573048, 0.5913681387901306, 0.2036934643983841, 0.20533615350723267, 0.9882668256759644, 0.007906134240329266, 0.007906134240329266, 0.006712030619382858, 0.9866685271263123, 0.006712030619382858, 0.0029208320192992687, 0.9960037469863892, 0.0029208320192992687, 0.005483017303049564, 0.005483017303049564, 0.9924261569976807, 0.005228044930845499, 0.005228044930845499, 0.9933285117149353, 0.005700164474546909, 0.7011202573776245, 0.2964085638523102, 0.03190704062581062, 0.9651880264282227, 0.007976760156452656, 0.011243280954658985, 0.9781654477119446, 0.011243280954658985, 0.0034581017680466175, 0.2731900215148926, 0.7227432727813721, 0.004906879737973213, 0.99118971824646, 0.004906879737973213, 0.00622037285938859, 0.00622037285938859, 0.9890392422676086, 0.9792097210884094, 0.012717009522020817, 0.012717009522020817, 0.006408162880688906, 0.006408162880688906, 0.9868570566177368, 0.01109672524034977, 0.9765118360519409, 0.01109672524034977, 0.005798256024718285, 0.005798256024718285, 0.9915017485618591, 0.008715326897799969, 0.9848319292068481, 0.008715326897799969, 0.9647900462150574, 0.03180626779794693, 0.005301044322550297, 0.9879066944122314, 0.010290694423019886, 0.010290694423019886, 0.006285084877163172, 0.006285084877163172, 0.9930434226989746, 0.17657425999641418, 0.6461012363433838, 0.17657425999641418, 0.011369824409484863, 0.977804958820343, 0.011369824409484863, 0.005184654612094164, 0.005184654612094164, 0.9902690649032593, 0.9841822981834412, 0.008866507560014725, 0.008866507560014725, 0.004982123617082834, 0.004982123617082834, 0.9914426207542419, 0.00489248288795352, 0.00489248288795352, 0.9931740164756775, 0.009475493803620338, 0.985451340675354, 0.009475493803620338, 0.8587518334388733, 0.007216401863843203, 0.12989524006843567, 0.005144201219081879, 0.9928308129310608, 0.005144201219081879, 0.0124919218942523, 0.9743698835372925, 0.0124919218942523, 0.9878093004226685, 0.009231862612068653, 0.009231862612068653, 0.985105574131012, 0.008566135540604591, 0.008566135540604591, 0.9918546676635742, 0.005275822710245848, 0.005275822710245848], \"Term\": [\"active\", \"active\", \"active\", \"ad\", \"ad\", \"ad\", \"ale\", \"ale\", \"ale\", \"alright\", \"alright\", \"alright\", \"amy\", \"amy\", \"amy\", \"analyses\", \"analyses\", \"analyses\", \"andrea\", \"andrea\", \"andrea\", \"apology\", \"apology\", \"apology\", \"asian\", \"asian\", \"asian\", \"automatically\", \"automatically\", \"automatically\", \"bankers\", \"bankers\", \"bankers\", \"bear\", \"bear\", \"bear\", \"benghazi\", \"benghazi\", \"benghazi\", \"besides\", \"besides\", \"besides\", \"blocked\", \"blocked\", \"blocked\", \"brag\", \"brag\", \"brag\", \"brittney\", \"brittney\", \"brittney\", \"busy\", \"busy\", \"busy\", \"buzzer\", \"buzzer\", \"buzzer\", \"cdm\", \"cdm\", \"cdm\", \"china\", \"china\", \"china\", \"chinese\", \"chinese\", \"chinese\", \"clus\", \"clus\", \"clus\", \"collective\", \"collective\", \"collective\", \"command\", \"command\", \"command\", \"controlling\", \"controlling\", \"controlling\", \"counties\", \"counties\", \"counties\", \"crossing\", \"crossing\", \"crossing\", \"cry\", \"cry\", \"cry\", \"disgraced\", \"disgraced\", \"disgraced\", \"display\", \"display\", \"display\", \"distracters\", \"distracters\", \"distracters\", \"disturbing\", \"disturbing\", \"disturbing\", \"drain\", \"drain\", \"drain\", \"dumb\", \"dumb\", \"dumb\", \"dumbo\", \"dumbo\", \"dumbo\", \"dump\", \"dump\", \"dump\", \"earful\", \"earful\", \"earful\", \"eds\", \"eds\", \"eds\", \"effectivley\", \"effectivley\", \"effectivley\", \"employer\", \"employer\", \"employer\", \"enterprise\", \"enterprise\", \"enterprise\", \"establishments\", \"establishments\", \"establishments\", \"exceptional\", \"exceptional\", \"exceptional\", \"excessive\", \"excessive\", \"excessive\", \"felt\", \"felt\", \"felt\", \"festival\", \"festival\", \"festival\", \"football\", \"football\", \"football\", \"garbled\", \"garbled\", \"garbled\", \"greivenses\", \"greivenses\", \"greivenses\", \"growing\", \"growing\", \"growing\", \"gruff\", \"gruff\", \"gruff\", \"gushing\", \"gushing\", \"gushing\", \"handed\", \"handed\", \"handed\", \"harmed\", \"harmed\", \"harmed\", \"hate\", \"hate\", \"hate\", \"holden\", \"holden\", \"holden\", \"honestly\", \"honestly\", \"honestly\", \"hopefully\", \"hopefully\", \"hopefully\", \"horrible\", \"horrible\", \"horrible\", \"horse\", \"horse\", \"horse\", \"hungry\", \"hungry\", \"hungry\", \"incredibly\", \"incredibly\", \"incredibly\", \"input\", \"input\", \"input\", \"involves\", \"involves\", \"involves\", \"japan\", \"japan\", \"japan\", \"juvenile\", \"juvenile\", \"juvenile\", \"key\", \"key\", \"key\", \"knew\", \"knew\", \"knew\", \"kutcher\", \"kutcher\", \"kutcher\", \"lanes\", \"lanes\", \"lanes\", \"lightning\", \"lightning\", \"lightning\", \"likable\", \"likable\", \"likable\", \"lock\", \"lock\", \"lock\", \"misrepresentations\", \"misrepresentations\", \"misrepresentations\", \"missed\", \"missed\", \"missed\", \"new\", \"new\", \"new\", \"noah\", \"noah\", \"noah\", \"nurtured\", \"nurtured\", \"nurtured\", \"ohhhh\", \"ohhhh\", \"ohhhh\", \"oliver\", \"oliver\", \"oliver\", \"ouf\", \"ouf\", \"ouf\", \"passion\", \"passion\", \"passion\", \"period\", \"period\", \"period\", \"personally\", \"personally\", \"personally\", \"plants\", \"plants\", \"plants\", \"pocket\", \"pocket\", \"pocket\", \"prez\", \"prez\", \"prez\", \"producers\", \"producers\", \"producers\", \"promoting\", \"promoting\", \"promoting\", \"propsals\", \"propsals\", \"propsals\", \"quality\", \"quality\", \"quality\", \"regain\", \"regain\", \"regain\", \"relevant\", \"relevant\", \"relevant\", \"replaced\", \"replaced\", \"replaced\", \"reveals\", \"reveals\", \"reveals\", \"rolls\", \"rolls\", \"rolls\", \"schism\", \"schism\", \"schism\", \"senior\", \"senior\", \"senior\", \"shake\", \"shake\", \"shake\", \"simply\", \"simply\", \"simply\", \"snapping\", \"snapping\", \"snapping\", \"snot\", \"snot\", \"snot\", \"star\", \"star\", \"star\", \"starnes\", \"starnes\", \"starnes\", \"statesman\", \"statesman\", \"statesman\", \"takeaways\", \"takeaways\", \"takeaways\", \"taxing\", \"taxing\", \"taxing\", \"threat\", \"threat\", \"threat\", \"threaten\", \"threaten\", \"threaten\", \"tithes\", \"tithes\", \"tithes\", \"transparent\", \"transparent\", \"transparent\", \"tryin\", \"tryin\", \"tryin\", \"unacceptable\", \"unacceptable\", \"unacceptable\", \"undoubtedly\", \"undoubtedly\", \"undoubtedly\", \"updated\", \"updated\", \"updated\", \"visa\", \"visa\", \"visa\", \"vote\", \"vote\", \"vote\", \"wacky\", \"wacky\", \"wacky\", \"wars\", \"wars\", \"wars\", \"wise\", \"wise\", \"wise\", \"wishes\", \"wishes\", \"wishes\", \"word\", \"word\", \"word\", \"wrapped\", \"wrapped\", \"wrapped\"]}, \"R\": 30, \"lambda.step\": 0.01, \"plot.opts\": {\"xlab\": \"PC1\", \"ylab\": \"PC2\"}, \"topic.order\": [1, 2, 3]};\n",
       "\n",
       "function LDAvis_load_lib(url, callback){\n",
       "  var s = document.createElement('script');\n",
       "  s.src = url;\n",
       "  s.async = true;\n",
       "  s.onreadystatechange = s.onload = callback;\n",
       "  s.onerror = function(){console.warn(\"failed to load library \" + url);};\n",
       "  document.getElementsByTagName(\"head\")[0].appendChild(s);\n",
       "}\n",
       "\n",
       "if(typeof(LDAvis) !== \"undefined\"){\n",
       "   // already loaded: just create the visualization\n",
       "   !function(LDAvis){\n",
       "       new LDAvis(\"#\" + \"ldavis_el6334863213630243102883461\", ldavis_el6334863213630243102883461_data);\n",
       "   }(LDAvis);\n",
       "}else if(typeof define === \"function\" && define.amd){\n",
       "   // require.js is available: use it to load d3/LDAvis\n",
       "   require.config({paths: {d3: \"https://cdnjs.cloudflare.com/ajax/libs/d3/3.5.5/d3.min\"}});\n",
       "   require([\"d3\"], function(d3){\n",
       "      window.d3 = d3;\n",
       "      LDAvis_load_lib(\"https://cdn.rawgit.com/bmabey/pyLDAvis/files/ldavis.v1.0.0.js\", function(){\n",
       "        new LDAvis(\"#\" + \"ldavis_el6334863213630243102883461\", ldavis_el6334863213630243102883461_data);\n",
       "      });\n",
       "    });\n",
       "}else{\n",
       "    // require.js not available: dynamically load d3 & LDAvis\n",
       "    LDAvis_load_lib(\"https://cdnjs.cloudflare.com/ajax/libs/d3/3.5.5/d3.min.js\", function(){\n",
       "         LDAvis_load_lib(\"https://cdn.rawgit.com/bmabey/pyLDAvis/files/ldavis.v1.0.0.js\", function(){\n",
       "                 new LDAvis(\"#\" + \"ldavis_el6334863213630243102883461\", ldavis_el6334863213630243102883461_data);\n",
       "            })\n",
       "         });\n",
       "}\n",
       "</script>"
      ],
      "text/plain": [
       "PreparedData(topic_coordinates=              x         y  topics  cluster       Freq\n",
       "topic                                                \n",
       "0     -0.096223  0.162197       1        1  44.618526\n",
       "1     -0.128686 -0.147305       2        1  28.915077\n",
       "2      0.224909 -0.014891       3        1  26.466400, topic_info=            Term        Freq       Total Category  logprob  loglift\n",
       "4551    involves  420.000000  420.000000  Default  30.0000  30.0000\n",
       "1150  personally  416.000000  416.000000  Default  29.0000  29.0000\n",
       "4140    replaced  342.000000  342.000000  Default  28.0000  28.0000\n",
       "9093          ad  300.000000  300.000000  Default  27.0000  27.0000\n",
       "1450        knew  279.000000  279.000000  Default  26.0000  26.0000\n",
       "...          ...         ...         ...      ...      ...      ...\n",
       "468       simply  208.690506  289.175995   Topic3  -4.7679   1.0031\n",
       "4592    football  173.864731  212.788681   Topic3  -4.9505   1.1273\n",
       "3419  disturbing  277.852570  981.081665   Topic3  -4.4817   0.0677\n",
       "6714  greivenses  174.031372  269.700958   Topic3  -4.9495   0.8912\n",
       "5615      plants  169.707581  289.970032   Topic3  -4.9747   0.7936\n",
       "\n",
       "[161 rows x 6 columns], token_table=      Topic      Freq     Term\n",
       "term                          \n",
       "783       1  0.792652   active\n",
       "783       2  0.006193   active\n",
       "783       3  0.204355   active\n",
       "9093      1  0.003333       ad\n",
       "9093      2  0.003333       ad\n",
       "...     ...       ...      ...\n",
       "596       2  0.008566     word\n",
       "596       3  0.008566     word\n",
       "8819      1  0.991855  wrapped\n",
       "8819      2  0.005276  wrapped\n",
       "8819      3  0.005276  wrapped\n",
       "\n",
       "[372 rows x 3 columns], R=30, lambda_step=0.01, plot_opts={'xlab': 'PC1', 'ylab': 'PC2'}, topic_order=[1, 2, 3])"
      ]
     },
     "execution_count": 459,
     "metadata": {},
     "output_type": "execute_result"
    }
   ],
   "source": [
    "# Import the modules\n",
    "import pyLDAvis\n",
    "import pyLDAvis.gensim\n",
    "\n",
    "bow = [dictionary.doc2bow(token) for token in tweets.tokens]\n",
    "\n",
    "# Visualize the topics\n",
    "pyLDAvis.enable_notebook()\n",
    "vis = pyLDAvis.gensim.prepare(topic_model=lda2, corpus=bow, dictionary=dictionary)\n",
    "vis"
   ]
  },
  {
   "cell_type": "code",
   "execution_count": 468,
   "metadata": {
    "scrolled": true
   },
   "outputs": [
    {
     "data": {
      "text/html": [
       "<div>\n",
       "<style scoped>\n",
       "    .dataframe tbody tr th:only-of-type {\n",
       "        vertical-align: middle;\n",
       "    }\n",
       "\n",
       "    .dataframe tbody tr th {\n",
       "        vertical-align: top;\n",
       "    }\n",
       "\n",
       "    .dataframe thead th {\n",
       "        text-align: right;\n",
       "    }\n",
       "</style>\n",
       "<table border=\"1\" class=\"dataframe\">\n",
       "  <thead>\n",
       "    <tr style=\"text-align: right;\">\n",
       "      <th></th>\n",
       "      <th>tweet_len</th>\n",
       "      <th>num_words</th>\n",
       "      <th>nunique_words</th>\n",
       "      <th>words_diversity</th>\n",
       "      <th>sentiment</th>\n",
       "    </tr>\n",
       "  </thead>\n",
       "  <tbody>\n",
       "    <tr>\n",
       "      <th>12396</th>\n",
       "      <td>140</td>\n",
       "      <td>5</td>\n",
       "      <td>5</td>\n",
       "      <td>1.0</td>\n",
       "      <td>Negative</td>\n",
       "    </tr>\n",
       "    <tr>\n",
       "      <th>8109</th>\n",
       "      <td>104</td>\n",
       "      <td>7</td>\n",
       "      <td>7</td>\n",
       "      <td>1.0</td>\n",
       "      <td>Negative</td>\n",
       "    </tr>\n",
       "    <tr>\n",
       "      <th>10824</th>\n",
       "      <td>95</td>\n",
       "      <td>2</td>\n",
       "      <td>2</td>\n",
       "      <td>1.0</td>\n",
       "      <td>Negative</td>\n",
       "    </tr>\n",
       "    <tr>\n",
       "      <th>13264</th>\n",
       "      <td>56</td>\n",
       "      <td>3</td>\n",
       "      <td>3</td>\n",
       "      <td>1.0</td>\n",
       "      <td>Negative</td>\n",
       "    </tr>\n",
       "    <tr>\n",
       "      <th>9915</th>\n",
       "      <td>134</td>\n",
       "      <td>9</td>\n",
       "      <td>9</td>\n",
       "      <td>1.0</td>\n",
       "      <td>Negative</td>\n",
       "    </tr>\n",
       "  </tbody>\n",
       "</table>\n",
       "</div>"
      ],
      "text/plain": [
       "       tweet_len  num_words  nunique_words  words_diversity sentiment\n",
       "12396        140          5              5              1.0  Negative\n",
       "8109         104          7              7              1.0  Negative\n",
       "10824         95          2              2              1.0  Negative\n",
       "13264         56          3              3              1.0  Negative\n",
       "9915         134          9              9              1.0  Negative"
      ]
     },
     "execution_count": 468,
     "metadata": {},
     "output_type": "execute_result"
    }
   ],
   "source": [
    "tweets_complexity = pd.DataFrame()\n",
    "tweets_complexity['tweet_len'] = tweets.text.str.len()\n",
    "tweets_complexity['num_words'] = tweets.tokens.str.len()\n",
    "tweets_complexity['nunique_words'] = tweets.tokens.apply(set).str.len()\n",
    "tweets_complexity['words_diversity'] = tweets_complexity['nunique_words'] / tweets_complexity['num_words'] \n",
    "tweets_complexity['sentiment'] = tweets.sentiment\n",
    "tweets_complexity.sample(5)"
   ]
  },
  {
   "cell_type": "code",
   "execution_count": 469,
   "metadata": {
    "scrolled": false
   },
   "outputs": [
    {
     "data": {
      "image/png": "[encoded data removed]",
      "text/plain": [
       "<Figure size 1440x432 with 1 Axes>"
      ]
     },
     "metadata": {},
     "output_type": "display_data"
    }
   ],
   "source": [
    "plt.figure(figsize=(20,6))\n",
    "sns.countplot(tweets_complexity.nunique_words, hue=tweets_complexity.sentiment)\n",
    "plt.title('Tweet nbr of unique words Vs sentiment')\n",
    "plt.show()"
   ]
  },
  {
   "cell_type": "code",
   "execution_count": 470,
   "metadata": {},
   "outputs": [
    {
     "data": {
      "image/png": "[encoded data removed]",
      "text/plain": [
       "<Figure size 1440x432 with 1 Axes>"
      ]
     },
     "metadata": {},
     "output_type": "display_data"
    }
   ],
   "source": [
    "plt.figure(figsize=(20,6))\n",
    "sns.countplot(pd.cut(tweets_complexity.words_diversity, 10), hue=tweets_complexity.sentiment)\n",
    "plt.title('Used words diversity Vs sentiment')\n",
    "plt.show()"
   ]
  },
  {
   "cell_type": "markdown",
   "metadata": {
    "colab_type": "text",
    "id": "S8pX0gNvrZKe"
   },
   "source": [
    "## tweet_created"
   ]
  },
  {
   "cell_type": "markdown",
   "metadata": {
    "colab_type": "text",
    "id": "94y5F0XprZKn"
   },
   "source": [
    "let's create four categories out of tweet_created.\n",
    "\n",
    "- Noon: from 6:00 to 12:00 \n",
    "- Afternoon: from 12:01 to 17:00\n",
    "- Evening: from 17:01 to 20:00\n",
    "- Night: from 20:01 to 5:59"
   ]
  },
  {
   "cell_type": "code",
   "execution_count": 505,
   "metadata": {
    "colab": {},
    "colab_type": "code",
    "id": "0MpD8TYZrZKo"
   },
   "outputs": [],
   "source": [
    "def mapping_func(hour):\n",
    "    if 6 < hour <= 12:\n",
    "        return 'Noon'\n",
    "    elif 12 < hour <= 17:\n",
    "        return 'Afternoon'\n",
    "    elif 17 < hour <= 20:\n",
    "        return 'Evening' \n",
    "    else:\n",
    "        return 'Night'\n",
    "period_of_day = tweets.tweet_created.dt.hour.apply(mapping_func)\n",
    "tweets['period_of_day'] = period_of_day"
   ]
  },
  {
   "cell_type": "code",
   "execution_count": 506,
   "metadata": {
    "colab": {
     "base_uri": "https://localhost:8080/",
     "height": 276
    },
    "colab_type": "code",
    "id": "IKb8P-3MrZKu",
    "outputId": "980d03f5-afe3-4e04-b7af-4a1b2417115f"
   },
   "outputs": [
    {
     "data": {
      "image/png": "[encoded data removed]",
      "text/plain": [
       "<Figure size 432x288 with 1 Axes>"
      ]
     },
     "metadata": {},
     "output_type": "display_data"
    }
   ],
   "source": [
    "sns.countplot(period_of_day);"
   ]
  },
  {
   "cell_type": "markdown",
   "metadata": {},
   "source": [
    "People tend to tweet more in the morning as well as in the evening before going to bed."
   ]
  },
  {
   "cell_type": "markdown",
   "metadata": {
    "colab_type": "text",
    "id": "q9vSgmV_rZKy"
   },
   "source": [
    "## Sentiment"
   ]
  },
  {
   "cell_type": "markdown",
   "metadata": {
    "colab_type": "text",
    "id": "QWY3Aq0YrZKz"
   },
   "source": [
    "Let's encode our classes into numerical values."
   ]
  },
  {
   "cell_type": "code",
   "execution_count": 473,
   "metadata": {
    "colab": {},
    "colab_type": "code",
    "id": "r_4DPAaTrZK0"
   },
   "outputs": [],
   "source": [
    "target_encoder = LabelEncoder()\n",
    "y = pd.Series(target_encoder.fit_transform(tweets.sentiment))"
   ]
  },
  {
   "cell_type": "markdown",
   "metadata": {
    "colab_type": "text",
    "id": "b3n05nRdrZK8"
   },
   "source": [
    "As we saw in EDA ~30% of these two features is composed of missing values. Let's consider the missing value as another category therefore we will impute it -999.\n",
    "\n",
    "Let's create two other feature, user_timezone_isna and tweet_location_isna which will hold a boolean value to indictate to the model the rows containing missing values respectively for user_timezone and tweet_location."
   ]
  },
  {
   "cell_type": "code",
   "execution_count": 474,
   "metadata": {
    "colab": {},
    "colab_type": "code",
    "id": "Ut9fliLbrZK-"
   },
   "outputs": [],
   "source": [
    "tweets['user_timezone_isna'] = tweets.user_timezone.isna().astype(int)\n",
    "tweets['tweet_location_isna'] = tweets.tweet_location.isna().astype(int)\n",
    "tweets['user_timezone'] = tweets.user_timezone.fillna(-999)\n",
    "tweets['tweet_location'] = tweets.tweet_location.fillna(-999)"
   ]
  },
  {
   "cell_type": "markdown",
   "metadata": {
    "colab_type": "text",
    "id": "qOawi0tMrZLB"
   },
   "source": [
    "## Candidate"
   ]
  },
  {
   "cell_type": "code",
   "execution_count": 475,
   "metadata": {
    "colab": {
     "base_uri": "https://localhost:8080/",
     "height": 34
    },
    "colab_type": "code",
    "id": "_SiB6bRGrZLC",
    "outputId": "56ea3d88-e04b-497d-9c40-b0fee92b9cd1"
   },
   "outputs": [
    {
     "data": {
      "text/plain": [
       "96"
      ]
     },
     "execution_count": 475,
     "metadata": {},
     "output_type": "execute_result"
    }
   ],
   "source": [
    "tweets.candidate.isna().sum()"
   ]
  },
  {
   "cell_type": "markdown",
   "metadata": {
    "colab_type": "text",
    "id": "r8hbf1elrZLH"
   },
   "source": [
    "When a candidate is not mentionned, the tweet is put in 'No candidate mentioned'. Therefore, I will consider the missing candidate values to be part of 'No candidate mentioned' category."
   ]
  },
  {
   "cell_type": "code",
   "execution_count": 476,
   "metadata": {
    "colab": {},
    "colab_type": "code",
    "id": "tEoT5KzOrZLI"
   },
   "outputs": [],
   "source": [
    "from sklearn.impute import SimpleImputer\n",
    "imputer = SimpleImputer(strategy='most_frequent')\n",
    "tweets['candidate'] = imputer.fit_transform(tweets['candidate'].values.reshape(-1, 1))"
   ]
  },
  {
   "cell_type": "markdown",
   "metadata": {
    "colab_type": "text",
    "id": "67kTdB7BrZLL"
   },
   "source": [
    "## Data split"
   ]
  },
  {
   "cell_type": "markdown",
   "metadata": {
    "colab_type": "text",
    "id": "2hVK2nwArZLM"
   },
   "source": [
    "Our final dataset will be composed of the following features: user_timezone_isna, tweet_location_isna, user_timezone, tweet_location, text embeddings, retweet_count and candidate"
   ]
  },
  {
   "cell_type": "code",
   "execution_count": 507,
   "metadata": {},
   "outputs": [],
   "source": [
    "boolean_features = ['user_timezone_isna', 'tweet_location_isna']\n",
    "categorical_features = ['candidate', 'user_timezone', 'tweet_location', 'period_of_day']\n",
    "numerical_features = ['retweet_count']\n",
    "embeddings = ['text']"
   ]
  },
  {
   "cell_type": "code",
   "execution_count": 508,
   "metadata": {
    "scrolled": false
   },
   "outputs": [
    {
     "data": {
      "text/html": [
       "<div>\n",
       "<style scoped>\n",
       "    .dataframe tbody tr th:only-of-type {\n",
       "        vertical-align: middle;\n",
       "    }\n",
       "\n",
       "    .dataframe tbody tr th {\n",
       "        vertical-align: top;\n",
       "    }\n",
       "\n",
       "    .dataframe thead th {\n",
       "        text-align: right;\n",
       "    }\n",
       "</style>\n",
       "<table border=\"1\" class=\"dataframe\">\n",
       "  <thead>\n",
       "    <tr style=\"text-align: right;\">\n",
       "      <th></th>\n",
       "      <th>user_timezone_isna</th>\n",
       "      <th>tweet_location_isna</th>\n",
       "      <th>candidate</th>\n",
       "      <th>user_timezone</th>\n",
       "      <th>tweet_location</th>\n",
       "      <th>period_of_day</th>\n",
       "      <th>retweet_count</th>\n",
       "      <th>text</th>\n",
       "    </tr>\n",
       "  </thead>\n",
       "  <tbody>\n",
       "    <tr>\n",
       "      <th>7628</th>\n",
       "      <td>0</td>\n",
       "      <td>0</td>\n",
       "      <td>No candidate mentioned</td>\n",
       "      <td>Central Time (US &amp; Canada)</td>\n",
       "      <td>NOLA</td>\n",
       "      <td>Noon</td>\n",
       "      <td>19</td>\n",
       "      <td>RT @warriorwoman91: Many Republicans are upset...</td>\n",
       "    </tr>\n",
       "    <tr>\n",
       "      <th>3028</th>\n",
       "      <td>0</td>\n",
       "      <td>0</td>\n",
       "      <td>Ben Carson</td>\n",
       "      <td>Tijuana</td>\n",
       "      <td>Northeast</td>\n",
       "      <td>Noon</td>\n",
       "      <td>2</td>\n",
       "      <td>Ben Carson at last night's #GOPDebate http://t...</td>\n",
       "    </tr>\n",
       "    <tr>\n",
       "      <th>10281</th>\n",
       "      <td>1</td>\n",
       "      <td>1</td>\n",
       "      <td>No candidate mentioned</td>\n",
       "      <td>-999</td>\n",
       "      <td>-999</td>\n",
       "      <td>Evening</td>\n",
       "      <td>1</td>\n",
       "      <td>This isn't the republican primary, it's So You...</td>\n",
       "    </tr>\n",
       "    <tr>\n",
       "      <th>8725</th>\n",
       "      <td>0</td>\n",
       "      <td>0</td>\n",
       "      <td>No candidate mentioned</td>\n",
       "      <td>Eastern Time (US &amp; Canada)</td>\n",
       "      <td>Boston, MA</td>\n",
       "      <td>Night</td>\n",
       "      <td>116</td>\n",
       "      <td>RT @RWSurferGirl: So @megynkelly posed for adu...</td>\n",
       "    </tr>\n",
       "    <tr>\n",
       "      <th>10598</th>\n",
       "      <td>0</td>\n",
       "      <td>0</td>\n",
       "      <td>No candidate mentioned</td>\n",
       "      <td>Atlantic Time (Canada)</td>\n",
       "      <td>wrong levvvveeeeerrrrr</td>\n",
       "      <td>Evening</td>\n",
       "      <td>0</td>\n",
       "      <td>sad to say that SNL hasnt written a comedy ske...</td>\n",
       "    </tr>\n",
       "  </tbody>\n",
       "</table>\n",
       "</div>"
      ],
      "text/plain": [
       "       user_timezone_isna  tweet_location_isna               candidate  \\\n",
       "7628                    0                    0  No candidate mentioned   \n",
       "3028                    0                    0              Ben Carson   \n",
       "10281                   1                    1  No candidate mentioned   \n",
       "8725                    0                    0  No candidate mentioned   \n",
       "10598                   0                    0  No candidate mentioned   \n",
       "\n",
       "                    user_timezone          tweet_location period_of_day  \\\n",
       "7628   Central Time (US & Canada)                   NOLA           Noon   \n",
       "3028                      Tijuana              Northeast           Noon   \n",
       "10281                        -999                    -999       Evening   \n",
       "8725   Eastern Time (US & Canada)              Boston, MA         Night   \n",
       "10598      Atlantic Time (Canada)  wrong levvvveeeeerrrrr       Evening   \n",
       "\n",
       "       retweet_count                                               text  \n",
       "7628              19  RT @warriorwoman91: Many Republicans are upset...  \n",
       "3028               2  Ben Carson at last night's #GOPDebate http://t...  \n",
       "10281              1  This isn't the republican primary, it's So You...  \n",
       "8725             116  RT @RWSurferGirl: So @megynkelly posed for adu...  \n",
       "10598              0  sad to say that SNL hasnt written a comedy ske...  "
      ]
     },
     "execution_count": 508,
     "metadata": {},
     "output_type": "execute_result"
    }
   ],
   "source": [
    "tweets[boolean_features+categorical_features+numerical_features+embeddings].sample(5)"
   ]
  },
  {
   "cell_type": "code",
   "execution_count": 479,
   "metadata": {
    "colab": {},
    "colab_type": "code",
    "id": "X6ANI21wrZLT"
   },
   "outputs": [],
   "source": [
    "from sklearn.model_selection import train_test_split\n",
    "\n",
    "SEED = 42\n",
    "\n",
    "X_train, X_test, y_train, y_test = train_test_split(tweets[boolean_features+categorical_features+numerical_features+embeddings], y, test_size=.2,\n",
    "                               stratify=y, random_state=SEED)"
   ]
  },
  {
   "cell_type": "markdown",
   "metadata": {
    "colab_type": "text",
    "id": "uDCTDq2MrZLW"
   },
   "source": [
    "# Pipeline"
   ]
  },
  {
   "cell_type": "markdown",
   "metadata": {
    "colab_type": "text",
    "id": "xxwtqBWorZLW"
   },
   "source": [
    "For the categorical variable, I suggest that we count encode them. Basically we will replace each categorie by it's number of occurences."
   ]
  },
  {
   "cell_type": "code",
   "execution_count": 500,
   "metadata": {
    "colab": {},
    "colab_type": "code",
    "id": "DbkYiBeNrZLX"
   },
   "outputs": [],
   "source": [
    "class Doc2Vec(BaseEstimator):\n",
    "\n",
    "    def __init__(self, vector_size=50, min_count=2, epochs=40):        \n",
    "        self.vector_size=vector_size\n",
    "        self.min_count=min_count\n",
    "        self.epochs=epochs\n",
    "        \n",
    "    def __pre_process(self, X, train_tag=True):\n",
    "        X_tr = X.copy()\n",
    "        X_tr = X_tr.text.str.replace(r'[#@RT]+\\S+', '')\n",
    "        X_tr = X_tr.str.replace('&amp;', '')\n",
    "        X_tr = X_tr.str.replace(r'http[s]*\\S+', '')\n",
    "        X_tr = X_tr.str.replace(r'\\s+', ' ').str.strip()\n",
    "        X_tr = X_tr.str.lower()\n",
    "\n",
    "        X_tr = X_tr.apply(word_tokenize)\n",
    "\n",
    "        X_tr = [[token.lower() for token in tokens if token.isalpha()] for tokens in X_tr]\n",
    "        X_tr = [[token.lower() for token in tokens] for tokens in X_tr]\n",
    "        # no lemmatization or stemming since we are going to use pre-trained embeddings\n",
    "\n",
    "\n",
    "        # delete stop words\n",
    "        X_tr = [[token.lower() for token in tokens if token not in stop_words] for tokens in X_tr]\n",
    "        \n",
    "        X_tag = []\n",
    "        for i, doc in enumerate(X_tr):\n",
    "                # For training data, add tags\n",
    "                if train_tag:\n",
    "                    X_tag.append(gensim.models.doc2vec.TaggedDocument(doc, [i]))\n",
    "                else:\n",
    "                    X_tag.append(doc)\n",
    "        \n",
    "        return list(X_tag)\n",
    "    \n",
    "    def fit(self, X_train, y=None):\n",
    "        self.model = gensim.models.doc2vec.Doc2Vec(vector_size=self.vector_size, min_count=self.min_count, epochs=self.epochs)\n",
    "        X_train_tag = self.__pre_process(X_train)\n",
    "        self.model.build_vocab(X_train_tag) \n",
    "        self.model.train(X_train_tag, total_examples=self.model.corpus_count, epochs=self.model.epochs)\n",
    "        \n",
    "        return self\n",
    "\n",
    "    def transform(self, X):\n",
    "        X_tr = self.__pre_process(X, train_tag=False)\n",
    "        doc2vec_embeddings = np.array([self.model.infer_vector(doc) for doc in X_tr])\n",
    "        \n",
    "        return doc2vec_embeddings\n",
    "\n",
    "class CountEncoder(BaseEstimator):\n",
    "\n",
    "    def __init__(self, normalize=True):\n",
    "        self.normalize = normalize\n",
    "\n",
    "    def fit(self, X_train, y=None):\n",
    "        self.__set_mapping(X_train)\n",
    "        \n",
    "        return self\n",
    "\n",
    "    def transform(self, X):\n",
    "        X_tr = X.copy()\n",
    "\n",
    "        if type(X) != type(pd.DataFrame()): \n",
    "            raise ValueError(f'{type(X)} not supported')\n",
    "        \n",
    "        col_id = 0\n",
    "        for col, serie in  X.iteritems():\n",
    "            X_tr[col] = serie.map(self.mapping_list[col_id])\n",
    "            col_id += 1\n",
    "        \n",
    "        return X_tr\n",
    "\n",
    "    def __set_mapping(self, X):\n",
    "        if type(X) != type(pd.DataFrame()):\n",
    "            raise ValueError(f'{type(X)} not supported')\n",
    "\n",
    "        self.mapping_list = []\n",
    "        for col, serie in X.iteritems():\n",
    "            if self.normalize:\n",
    "                self.mapping_list.append((serie.value_counts()/serie.value_counts().max()).to_dict())\n",
    "            else:\n",
    "                self.mapping_list.append(serie.value_counts().to_dict())"
   ]
  },
  {
   "cell_type": "code",
   "execution_count": 484,
   "metadata": {},
   "outputs": [
    {
     "name": "stdout",
     "output_type": "stream",
     "text": [
      "[12:55:06] WARNING: /Users/travis/build/dmlc/xgboost/src/learner.cc:480: \n",
      "Parameters: { boosting_type } might not be used.\n",
      "\n",
      "  This may not be accurate due to some parameters are only used in language bindings but\n",
      "  passed down to XGBoost core.  Or some parameters are not used but slip through this\n",
      "  verification. Please open an issue if you find above cases.\n",
      "\n",
      "\n"
     ]
    },
    {
     "data": {
      "text/plain": [
       "Pipeline(steps=[('feature_engineering',\n",
       "                 ColumnTransformer(remainder='passthrough',\n",
       "                                   transformers=[('CountEncoder',\n",
       "                                                  CountEncoder(),\n",
       "                                                  ['candidate', 'user_timezone',\n",
       "                                                   'tweet_location']),\n",
       "                                                 ('doc2vec', Doc2Vec(),\n",
       "                                                  ['text'])],\n",
       "                                   verbose=0)),\n",
       "                ('model',\n",
       "                 XGBClassifier(base_score=0.5, booster='gbtree',\n",
       "                               boosting_type='gbdt', colsample_bylevel=1,\n",
       "                               colsample_bynode=1, colsample_bytree=...\n",
       "                               interaction_constraints='',\n",
       "                               learning_rate=0.300000012, max_delta_step=0,\n",
       "                               max_depth=5, min_child_weight=1, missing=nan,\n",
       "                               monotone_constraints='()', n_estimators=100,\n",
       "                               n_jobs=0, num_class=3, num_parallel_tree=1,\n",
       "                               objective='multi:softprob', random_state=0,\n",
       "                               reg_alpha=0, reg_lambda=1, scale_pos_weight=None,\n",
       "                               subsample=1, tree_method='exact',\n",
       "                               validate_parameters=1, verbosity=None))])"
      ]
     },
     "execution_count": 484,
     "metadata": {},
     "output_type": "execute_result"
    }
   ],
   "source": [
    "static_params = {\n",
    "    'objective': 'multi:softmax',\n",
    "    'boosting_type': 'gbdt',\n",
    "    'num_class': 3,\n",
    "    'max_depth': 5\n",
    "}\n",
    "\n",
    "\n",
    "feature_engineering = ColumnTransformer([('CountEncoder', CountEncoder(), categorical_features),\n",
    "                                         ('doc2vec', Doc2Vec(), embeddings)],\n",
    "                                         remainder='passthrough', verbose=0)\n",
    "\n",
    "steps = [('feature_engineering', feature_engineering),\n",
    "         ('model', XGBClassifier(**static_params))\n",
    "        ]\n",
    "\n",
    "model = Pipeline(steps)\n",
    "    \n",
    "\n",
    "\n",
    "model.fit(X_train, y_train)"
   ]
  },
  {
   "cell_type": "code",
   "execution_count": 485,
   "metadata": {},
   "outputs": [
    {
     "name": "stdout",
     "output_type": "stream",
     "text": [
      "              precision    recall  f1-score   support\n",
      "\n",
      "           0       0.68      0.90      0.78      1699\n",
      "           1       0.49      0.22      0.31       629\n",
      "           2       0.57      0.32      0.41       447\n",
      "\n",
      "    accuracy                           0.65      2775\n",
      "   macro avg       0.58      0.48      0.50      2775\n",
      "weighted avg       0.62      0.65      0.61      2775\n",
      "\n"
     ]
    }
   ],
   "source": [
    "print(classification_report(y_test, model.predict(X_test)))"
   ]
  },
  {
   "cell_type": "code",
   "execution_count": 486,
   "metadata": {},
   "outputs": [
    {
     "name": "stdout",
     "output_type": "stream",
     "text": [
      "              precision    recall  f1-score   support\n",
      "\n",
      "           0       0.76      0.95      0.84      6794\n",
      "           1       0.77      0.45      0.56      2513\n",
      "           2       0.81      0.54      0.65      1789\n",
      "\n",
      "    accuracy                           0.77     11096\n",
      "   macro avg       0.78      0.64      0.69     11096\n",
      "weighted avg       0.77      0.77      0.75     11096\n",
      "\n"
     ]
    }
   ],
   "source": [
    "print(classification_report(y_train, model.predict(X_train)))"
   ]
  },
  {
   "cell_type": "markdown",
   "metadata": {},
   "source": [
    "The model performed badly, maybe this is caused by class imbalance. Let's use SMOTE to create synthetic embeddings."
   ]
  },
  {
   "cell_type": "markdown",
   "metadata": {},
   "source": [
    "## Create synthetic tweets by applying SMOTE"
   ]
  },
  {
   "cell_type": "code",
   "execution_count": 487,
   "metadata": {
    "colab": {},
    "colab_type": "code",
    "id": "Y2Pq9VeWrZLa"
   },
   "outputs": [
    {
     "data": {
      "text/plain": [
       "XGBClassifier(base_score=0.5, booster='gbtree', colsample_bylevel=1,\n",
       "              colsample_bynode=1, colsample_bytree=1, gamma=0, gpu_id=-1,\n",
       "              importance_type='gain', interaction_constraints='',\n",
       "              learning_rate=0.300000012, max_delta_step=0, max_depth=5,\n",
       "              min_child_weight=1, missing=nan, monotone_constraints='()',\n",
       "              n_estimators=100, n_jobs=0, num_class=3, num_parallel_tree=1,\n",
       "              objective='multi:softprob', random_state=0, reg_alpha=0,\n",
       "              reg_lambda=1, scale_pos_weight=None, subsample=1,\n",
       "              tree_method='exact', validate_parameters=1, verbosity=None)"
      ]
     },
     "execution_count": 487,
     "metadata": {},
     "output_type": "execute_result"
    }
   ],
   "source": [
    "static_params = {\n",
    "    'objective': 'multi:softmax',\n",
    "    'num_class': 3,\n",
    "    'max_depth': 5\n",
    "}\n",
    "\n",
    "\n",
    "feature_engineering = ColumnTransformer([('CountEncoder', CountEncoder(), categorical_features),\n",
    "                                         ('doc2vec', Doc2Vec(), embeddings)],\n",
    "                                         remainder='passthrough', verbose=0)\n",
    "strategy = {0:6794, 1:6794, 2:6794}\n",
    "\n",
    "X_train_tr = feature_engineering.fit_transform(X_train, y_train)\n",
    "sm = SMOTE(sampling_strategy=strategy)\n",
    "X_train_tr_res, y_train_res = sm.fit_resample(X_train_tr, y_train)\n",
    "\n",
    "model = XGBClassifier(**static_params)\n",
    "\n",
    "model.fit(X_train_tr_res, y_train_res)"
   ]
  },
  {
   "cell_type": "code",
   "execution_count": 488,
   "metadata": {
    "scrolled": true
   },
   "outputs": [
    {
     "name": "stdout",
     "output_type": "stream",
     "text": [
      "              precision    recall  f1-score   support\n",
      "\n",
      "           0       0.70      0.79      0.74      1699\n",
      "           1       0.42      0.32      0.36       629\n",
      "           2       0.45      0.38      0.42       447\n",
      "\n",
      "    accuracy                           0.62      2775\n",
      "   macro avg       0.52      0.50      0.51      2775\n",
      "weighted avg       0.60      0.62      0.60      2775\n",
      "\n"
     ]
    }
   ],
   "source": [
    "print(classification_report(y_test, model.predict(feature_engineering.transform(X_test))))"
   ]
  },
  {
   "cell_type": "code",
   "execution_count": 489,
   "metadata": {
    "scrolled": true
   },
   "outputs": [
    {
     "name": "stdout",
     "output_type": "stream",
     "text": [
      "              precision    recall  f1-score   support\n",
      "\n",
      "           0       0.94      0.92      0.93      6794\n",
      "           1       0.92      0.92      0.92      6794\n",
      "           2       0.94      0.95      0.94      6794\n",
      "\n",
      "    accuracy                           0.93     20382\n",
      "   macro avg       0.93      0.93      0.93     20382\n",
      "weighted avg       0.93      0.93      0.93     20382\n",
      "\n"
     ]
    }
   ],
   "source": [
    "print(classification_report(y_train_res, model.predict(X_train_tr_res)))"
   ]
  },
  {
   "cell_type": "markdown",
   "metadata": {},
   "source": [
    "- the model has over-fitted the data, and has not generalized well."
   ]
  },
  {
   "cell_type": "markdown",
   "metadata": {
    "colab_type": "text",
    "id": "_VeMvuv7K8zL"
   },
   "source": [
    "The model performs poorly, it could be that the the number of samples is not sufficient for the model to perform better. \n",
    "\n",
    "Options to consider in order to improve the model performance:\n",
    "\n",
    "- perform a grid search to optimize hyper-parameters\n",
    "- feature engineering"
   ]
  },
  {
   "cell_type": "markdown",
   "metadata": {},
   "source": [
    "# RNN with pre-trained embeddings"
   ]
  },
  {
   "cell_type": "code",
   "execution_count": 374,
   "metadata": {},
   "outputs": [],
   "source": [
    "def pre_process_data(df):\n",
    "    df_cleaned = df.copy()\n",
    "    df_cleaned['text_cleaned'] = df.text.str.replace('[#@RT]+\\S+', '')\n",
    "    df_cleaned['text_cleaned'] = df_cleaned.text_cleaned.str.replace('&amp;', '')\n",
    "    df_cleaned['text_cleaned'] = df_cleaned.text_cleaned.str.replace(r'http[s]*\\S+', '')\n",
    "    df_cleaned['text_cleaned'] = df_cleaned.text_cleaned.str.replace('\\s+', ' ').str.strip()\n",
    "    df_cleaned['text_cleaned'] = df_cleaned.text_cleaned.str.lower()\n",
    "    df_cleaned['tokens'] = df_cleaned.text_cleaned.apply(word_tokenize)\n",
    "    df_cleaned['tokens'] = df_cleaned.tokens.apply(lambda tokens: [token for token in tokens if token.isalpha()])\n",
    "    df_cleaned['tokens'] = df_cleaned.tokens.apply(lambda tokens: [token for token in tokens if token not in stop_words])\n",
    "\n",
    "    return df_cleaned\n",
    "\n",
    "def get_vector(word, embeddings):\n",
    "    return embeddings.loc[word].to_list()"
   ]
  },
  {
   "cell_type": "code",
   "execution_count": 375,
   "metadata": {},
   "outputs": [],
   "source": [
    "import csv\n",
    "words = pd.read_table('glove.6B.50d.txt', sep=\" \", index_col=0, header=None, quoting=csv.QUOTE_NONE)\n",
    "glove_vocab = words.index.to_list()"
   ]
  },
  {
   "cell_type": "code",
   "execution_count": 514,
   "metadata": {},
   "outputs": [
    {
     "name": "stdout",
     "output_type": "stream",
     "text": [
      "cleaning tweets...\n",
      "There is 8294 unique word in tweets corpus\n",
      "94.90% of the the vocab is covered by Glove\n",
      "Progress 99.99%...\r"
     ]
    }
   ],
   "source": [
    "from sklearn.model_selection import train_test_split\n",
    "from gensim.models import Word2Vec\n",
    "from tensorflow.keras.preprocessing.sequence import pad_sequences\n",
    "from sklearn.preprocessing import StandardScaler\n",
    "\n",
    "X = tweets[boolean_features+categorical_features+numerical_features+embeddings]\n",
    "\n",
    "# encode target variable\n",
    "target_encoder = LabelEncoder()\n",
    "y = pd.Series(target_encoder.fit_transform(tweets.sentiment))\n",
    "\n",
    "# encode categories\n",
    "y_encoded = to_categorical(y, num_classes=3)\n",
    "\n",
    "# clean \n",
    "print('cleaning tweets...')\n",
    "X = pre_process_data(X)\n",
    "\n",
    "# data split\n",
    "X_train, X_test, y_train, y_test = train_test_split(X,\n",
    "                                                    y_encoded,\n",
    "                                                    stratify=y)\n",
    "\n",
    "feature_engineering = ColumnTransformer([('CountEncoder', CountEncoder(), categorical_features),\n",
    "                                         ('scaler', StandardScaler(), numerical_features)],\n",
    "                                         remainder='drop', verbose=0)\n",
    "\n",
    "X_train_other_features = feature_engineering.fit_transform(X_train)\n",
    "X_test_other_features = feature_engineering.transform(X_test)\n",
    "\n",
    "# get vocab from train set\n",
    "vocab_twitter = []\n",
    "for index, tokens in X_train.tokens.iteritems():\n",
    "    vocab_twitter.extend(list(set(tokens)))\n",
    "\n",
    "vocab_twitter = list(set(vocab_twitter))\n",
    "print(f'There is {len(vocab_twitter)} unique word in tweets corpus')\n",
    "\n",
    "covered_vocab_count = 0\n",
    "for vocab in vocab_twitter:\n",
    "    if vocab in glove_vocab:\n",
    "        covered_vocab_count += 1\n",
    "        \n",
    "print(f\"{covered_vocab_count/len(vocab_twitter):.2%} of the the vocab is covered by Glove\")\n",
    "\n",
    "word_to_index = {v:k for k, v in enumerate(vocab_twitter, start=1)}\n",
    "index_to_word = {k:v for k, v in enumerate(vocab_twitter, start=1)}\n",
    "\n",
    "# this will be used as default value for words that do not belong to vocab extracted from train set\n",
    "word_to_index['<UNKW>'] = 0\n",
    "index_to_word[0] = '<UNKW>'\n",
    "\n",
    "index_to_word = {k:v for k, v in sorted(index_to_word.items(), key=lambda x: x[0])}\n",
    "word_to_index = {k:v for k, v in sorted(word_to_index.items(), key=lambda x: x[1])}\n",
    "\n",
    "# on rajoute +1 car l'index 0 le RNN le reserve pour le padding\n",
    "embedding_matrix = np.zeros((len(word_to_index)+1, 50))\n",
    "for word, i in word_to_index.items():\n",
    "    if word in glove_vocab:\n",
    "        embedding_matrix[i] = get_vector(word, words)\n",
    "    print(f\"Progress {i/len(word_to_index):.2%}...\", end='\\r')\n",
    "    \n",
    "# convert word to index\n",
    "X_train_idx = X_train.tokens.apply(lambda tokens: [word_to_index[token] for token in tokens])\n",
    "X_train_pad = pad_sequences(X_train_idx, maxlen=13)\n",
    "\n",
    "X_test_idx = tweets_cleaned_test.tokens.apply(lambda tokens: [word_to_index.get(token, 0) for token in tokens])\n",
    "X_test_pad = pad_sequences(X_test_idx, maxlen=13)"
   ]
  },
  {
   "cell_type": "code",
   "execution_count": 517,
   "metadata": {},
   "outputs": [
    {
     "data": {
      "text/plain": [
       "((10403, 5), (10403, 13))"
      ]
     },
     "execution_count": 517,
     "metadata": {},
     "output_type": "execute_result"
    }
   ],
   "source": [
    "X_train_other_features.shape, X_train_pad.shape"
   ]
  },
  {
   "cell_type": "code",
   "execution_count": 557,
   "metadata": {},
   "outputs": [
    {
     "name": "stdout",
     "output_type": "stream",
     "text": [
      "Model: \"functional_100\"\n",
      "__________________________________________________________________________________________________\n",
      "Layer (type)                    Output Shape         Param #     Connected to                     \n",
      "==================================================================================================\n",
      "input_44 (InputLayer)           [(None, 13)]         0                                            \n",
      "__________________________________________________________________________________________________\n",
      "embedding_58 (Embedding)        (None, 13, 50)       414800      input_44[0][0]                   \n",
      "__________________________________________________________________________________________________\n",
      "gru_80 (GRU)                    (None, 13, 128)      69120       embedding_58[0][0]               \n",
      "__________________________________________________________________________________________________\n",
      "input_45 (InputLayer)           [(None, 5)]          0                                            \n",
      "__________________________________________________________________________________________________\n",
      "dropout_13 (Dropout)            (None, 13, 128)      0           gru_80[0][0]                     \n",
      "__________________________________________________________________________________________________\n",
      "dense_81 (Dense)                (None, 50)           300         input_45[0][0]                   \n",
      "__________________________________________________________________________________________________\n",
      "gru_81 (GRU)                    (None, 128)          99072       dropout_13[0][0]                 \n",
      "__________________________________________________________________________________________________\n",
      "dense_82 (Dense)                (None, 50)           2550        dense_81[0][0]                   \n",
      "__________________________________________________________________________________________________\n",
      "concatenate_11 (Concatenate)    (None, 178)          0           gru_81[0][0]                     \n",
      "                                                                 dense_82[0][0]                   \n",
      "__________________________________________________________________________________________________\n",
      "dense_83 (Dense)                (None, 10)           1790        concatenate_11[0][0]             \n",
      "__________________________________________________________________________________________________\n",
      "dense_84 (Dense)                (None, 3)            33          dense_83[0][0]                   \n",
      "==================================================================================================\n",
      "Total params: 587,665\n",
      "Trainable params: 172,865\n",
      "Non-trainable params: 414,800\n",
      "__________________________________________________________________________________________________\n"
     ]
    }
   ],
   "source": [
    "from tensorflow.keras.models import Sequential\n",
    "from tensorflow.keras.layers import Embedding, GRU, Dense, LSTM, Dropout, Concatenate\n",
    "from tensorflow.keras.initializers import Constant\n",
    "from tensorflow.keras.regularizers import Regularizer, l1_l2\n",
    "\n",
    "input_text_sequence = Input((13,))\n",
    "input_other_features = Input((5,))\n",
    "\n",
    "#RNN\n",
    "embedding_output = Embedding(input_dim=len(word_to_index) + 1, output_dim=50, \n",
    "                    embeddings_initializer=Constant(embedding_matrix), \n",
    "                    input_length=13, trainable=False)(input_text_sequence)\n",
    "\n",
    "seq2seq_output = GRU(128, return_sequences=True)(embedding_output)\n",
    "drop_out = Dropout(0.2)(seq2seq_output)\n",
    "seq2out_output = GRU(128, return_sequences=False)(drop_out)\n",
    "mdl_a = Model(inputs=input_text_sequence, outputs=seq2out_output)\n",
    "\n",
    "#MLP\n",
    "y = Dense(50, activation='relu', kernel_regularizer=l1_l2(0.02))(input_other_features)\n",
    "y = Dense(50, activation='relu', kernel_regularizer=l1_l2(0.02))(y)\n",
    "mdl_b = Model(inputs=input_other_features, outputs=y)\n",
    "\n",
    "# stacking \n",
    "combined = Concatenate()([mdl_a.output, mdl_b.output])\n",
    "z = Dense(10, activation=\"relu\")(combined)\n",
    "model_proba = Dense(3, activation='softmax')(z)\n",
    "\n",
    "model = Model(inputs=[mdl_a.input, mdl_b.input], outputs=model_proba)\n",
    "\n",
    "model.compile(loss='categorical_crossentropy', optimizer='Adam', metrics=['accuracy'])\n",
    "model.summary()"
   ]
  },
  {
   "cell_type": "code",
   "execution_count": 558,
   "metadata": {
    "scrolled": false
   },
   "outputs": [
    {
     "name": "stdout",
     "output_type": "stream",
     "text": [
      "Epoch 1/40\n",
      "131/131 [==============================] - 9s 68ms/step - loss: 6.3129 - accuracy: 0.4847 - val_loss: 2.8109 - val_accuracy: 0.5247\n",
      "Epoch 2/40\n",
      "131/131 [==============================] - 7s 56ms/step - loss: 2.5538 - accuracy: 0.5441 - val_loss: 0.9709 - val_accuracy: 0.5968\n",
      "Epoch 3/40\n",
      "131/131 [==============================] - 8s 57ms/step - loss: 1.8311 - accuracy: 0.5716 - val_loss: 0.9659 - val_accuracy: 0.5382\n",
      "Epoch 4/40\n",
      "131/131 [==============================] - 7s 57ms/step - loss: 1.7638 - accuracy: 0.5741 - val_loss: 0.9108 - val_accuracy: 0.5781\n",
      "Epoch 5/40\n",
      "131/131 [==============================] - 7s 56ms/step - loss: 1.6898 - accuracy: 0.5987 - val_loss: 0.9378 - val_accuracy: 0.5656\n",
      "Epoch 6/40\n",
      "131/131 [==============================] - 7s 56ms/step - loss: 1.6336 - accuracy: 0.6145 - val_loss: 0.8671 - val_accuracy: 0.5944\n",
      "Epoch 7/40\n",
      "131/131 [==============================] - 8s 57ms/step - loss: 1.5695 - accuracy: 0.6342 - val_loss: 0.9174 - val_accuracy: 0.5718\n",
      "Epoch 8/40\n",
      "131/131 [==============================] - 16s 120ms/step - loss: 1.5165 - accuracy: 0.6366 - val_loss: 0.9152 - val_accuracy: 0.5805\n",
      "Epoch 9/40\n",
      "131/131 [==============================] - 10s 80ms/step - loss: 1.4411 - accuracy: 0.6562 - val_loss: 0.9120 - val_accuracy: 0.5925\n",
      "Epoch 10/40\n",
      "131/131 [==============================] - 9s 65ms/step - loss: 1.3838 - accuracy: 0.6682 - val_loss: 0.8794 - val_accuracy: 0.6002\n",
      "Epoch 11/40\n",
      "131/131 [==============================] - 7s 55ms/step - loss: 1.3317 - accuracy: 0.6810 - val_loss: 0.9689 - val_accuracy: 0.5598\n",
      "Epoch 12/40\n",
      "131/131 [==============================] - 7s 50ms/step - loss: 1.2481 - accuracy: 0.6995 - val_loss: 0.9328 - val_accuracy: 0.5877\n",
      "Epoch 13/40\n",
      "131/131 [==============================] - 7s 51ms/step - loss: 1.1727 - accuracy: 0.7222 - val_loss: 1.0244 - val_accuracy: 0.5579\n",
      "Epoch 14/40\n",
      "131/131 [==============================] - 7s 54ms/step - loss: 1.1067 - accuracy: 0.7336 - val_loss: 1.0079 - val_accuracy: 0.5992\n",
      "Epoch 15/40\n",
      "131/131 [==============================] - 7s 55ms/step - loss: 1.0706 - accuracy: 0.7455 - val_loss: 1.0160 - val_accuracy: 0.6079\n",
      "Epoch 16/40\n",
      "131/131 [==============================] - 7s 53ms/step - loss: 0.9883 - accuracy: 0.7626 - val_loss: 1.0871 - val_accuracy: 0.6079\n",
      "Epoch 17/40\n",
      "131/131 [==============================] - 8s 62ms/step - loss: 0.9331 - accuracy: 0.7793 - val_loss: 1.1376 - val_accuracy: 0.5949\n",
      "Epoch 18/40\n",
      "131/131 [==============================] - 7s 54ms/step - loss: 0.8697 - accuracy: 0.7829 - val_loss: 1.1718 - val_accuracy: 0.6122\n",
      "Epoch 19/40\n",
      "131/131 [==============================] - 7s 52ms/step - loss: 0.8227 - accuracy: 0.8052 - val_loss: 1.2060 - val_accuracy: 0.6180\n",
      "Epoch 20/40\n",
      "131/131 [==============================] - 9s 67ms/step - loss: 0.7899 - accuracy: 0.8122 - val_loss: 1.2454 - val_accuracy: 0.6016\n",
      "Epoch 21/40\n",
      "131/131 [==============================] - 7s 57ms/step - loss: 0.7677 - accuracy: 0.8165 - val_loss: 1.2629 - val_accuracy: 0.6103\n",
      "Epoch 22/40\n",
      "131/131 [==============================] - 10s 73ms/step - loss: 0.7047 - accuracy: 0.8317 - val_loss: 1.3509 - val_accuracy: 0.6161\n",
      "Epoch 23/40\n",
      "131/131 [==============================] - 9s 71ms/step - loss: 0.6803 - accuracy: 0.8363 - val_loss: 1.3513 - val_accuracy: 0.6112\n",
      "Epoch 24/40\n",
      "131/131 [==============================] - 7s 54ms/step - loss: 0.6560 - accuracy: 0.8469 - val_loss: 1.3898 - val_accuracy: 0.6127\n",
      "Epoch 25/40\n",
      "131/131 [==============================] - 7s 53ms/step - loss: 0.6846 - accuracy: 0.8456 - val_loss: 1.4781 - val_accuracy: 0.6069\n",
      "Epoch 26/40\n",
      "131/131 [==============================] - 9s 71ms/step - loss: 0.6378 - accuracy: 0.8512 - val_loss: 1.4124 - val_accuracy: 0.6103\n",
      "Epoch 27/40\n",
      "131/131 [==============================] - 10s 76ms/step - loss: 0.6087 - accuracy: 0.8530 - val_loss: 1.4808 - val_accuracy: 0.6036\n",
      "Epoch 28/40\n",
      "131/131 [==============================] - 8s 62ms/step - loss: 0.5872 - accuracy: 0.8645 - val_loss: 1.4802 - val_accuracy: 0.6074\n",
      "Epoch 29/40\n",
      "130/131 [============================>.] - ETA: 0s - loss: 0.5635 - accuracy: 0.8691Restoring model weights from the end of the best epoch.\n",
      "131/131 [==============================] - 8s 59ms/step - loss: 0.5646 - accuracy: 0.8690 - val_loss: 1.5775 - val_accuracy: 0.6103\n",
      "Epoch 00029: early stopping\n"
     ]
    },
    {
     "data": {
      "text/plain": [
       "<tensorflow.python.keras.callbacks.History at 0x191e08dd0>"
      ]
     },
     "execution_count": 558,
     "metadata": {},
     "output_type": "execute_result"
    }
   ],
   "source": [
    "from tensorflow.keras.callbacks import ReduceLROnPlateau, EarlyStopping\n",
    "callbacks = [EarlyStopping(monitor='val_accuracy', patience=10, restore_best_weights=True, verbose=1)]\n",
    "model.fit(x=[X_train_pad, X_train_other_features], y=y_train, validation_split=0.2,\n",
    "          batch_size=64, epochs=40, callbacks=callbacks, class_weight={0:1, 1: 3, 2:4})"
   ]
  },
  {
   "cell_type": "code",
   "execution_count": 559,
   "metadata": {},
   "outputs": [],
   "source": [
    "y_pred_proba = model.predict([X_test_pad, X_test_other_features])\n",
    "y_pred_label = [np.argmax(y) for y in y_pred_proba]\n",
    "y_pred_true = [np.argmax(y) for y in y_test]"
   ]
  },
  {
   "cell_type": "code",
   "execution_count": 562,
   "metadata": {},
   "outputs": [
    {
     "name": "stdout",
     "output_type": "stream",
     "text": [
      "              precision    recall  f1-score   support\n",
      "\n",
      "           0       0.68      0.60      0.64      2409\n",
      "           1       0.17      0.22      0.19       631\n",
      "           2       0.13      0.18      0.15       428\n",
      "\n",
      "    accuracy                           0.48      3468\n",
      "   macro avg       0.33      0.33      0.33      3468\n",
      "weighted avg       0.52      0.48      0.50      3468\n",
      "\n"
     ]
    }
   ],
   "source": [
    "from sklearn.metrics import classification_report\n",
    "print(classification_report(y_pred_label, y_pred_true))"
   ]
  }
 ],
 "metadata": {
  "accelerator": "GPU",
  "colab": {
   "collapsed_sections": [
    "hpdEhw3SrZJ9"
   ],
   "name": "Tweets-sentiment-analysis.ipynb",
   "provenance": [],
   "toc_visible": true
  },
  "kernelspec": {
   "display_name": "Python 3",
   "language": "python",
   "name": "python3"
  },
  "language_info": {
   "codemirror_mode": {
    "name": "ipython",
    "version": 3
   },
   "file_extension": ".py",
   "mimetype": "text/x-python",
   "name": "python",
   "nbconvert_exporter": "python",
   "pygments_lexer": "ipython3",
   "version": "3.7.6"
  }
 },
 "nbformat": 4,
 "nbformat_minor": 1
}
