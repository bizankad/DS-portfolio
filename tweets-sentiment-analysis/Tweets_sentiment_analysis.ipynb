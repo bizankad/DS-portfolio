{
  "nbformat": 4,
  "nbformat_minor": 0,
  "metadata": {
    "accelerator": "GPU",
    "colab": {
      "name": "Tweets-sentiment-analysis.ipynb",
      "provenance": [],
      "collapsed_sections": [
        "hpdEhw3SrZJ9"
      ],
      "toc_visible": true
    },
    "kernelspec": {
      "display_name": "Python 3",
      "language": "python",
      "name": "python3"
    },
    "language_info": {
      "codemirror_mode": {
        "name": "ipython",
        "version": 3
      },
      "file_extension": ".py",
      "mimetype": "text/x-python",
      "name": "python",
      "nbconvert_exporter": "python",
      "pygments_lexer": "ipython3",
      "version": "3.7.6"
    }
  },
  "cells": [
    {
      "cell_type": "code",
      "metadata": {
        "colab_type": "code",
        "id": "C43JEWCorZHG",
        "colab": {
          "base_uri": "https://localhost:8080/",
          "height": 71
        },
        "outputId": "b6965b58-9e9e-4a17-ec8a-b3aaec403f44"
      },
      "source": [
        "import pandas as pd\n",
        "import numpy as np\n",
        "import seaborn as sns\n",
        "import matplotlib.pyplot as plt \n",
        "plt.style.use('seaborn-whitegrid')"
      ],
      "execution_count": 2,
      "outputs": [
        {
          "output_type": "stream",
          "text": [
            "/usr/local/lib/python3.6/dist-packages/statsmodels/tools/_testing.py:19: FutureWarning: pandas.util.testing is deprecated. Use the functions in the public API at pandas.testing instead.\n",
            "  import pandas.util.testing as tm\n"
          ],
          "name": "stderr"
        }
      ]
    },
    {
      "cell_type": "markdown",
      "metadata": {
        "colab_type": "text",
        "id": "dFtjXqbBs9oA"
      },
      "source": [
        "This data originally came from Crowdflower's [Data for Everyone library](http://www.crowdflower.com/data-for-everyone).\n",
        "\n",
        "As the original source says,\n",
        "\n",
        "> We looked through tens of thousands of tweets about the early August GOP debate in Ohio and asked contributors to do both sentiment analysis and data categorization. Contributors were asked which candidate was mentioned, and what the sentiment was for a given tweet. "
      ]
    },
    {
      "cell_type": "code",
      "metadata": {
        "colab_type": "code",
        "id": "1CWhxB9srZHn",
        "colab": {
          "base_uri": "https://localhost:8080/",
          "height": 581
        },
        "outputId": "fb46b1d7-3f12-4ad4-8e80-34c8da8d081d"
      },
      "source": [
        "# load dataset \n",
        "tweets = pd.read_csv('input/Sentiment.csv', parse_dates=['tweet_created'])\n",
        "tweets.sample(5)"
      ],
      "execution_count": 4,
      "outputs": [
        {
          "output_type": "execute_result",
          "data": {
            "text/html": [
              "<div>\n",
              "<style scoped>\n",
              "    .dataframe tbody tr th:only-of-type {\n",
              "        vertical-align: middle;\n",
              "    }\n",
              "\n",
              "    .dataframe tbody tr th {\n",
              "        vertical-align: top;\n",
              "    }\n",
              "\n",
              "    .dataframe thead th {\n",
              "        text-align: right;\n",
              "    }\n",
              "</style>\n",
              "<table border=\"1\" class=\"dataframe\">\n",
              "  <thead>\n",
              "    <tr style=\"text-align: right;\">\n",
              "      <th></th>\n",
              "      <th>Unnamed: 0</th>\n",
              "      <th>id</th>\n",
              "      <th>candidate</th>\n",
              "      <th>sentiment</th>\n",
              "      <th>name</th>\n",
              "      <th>retweet_count</th>\n",
              "      <th>text</th>\n",
              "      <th>tweet_coord</th>\n",
              "      <th>tweet_created</th>\n",
              "      <th>tweet_id</th>\n",
              "      <th>tweet_location</th>\n",
              "      <th>user_timezone</th>\n",
              "    </tr>\n",
              "  </thead>\n",
              "  <tbody>\n",
              "    <tr>\n",
              "      <th>514</th>\n",
              "      <td>514</td>\n",
              "      <td>515</td>\n",
              "      <td>Ted Cruz</td>\n",
              "      <td>Positive</td>\n",
              "      <td>MaidmaeMarion</td>\n",
              "      <td>98</td>\n",
              "      <td>RT @RickCanton: #CruzCrew - the outsider. Alwa...</td>\n",
              "      <td>NaN</td>\n",
              "      <td>2015-08-07 09:50:45-07:00</td>\n",
              "      <td>629696190381068288</td>\n",
              "      <td>NaN</td>\n",
              "      <td>NaN</td>\n",
              "    </tr>\n",
              "    <tr>\n",
              "      <th>10758</th>\n",
              "      <td>10758</td>\n",
              "      <td>10759</td>\n",
              "      <td>No candidate mentioned</td>\n",
              "      <td>Negative</td>\n",
              "      <td>RWSurferGirl</td>\n",
              "      <td>157</td>\n",
              "      <td>It is very disappointing that Fox News is not ...</td>\n",
              "      <td>NaN</td>\n",
              "      <td>2015-08-06 19:50:06-07:00</td>\n",
              "      <td>629484634946940928</td>\n",
              "      <td>Newport Beach, California</td>\n",
              "      <td>Pacific Time (US &amp; Canada)</td>\n",
              "    </tr>\n",
              "    <tr>\n",
              "      <th>13022</th>\n",
              "      <td>13022</td>\n",
              "      <td>13023</td>\n",
              "      <td>No candidate mentioned</td>\n",
              "      <td>Negative</td>\n",
              "      <td>blckburn</td>\n",
              "      <td>0</td>\n",
              "      <td>Wait did he say Pimps and Prostitutes #GopDebates</td>\n",
              "      <td>NaN</td>\n",
              "      <td>2015-08-06 19:11:28-07:00</td>\n",
              "      <td>629474911782895616</td>\n",
              "      <td>iPhone: 39.754280,-84.201958</td>\n",
              "      <td>Eastern Time (US &amp; Canada)</td>\n",
              "    </tr>\n",
              "    <tr>\n",
              "      <th>1171</th>\n",
              "      <td>1171</td>\n",
              "      <td>1172</td>\n",
              "      <td>No candidate mentioned</td>\n",
              "      <td>Negative</td>\n",
              "      <td>LindaC528</td>\n",
              "      <td>390</td>\n",
              "      <td>RT @MarkDiStef: As an Australian watching the ...</td>\n",
              "      <td>NaN</td>\n",
              "      <td>2015-08-07 09:44:11-07:00</td>\n",
              "      <td>629694537028337665</td>\n",
              "      <td>S.W. Chicago suburbs</td>\n",
              "      <td>Central Time (US &amp; Canada)</td>\n",
              "    </tr>\n",
              "    <tr>\n",
              "      <th>8402</th>\n",
              "      <td>8402</td>\n",
              "      <td>8403</td>\n",
              "      <td>Donald Trump</td>\n",
              "      <td>Neutral</td>\n",
              "      <td>sew_4th</td>\n",
              "      <td>72</td>\n",
              "      <td>RT @larryelder: Trump should have said, \"Megyn...</td>\n",
              "      <td>NaN</td>\n",
              "      <td>2015-08-07 03:22:34-07:00</td>\n",
              "      <td>629598498292432896</td>\n",
              "      <td>NaN</td>\n",
              "      <td>Quito</td>\n",
              "    </tr>\n",
              "  </tbody>\n",
              "</table>\n",
              "</div>"
            ],
            "text/plain": [
              "       Unnamed: 0  ...               user_timezone\n",
              "514           514  ...                         NaN\n",
              "10758       10758  ...  Pacific Time (US & Canada)\n",
              "13022       13022  ...  Eastern Time (US & Canada)\n",
              "1171         1171  ...  Central Time (US & Canada)\n",
              "8402         8402  ...                       Quito\n",
              "\n",
              "[5 rows x 12 columns]"
            ]
          },
          "metadata": {
            "tags": []
          },
          "execution_count": 4
        }
      ]
    },
    {
      "cell_type": "code",
      "metadata": {
        "colab_type": "code",
        "id": "_X5pQRz1rZIA",
        "colab": {
          "base_uri": "https://localhost:8080/",
          "height": 34
        },
        "outputId": "cfc58810-8142-4dd4-bc03-886e76f828db"
      },
      "source": [
        "print(f\"dataset contains {tweets.shape[0]} tweets and {tweets.shape[1]} predictor variables.\")"
      ],
      "execution_count": null,
      "outputs": [
        {
          "output_type": "stream",
          "text": [
            "dataset contains 13871 tweets and 12 predictor variables.\n"
          ],
          "name": "stdout"
        }
      ]
    },
    {
      "cell_type": "code",
      "metadata": {
        "colab_type": "code",
        "id": "YileFspCrZIP",
        "colab": {
          "base_uri": "https://localhost:8080/",
          "height": 291
        },
        "outputId": "edd66b14-1b01-4e2f-d650-3a7831bfbea2"
      },
      "source": [
        "plt.figure()\n",
        "ax = plt.axes()\n",
        "sns.countplot(tweets.sentiment)\n",
        "\n",
        "total_tweets = len(tweets)\n",
        "plt.title('class distribution')\n",
        "for p in ax.patches:\n",
        "    height = p.get_height()\n",
        "    ax.text(p.get_x()+p.get_width()/2.,\n",
        "            height+20,\n",
        "            f'{int(height)/total_tweets:.2%}',\n",
        "            ha=\"center\", fontsize=10)\n",
        "    \n",
        "plt.show()"
      ],
      "execution_count": null,
      "outputs": [
        {
          "output_type": "display_data",
          "data": {
            "image/png": "[encoded data removed]",
            "text/plain": [
              "<Figure size 432x288 with 1 Axes>"
            ]
          },
          "metadata": {
            "tags": []
          }
        }
      ]
    },
    {
      "cell_type": "code",
      "metadata": {
        "colab_type": "code",
        "id": "t2iIT8iTrZIZ",
        "colab": {
          "base_uri": "https://localhost:8080/",
          "height": 421
        },
        "outputId": "95c7a42f-6fbc-47dc-cd94-4768cd643329"
      },
      "source": [
        "contingency_table = pd.crosstab(tweets.candidate, tweets.sentiment)\n",
        "contingency_table['negative_proportion'] = contingency_table.Negative/contingency_table.sum(axis=1)\n",
        "contingency_table"
      ],
      "execution_count": null,
      "outputs": [
        {
          "output_type": "execute_result",
          "data": {
            "text/html": [
              "<div>\n",
              "<style scoped>\n",
              "    .dataframe tbody tr th:only-of-type {\n",
              "        vertical-align: middle;\n",
              "    }\n",
              "\n",
              "    .dataframe tbody tr th {\n",
              "        vertical-align: top;\n",
              "    }\n",
              "\n",
              "    .dataframe thead th {\n",
              "        text-align: right;\n",
              "    }\n",
              "</style>\n",
              "<table border=\"1\" class=\"dataframe\">\n",
              "  <thead>\n",
              "    <tr style=\"text-align: right;\">\n",
              "      <th>sentiment</th>\n",
              "      <th>Negative</th>\n",
              "      <th>Neutral</th>\n",
              "      <th>Positive</th>\n",
              "      <th>negative_proportion</th>\n",
              "    </tr>\n",
              "    <tr>\n",
              "      <th>candidate</th>\n",
              "      <th></th>\n",
              "      <th></th>\n",
              "      <th></th>\n",
              "      <th></th>\n",
              "    </tr>\n",
              "  </thead>\n",
              "  <tbody>\n",
              "    <tr>\n",
              "      <th>Ben Carson</th>\n",
              "      <td>186</td>\n",
              "      <td>54</td>\n",
              "      <td>164</td>\n",
              "      <td>0.460396</td>\n",
              "    </tr>\n",
              "    <tr>\n",
              "      <th>Chris Christie</th>\n",
              "      <td>218</td>\n",
              "      <td>42</td>\n",
              "      <td>33</td>\n",
              "      <td>0.744027</td>\n",
              "    </tr>\n",
              "    <tr>\n",
              "      <th>Donald Trump</th>\n",
              "      <td>1758</td>\n",
              "      <td>446</td>\n",
              "      <td>609</td>\n",
              "      <td>0.624956</td>\n",
              "    </tr>\n",
              "    <tr>\n",
              "      <th>Jeb Bush</th>\n",
              "      <td>589</td>\n",
              "      <td>72</td>\n",
              "      <td>44</td>\n",
              "      <td>0.835461</td>\n",
              "    </tr>\n",
              "    <tr>\n",
              "      <th>John Kasich</th>\n",
              "      <td>82</td>\n",
              "      <td>47</td>\n",
              "      <td>113</td>\n",
              "      <td>0.338843</td>\n",
              "    </tr>\n",
              "    <tr>\n",
              "      <th>Marco Rubio</th>\n",
              "      <td>105</td>\n",
              "      <td>51</td>\n",
              "      <td>119</td>\n",
              "      <td>0.381818</td>\n",
              "    </tr>\n",
              "    <tr>\n",
              "      <th>Mike Huckabee</th>\n",
              "      <td>237</td>\n",
              "      <td>83</td>\n",
              "      <td>73</td>\n",
              "      <td>0.603053</td>\n",
              "    </tr>\n",
              "    <tr>\n",
              "      <th>No candidate mentioned</th>\n",
              "      <td>4724</td>\n",
              "      <td>2087</td>\n",
              "      <td>680</td>\n",
              "      <td>0.630623</td>\n",
              "    </tr>\n",
              "    <tr>\n",
              "      <th>Rand Paul</th>\n",
              "      <td>148</td>\n",
              "      <td>60</td>\n",
              "      <td>55</td>\n",
              "      <td>0.562738</td>\n",
              "    </tr>\n",
              "    <tr>\n",
              "      <th>Scott Walker</th>\n",
              "      <td>179</td>\n",
              "      <td>38</td>\n",
              "      <td>42</td>\n",
              "      <td>0.691120</td>\n",
              "    </tr>\n",
              "    <tr>\n",
              "      <th>Ted Cruz</th>\n",
              "      <td>221</td>\n",
              "      <td>126</td>\n",
              "      <td>290</td>\n",
              "      <td>0.346939</td>\n",
              "    </tr>\n",
              "  </tbody>\n",
              "</table>\n",
              "</div>"
            ],
            "text/plain": [
              "sentiment               Negative  Neutral  Positive  negative_proportion\n",
              "candidate                                                               \n",
              "Ben Carson                   186       54       164             0.460396\n",
              "Chris Christie               218       42        33             0.744027\n",
              "Donald Trump                1758      446       609             0.624956\n",
              "Jeb Bush                     589       72        44             0.835461\n",
              "John Kasich                   82       47       113             0.338843\n",
              "Marco Rubio                  105       51       119             0.381818\n",
              "Mike Huckabee                237       83        73             0.603053\n",
              "No candidate mentioned      4724     2087       680             0.630623\n",
              "Rand Paul                    148       60        55             0.562738\n",
              "Scott Walker                 179       38        42             0.691120\n",
              "Ted Cruz                     221      126       290             0.346939"
            ]
          },
          "metadata": {
            "tags": []
          },
          "execution_count": 9
        }
      ]
    },
    {
      "cell_type": "markdown",
      "metadata": {
        "colab_type": "text",
        "id": "HXtIjHYPrZIh"
      },
      "source": [
        "The candidate `Donald Trump` has the highest number of negative tweets. However, if we look at the total number of tweet per candidate we can see that `Jeb Bush` has almost 84% of the tweets mentionning him as negative."
      ]
    },
    {
      "cell_type": "markdown",
      "metadata": {
        "colab_type": "text",
        "id": "SjmsKzfDrZIi"
      },
      "source": [
        "**What kind of tweets are the most retweeted?**"
      ]
    },
    {
      "cell_type": "code",
      "metadata": {
        "colab_type": "code",
        "id": "c7qsUVBorZIj",
        "colab": {
          "base_uri": "https://localhost:8080/",
          "height": 102
        },
        "outputId": "615bdc5a-04b7-42e5-f3ee-7cd500dd2a00"
      },
      "source": [
        "tweets.groupby('sentiment').sum()['retweet_count']"
      ],
      "execution_count": null,
      "outputs": [
        {
          "output_type": "execute_result",
          "data": {
            "text/plain": [
              "sentiment\n",
              "Negative    419335.0\n",
              "Neutral     117243.0\n",
              "Positive     98760.0\n",
              "Name: retweet_count, dtype: float64"
            ]
          },
          "metadata": {
            "tags": []
          },
          "execution_count": 10
        }
      ]
    },
    {
      "cell_type": "markdown",
      "metadata": {
        "colab_type": "text",
        "id": "4Bw7jY0JrZIv"
      },
      "source": [
        "Negative tweets are more than 4 times retweeted than positive tweets. "
      ]
    },
    {
      "cell_type": "markdown",
      "metadata": {
        "colab_type": "text",
        "id": "efqoyCy6rZIw"
      },
      "source": [
        "**Who are the most retweeted candidates?**"
      ]
    },
    {
      "cell_type": "code",
      "metadata": {
        "colab_type": "code",
        "id": "vyG28_9jrZIx",
        "colab": {
          "base_uri": "https://localhost:8080/",
          "height": 434
        },
        "outputId": "27dc87df-6db9-4b7a-d929-61751e15cc31"
      },
      "source": [
        "most_rt_candidates = tweets.groupby('candidate').sum()['retweet_count'].sort_values()\n",
        "plt.figure(figsize=(15,6))\n",
        "sns.barplot(most_rt_candidates.index, most_rt_candidates)\n",
        "plt.xticks(rotation=45)\n",
        "plt.show()"
      ],
      "execution_count": null,
      "outputs": [
        {
          "output_type": "display_data",
          "data": {
            "image/png": "[encoded data removed]",
            "text/plain": [
              "<Figure size 1080x432 with 1 Axes>"
            ]
          },
          "metadata": {
            "tags": []
          }
        }
      ]
    },
    {
      "cell_type": "markdown",
      "metadata": {
        "colab_type": "text",
        "id": "dGVdfnXLrZI2"
      },
      "source": [
        "Let us have a look at the time variable `tweet_created`"
      ]
    },
    {
      "cell_type": "code",
      "metadata": {
        "colab_type": "code",
        "id": "gaEZheVorZI6",
        "colab": {
          "base_uri": "https://localhost:8080/",
          "height": 102
        },
        "outputId": "e7a40edd-dcc7-4e25-cfbe-18d85544666b"
      },
      "source": [
        "start_date = tweets.tweet_created.sort_values().iloc[0]\n",
        "end_date = tweets.tweet_created.sort_values().iloc[-1]\n",
        "start_date, end_date, (end_date - start_date), start_date.day_name(), end_date.day_name()"
      ],
      "execution_count": null,
      "outputs": [
        {
          "output_type": "execute_result",
          "data": {
            "text/plain": [
              "(Timestamp('2015-08-06 17:44:53-0700', tz='pytz.FixedOffset(-420)'),\n",
              " Timestamp('2015-08-07 10:12:32-0700', tz='pytz.FixedOffset(-420)'),\n",
              " Timedelta('0 days 16:27:39'),\n",
              " 'Thursday',\n",
              " 'Friday')"
            ]
          },
          "metadata": {
            "tags": []
          },
          "execution_count": 12
        }
      ]
    },
    {
      "cell_type": "markdown",
      "metadata": {
        "colab_type": "text",
        "id": "U_lcRMjPrZJE"
      },
      "source": [
        "We can conclude that the tweets recording lasted for 16hours and ~28 minute. The recodring started Thursday, august 2015 at 17:44 until friday, august 2015 at 10:12."
      ]
    },
    {
      "cell_type": "markdown",
      "metadata": {
        "colab_type": "text",
        "id": "iJdM6NWkrZJF"
      },
      "source": [
        "**How are tweets distributed accros the day? is there any time slot that has more tweets than others?**"
      ]
    },
    {
      "cell_type": "code",
      "metadata": {
        "colab_type": "code",
        "id": "gtfMhcCErZJG",
        "colab": {}
      },
      "source": [
        "tweets_ordered_bytime = tweets.sort_values(by='tweet_created')"
      ],
      "execution_count": null,
      "outputs": []
    },
    {
      "cell_type": "code",
      "metadata": {
        "colab_type": "code",
        "id": "05I4GMI0rZJL",
        "colab": {
          "base_uri": "https://localhost:8080/",
          "height": 297
        },
        "outputId": "00ebfa89-fd78-49ef-edfa-996cd5ae48f5"
      },
      "source": [
        "plt.figure(figsize=(20,6))\n",
        "sns.countplot(tweets_ordered_bytime.tweet_created.dt.hour, hue=tweets_ordered_bytime.sentiment)\n",
        "plt.title('tweets distribution over the day Vs Sentiment')\n",
        "plt.show()"
      ],
      "execution_count": null,
      "outputs": [
        {
          "output_type": "display_data",
          "data": {
            "image/png": "[encoded data removed]",
            "text/plain": [
              "<Figure size 1440x432 with 1 Axes>"
            ]
          },
          "metadata": {
            "tags": []
          }
        }
      ]
    },
    {
      "cell_type": "markdown",
      "metadata": {
        "colab_type": "text",
        "id": "x3svvpdIrZJT"
      },
      "source": [
        "We might one to add a new predictor variable that stores the hour of the day or maybe categorigal variable with the following enumeration: morning, afternoon, evening, night"
      ]
    },
    {
      "cell_type": "markdown",
      "metadata": {
        "colab_type": "text",
        "id": "ab80zk4OrZJT"
      },
      "source": [
        "## Missing values"
      ]
    },
    {
      "cell_type": "code",
      "metadata": {
        "colab_type": "code",
        "id": "RP--nIf-rZJU",
        "scrolled": false,
        "colab": {
          "base_uri": "https://localhost:8080/",
          "height": 491
        },
        "outputId": "f0c29d19-8882-437d-fc67-fa770653fc11"
      },
      "source": [
        "plt.figure(figsize=(20,10))\n",
        "sns.heatmap(tweets_ordered_bytime.isna())\n",
        "plt.show()"
      ],
      "execution_count": null,
      "outputs": [
        {
          "output_type": "display_data",
          "data": {
            "image/png": "[encoded data removed]",
            "text/plain": [
              "<Figure size 1440x720 with 2 Axes>"
            ]
          },
          "metadata": {
            "tags": []
          }
        }
      ]
    },
    {
      "cell_type": "markdown",
      "metadata": {
        "colab_type": "text",
        "id": "mB5lSQMlrZJZ"
      },
      "source": [
        "`Tweet_location` and `user_timezone` contain a lot of missing values.\n",
        "- add new boolean is_nan + impuatation most freq ?"
      ]
    },
    {
      "cell_type": "code",
      "metadata": {
        "colab_type": "code",
        "id": "kGz05OcLrZJd",
        "colab": {
          "base_uri": "https://localhost:8080/",
          "height": 34
        },
        "outputId": "6909f210-ad4a-4edf-9793-cf3a6d6cec98"
      },
      "source": [
        "tweets.tweet_location.isna().sum()/len(tweets), tweets.user_timezone.isna().sum()/len(tweets)"
      ],
      "execution_count": null,
      "outputs": [
        {
          "output_type": "execute_result",
          "data": {
            "text/plain": [
              "(0.28202725109941607, 0.3174248431980391)"
            ]
          },
          "metadata": {
            "tags": []
          },
          "execution_count": 13
        }
      ]
    },
    {
      "cell_type": "markdown",
      "metadata": {
        "id": "siaUYaHtCS0c",
        "colab_type": "text"
      },
      "source": [
        "Tweet_location and user_timezone are composed of neary 30% of missing of values."
      ]
    },
    {
      "cell_type": "code",
      "metadata": {
        "colab_type": "code",
        "id": "qQeofVXnrZJz",
        "colab": {}
      },
      "source": [
        "from scipy import stats\n",
        "\n",
        "def is_feature_important(feature, target, alpha=.05):\n",
        "    crosstable = pd.crosstab(target,feature) \n",
        "    chi2, p, dof, expected = stats.chi2_contingency(crosstable.values)\n",
        "    \n",
        "    return p < alpha"
      ],
      "execution_count": null,
      "outputs": []
    },
    {
      "cell_type": "code",
      "metadata": {
        "colab_type": "code",
        "id": "DunxV6jJrZJ4",
        "scrolled": true,
        "colab": {
          "base_uri": "https://localhost:8080/",
          "height": 34
        },
        "outputId": "4a895bcf-668c-47ce-c24e-b205a5681984"
      },
      "source": [
        "is_feature_important(tweets.user_timezone, tweets.sentiment), is_feature_important(tweets.tweet_location, tweets.sentiment)"
      ],
      "execution_count": null,
      "outputs": [
        {
          "output_type": "execute_result",
          "data": {
            "text/plain": [
              "(True, True)"
            ]
          },
          "metadata": {
            "tags": []
          },
          "execution_count": 17
        }
      ]
    },
    {
      "cell_type": "markdown",
      "metadata": {
        "id": "FBjxnxFRCS0j",
        "colab_type": "text"
      },
      "source": [
        "- Tweet_location and user_timezone are correlated with the target variable accorind to kh2 test of independance."
      ]
    },
    {
      "cell_type": "markdown",
      "metadata": {
        "colab_type": "text",
        "id": "hpdEhw3SrZJ9"
      },
      "source": [
        "## Feature engineering"
      ]
    },
    {
      "cell_type": "markdown",
      "metadata": {
        "colab_type": "text",
        "id": "bomsBnIQrZJ-"
      },
      "source": [
        "## Tweets text"
      ]
    },
    {
      "cell_type": "markdown",
      "metadata": {
        "colab_type": "text",
        "id": "nR2ZvSGmrZJ-"
      },
      "source": [
        "Let's print some tweets and see how they look"
      ]
    },
    {
      "cell_type": "code",
      "metadata": {
        "colab_type": "code",
        "id": "BEiS6RdErZJ_",
        "colab": {
          "base_uri": "https://localhost:8080/",
          "height": 71
        },
        "outputId": "c3823686-af69-425b-ac0e-210c3465c9b7"
      },
      "source": [
        "tweets.text.sample(2).to_list()"
      ],
      "execution_count": null,
      "outputs": [
        {
          "output_type": "execute_result",
          "data": {
            "text/plain": [
              "[\"RT @Nice1Parker: #GOPdebates where the bell doesn't mean a thing #dingdingding 😂\",\n",
              " 'RT @ckimbro927: Paul brilliantly got Christie to admit that he would violate the 4th Amendment. Of course, no one in that building cares. #…']"
            ]
          },
          "metadata": {
            "tags": []
          },
          "execution_count": 17
        }
      ]
    },
    {
      "cell_type": "markdown",
      "metadata": {
        "colab_type": "text",
        "id": "krGxJwinrZKE"
      },
      "source": [
        "Before analyzing tweets some cleaning has to be performed:\n",
        "- remove special caracters.\n",
        "- remove links\n"
      ]
    },
    {
      "cell_type": "code",
      "metadata": {
        "colab_type": "code",
        "id": "N1Djj9a-rZKE",
        "colab": {}
      },
      "source": [
        "tweets_cleaned = tweets.text.str.replace('RT', '').str.replace('@', '').str.replace('#', '')\n",
        "tweets_cleaned = tweets_cleaned.str.replace(r'http[s]*\\S+', '')"
      ],
      "execution_count": 5,
      "outputs": []
    },
    {
      "cell_type": "markdown",
      "metadata": {
        "id": "v_OO3o6ICS0z",
        "colab_type": "text"
      },
      "source": [
        "Let's use Spacy to create embeddings out of the tweets."
      ]
    },
    {
      "cell_type": "code",
      "metadata": {
        "colab_type": "code",
        "id": "homCVFP7rZKL",
        "colab": {
          "base_uri": "https://localhost:8080/",
          "height": 17
        },
        "outputId": "2ea6b99a-3b82-425e-d2a7-378962d5b5fd"
      },
      "source": [
        "import spacy \n",
        "\n",
        "nlp_md = spacy.load('en_core_web_md')\n",
        "\n",
        "embeddings = []\n",
        "for idx, text in tweets_cleaned.iteritems():\n",
        "    embeddings.append(nlp_md(text).vector)\n",
        "    print(f\"progress {idx/len(tweets_cleaned):.2%}...\", end='\\r')"
      ],
      "execution_count": null,
      "outputs": [
        {
          "output_type": "stream",
          "text": [
            "progress 99.99%...\r"
          ],
          "name": "stdout"
        }
      ]
    },
    {
      "cell_type": "code",
      "metadata": {
        "colab_type": "code",
        "id": "OlbsaFnTrZKP",
        "scrolled": false,
        "colab": {}
      },
      "source": [
        "# save embdeddings\n",
        "np.save('embeddings', embeddings)"
      ],
      "execution_count": null,
      "outputs": []
    },
    {
      "cell_type": "markdown",
      "metadata": {
        "colab_type": "text",
        "id": "S8pX0gNvrZKe"
      },
      "source": [
        "## tweet_created"
      ]
    },
    {
      "cell_type": "markdown",
      "metadata": {
        "colab_type": "text",
        "id": "94y5F0XprZKn"
      },
      "source": [
        "let's create four categories out of tweet_created.\n",
        "\n",
        "- Noon: from 6:00 to 12:00 \n",
        "- Afternoon: from 12:01 to 17:00\n",
        "- Evening: from 17:01 to 20:00\n",
        "- Night: from 20:01 to 5:59"
      ]
    },
    {
      "cell_type": "code",
      "metadata": {
        "colab_type": "code",
        "id": "0MpD8TYZrZKo",
        "colab": {}
      },
      "source": [
        "def mapping_func(hour):\n",
        "    if 6 < hour <= 12:\n",
        "        return 'Noon'\n",
        "    elif 12 < hour <= 17:\n",
        "        return 'Afternoon'\n",
        "    elif 17 < hour <= 20:\n",
        "        return 'Evening' \n",
        "    else:\n",
        "        return 'Night'\n",
        "period_of_day = tweets.tweet_created.dt.hour.apply(mapping_func)"
      ],
      "execution_count": 10,
      "outputs": []
    },
    {
      "cell_type": "code",
      "metadata": {
        "colab_type": "code",
        "id": "IKb8P-3MrZKu",
        "colab": {
          "base_uri": "https://localhost:8080/",
          "height": 276
        },
        "outputId": "980d03f5-afe3-4e04-b7af-4a1b2417115f"
      },
      "source": [
        "sns.countplot(period_of_day);"
      ],
      "execution_count": 11,
      "outputs": [
        {
          "output_type": "display_data",
          "data": {
            "image/png": "[encoded data removed]",
            "text/plain": [
              "<Figure size 432x288 with 1 Axes>"
            ]
          },
          "metadata": {
            "tags": []
          }
        }
      ]
    },
    {
      "cell_type": "markdown",
      "metadata": {
        "colab_type": "text",
        "id": "q9vSgmV_rZKy"
      },
      "source": [
        "## Sentiment"
      ]
    },
    {
      "cell_type": "markdown",
      "metadata": {
        "colab_type": "text",
        "id": "QWY3Aq0YrZKz"
      },
      "source": [
        "Let's encode our classes into numerical values."
      ]
    },
    {
      "cell_type": "code",
      "metadata": {
        "colab_type": "code",
        "id": "r_4DPAaTrZK0",
        "colab": {}
      },
      "source": [
        "from sklearn.preprocessing import LabelEncoder\n",
        "\n",
        "target_encoder = LabelEncoder()\n",
        "y = pd.Series(target_encoder.fit_transform(tweets.sentiment))"
      ],
      "execution_count": 12,
      "outputs": []
    },
    {
      "cell_type": "markdown",
      "metadata": {
        "colab_type": "text",
        "id": "b3n05nRdrZK8"
      },
      "source": [
        "As we saw in EDA ~30% of these two features is composed of missing values. Let's consider the missing value as another category therefore we will impute it -999.\n",
        "\n",
        "Let's create two other feature, user_timezone_isna and tweet_location_isna which will hold a boolean value to indictate to the model the rows containing missing values respectively for user_timezone and tweet_location."
      ]
    },
    {
      "cell_type": "code",
      "metadata": {
        "colab_type": "code",
        "id": "Ut9fliLbrZK-",
        "colab": {}
      },
      "source": [
        "tweets['user_timezone_isna'] = tweets.user_timezone.isna().astype(int)\n",
        "tweets['tweet_location_isna'] = tweets.tweet_location.isna().astype(int)\n",
        "tweets['user_timezone'] = tweets.user_timezone.fillna(-999)\n",
        "tweets['tweet_location'] = tweets.tweet_location.fillna(-999)"
      ],
      "execution_count": 13,
      "outputs": []
    },
    {
      "cell_type": "markdown",
      "metadata": {
        "colab_type": "text",
        "id": "qOawi0tMrZLB"
      },
      "source": [
        "## Candidate"
      ]
    },
    {
      "cell_type": "code",
      "metadata": {
        "colab_type": "code",
        "id": "_SiB6bRGrZLC",
        "colab": {
          "base_uri": "https://localhost:8080/",
          "height": 34
        },
        "outputId": "56ea3d88-e04b-497d-9c40-b0fee92b9cd1"
      },
      "source": [
        "tweets.candidate.isna().sum()"
      ],
      "execution_count": 14,
      "outputs": [
        {
          "output_type": "execute_result",
          "data": {
            "text/plain": [
              "96"
            ]
          },
          "metadata": {
            "tags": []
          },
          "execution_count": 14
        }
      ]
    },
    {
      "cell_type": "code",
      "metadata": {
        "colab_type": "code",
        "id": "8MrJi8_IrZLE",
        "colab": {
          "base_uri": "https://localhost:8080/",
          "height": 221
        },
        "outputId": "cf155c87-9c3f-4804-d4c2-a7e67c747173"
      },
      "source": [
        "tweets.candidate.value_counts()"
      ],
      "execution_count": 15,
      "outputs": [
        {
          "output_type": "execute_result",
          "data": {
            "text/plain": [
              "No candidate mentioned    7491\n",
              "Donald Trump              2813\n",
              "Jeb Bush                   705\n",
              "Ted Cruz                   637\n",
              "Ben Carson                 404\n",
              "Mike Huckabee              393\n",
              "Chris Christie             293\n",
              "Marco Rubio                275\n",
              "Rand Paul                  263\n",
              "Scott Walker               259\n",
              "John Kasich                242\n",
              "Name: candidate, dtype: int64"
            ]
          },
          "metadata": {
            "tags": []
          },
          "execution_count": 15
        }
      ]
    },
    {
      "cell_type": "markdown",
      "metadata": {
        "colab_type": "text",
        "id": "r8hbf1elrZLH"
      },
      "source": [
        "When a candidate is not mentionned, the tweet is put in 'No candidate mentioned'. Therefore, I will consider the missing candidate values to be part of 'No candidate mentioned' category."
      ]
    },
    {
      "cell_type": "code",
      "metadata": {
        "colab_type": "code",
        "id": "tEoT5KzOrZLI",
        "colab": {}
      },
      "source": [
        "from sklearn.impute import SimpleImputer\n",
        "imputer = SimpleImputer(strategy='most_frequent')\n",
        "tweets['candidate'] = imputer.fit_transform(tweets['candidate'].values.reshape(-1, 1))"
      ],
      "execution_count": 16,
      "outputs": []
    },
    {
      "cell_type": "markdown",
      "metadata": {
        "colab_type": "text",
        "id": "67kTdB7BrZLL"
      },
      "source": [
        "## Data split"
      ]
    },
    {
      "cell_type": "markdown",
      "metadata": {
        "colab_type": "text",
        "id": "2hVK2nwArZLM"
      },
      "source": [
        "Our final dataset will be composed of the following features: user_timezone_isna, tweet_location_isna, user_timezone, tweet_location, text embeddings, retweet_count and candidate"
      ]
    },
    {
      "cell_type": "code",
      "metadata": {
        "colab_type": "code",
        "id": "GufO3lI1rZLM",
        "colab": {}
      },
      "source": [
        "boolean_features = ['user_timezone_isna', 'tweet_location_isna']\n",
        "categorical_features = ['candidate', 'user_timezone', 'tweet_location']\n",
        "numerical_features = ['retweet_count']\n",
        "\n",
        "# word embeddings dataframe\n",
        "prefix = 'embed_'\n",
        "embeddings_col = [prefix+str(col) for col in range(300)]\n",
        "embeddings = pd.DataFrame(embeddings, columns=embeddings_col)\n",
        "\n",
        "data = pd.concat((tweets[boolean_features + numerical_features + categorical_features],\n",
        "                  embeddings), axis=1)"
      ],
      "execution_count": 18,
      "outputs": []
    },
    {
      "cell_type": "code",
      "metadata": {
        "colab_type": "code",
        "id": "X6ANI21wrZLT",
        "colab": {}
      },
      "source": [
        "from sklearn.model_selection import train_test_split\n",
        "\n",
        "SEED = 42\n",
        "\n",
        "X_train, X_test, y_train, y_test = train_test_split(data, y, test_size=.2,\n",
        "                               stratify=y, random_state=SEED)"
      ],
      "execution_count": 19,
      "outputs": []
    },
    {
      "cell_type": "markdown",
      "metadata": {
        "colab_type": "text",
        "id": "uDCTDq2MrZLW"
      },
      "source": [
        "# Pipeline"
      ]
    },
    {
      "cell_type": "markdown",
      "metadata": {
        "colab_type": "text",
        "id": "xxwtqBWorZLW"
      },
      "source": [
        "For the categorical variable, I suggest that we count encode them. Basically we will replace each categorie by it's number of occurences."
      ]
    },
    {
      "cell_type": "code",
      "metadata": {
        "colab_type": "code",
        "id": "DbkYiBeNrZLX",
        "colab": {}
      },
      "source": [
        "from sklearn.base import BaseEstimator\n",
        "class CountEncoder(BaseEstimator):\n",
        "\n",
        "    def __init__(self, normalize=True):\n",
        "        self.normalize = normalize\n",
        "\n",
        "    def fit(self, X_train, y=None):\n",
        "        self.__set_mapping(X_train)\n",
        "        \n",
        "        return self\n",
        "\n",
        "    def transform(self, X):\n",
        "        X_tr = X.copy()\n",
        "\n",
        "        if type(X) != type(pd.DataFrame()): \n",
        "            raise ValueError(f'{type(X)} not supported')\n",
        "        \n",
        "        col_id = 0\n",
        "        for col, serie in  X.iteritems():\n",
        "            X_tr[col] = serie.map(self.mapping_list[col_id])\n",
        "            col_id += 1\n",
        "        \n",
        "        return X_tr\n",
        "\n",
        "    def __set_mapping(self, X):\n",
        "        if type(X) != type(pd.DataFrame()):\n",
        "            raise ValueError(f'{type(X)} not supported')\n",
        "\n",
        "        self.mapping_list = []\n",
        "        for col, serie in X.iteritems():\n",
        "            if self.normalize:\n",
        "                self.mapping_list.append((serie.value_counts()/serie.value_counts().max()).to_dict())\n",
        "            else:\n",
        "                self.mapping_list.append(serie.value_counts().to_dict())"
      ],
      "execution_count": 20,
      "outputs": []
    },
    {
      "cell_type": "code",
      "metadata": {
        "colab_type": "code",
        "id": "Y2Pq9VeWrZLa",
        "colab": {}
      },
      "source": [
        "from sklearn.model_selection import StratifiedKFold\n",
        "\n",
        "from hyperopt import fmin, hp, tpe, Trials, space_eval\n",
        "from hyperopt.pyll import scope as ho_scope\n",
        "from hyperopt.pyll.stochastic import sample as ho_sample\n",
        "\n",
        "from xgboost import XGBClassifier\n",
        "from sklearn.pipeline import Pipeline, FeatureUnion\n",
        "from sklearn.compose import ColumnTransformer\n",
        "from sklearn.metrics import f1_score\n",
        "from sklearn.preprocessing import OrdinalEncoder\n",
        "from sklearn.decomposition import PCA\n",
        "from sklearn.model_selection import cross_validate\n",
        "from sklearn.preprocessing import OrdinalEncoder\n",
        "import lightgbm as lgb\n",
        "\n",
        "static_params = {\n",
        "    'objective': 'multiclass',\n",
        "    'boosting_type': 'gbdt',\n",
        "    'num_class': 3,\n",
        "    'metric': 'multi_logloss',\n",
        "    'tree_method': 'gpu_hist',\n",
        "    'max_depth': 5\n",
        "}\n",
        "\n",
        "def my_pipeline(hps): \n",
        "    feature_engineering = ColumnTransformer([('CountEncoder', CountEncoder(), categorical_features),\n",
        "                                             ('PCA', PCA(n_components=0.8), embeddings_col)],\n",
        "                                             remainder='passthrough', verbose=0)\n",
        "    \n",
        "    steps = [('feature_engineering', feature_engineering),\n",
        "             ('model', lgb.LGBMClassifier(**static_params, **hps))\n",
        "            ]\n",
        "\n",
        "    model = Pipeline(steps)\n",
        "    \n",
        "    return model\n",
        "\n",
        "hp_space = {\n",
        "    'model': {        \n",
        "        'learning_rate': hp.loguniform('eta', -5*np.log(10), np.log(0.2)),\n",
        "        'subsample': hp.uniform('subsample', 0.5, 1),\n",
        "        'colsample_bytree': hp.uniform('colsample_bytree', 0.5, 1)\n",
        "    }\n",
        "}\n",
        "\n",
        "def objective_func(hps):\n",
        "    model = my_pipeline(hps['model'])\n",
        "    n_splits = 5\n",
        "    cv = StratifiedKFold(n_splits = n_splits)\n",
        "    score_sum = 0\n",
        "    print('----- new run -------------------------------------------')\n",
        "    print('New parameters to be evaluated')\n",
        "    print(hps)\n",
        "\n",
        "    results = cross_validate(model, X_train, y=y_train, scoring='f1_macro', cv=cv, return_train_score=True)\n",
        "\n",
        "    train = results['train_score'].mean()\n",
        "    validation = results['test_score'].mean()\n",
        "        \n",
        "        \n",
        "    print(f'---------------- F1 score: train-score: {train}, val-score: {validation} -----------')   \n",
        "    return - validation"
      ],
      "execution_count": 35,
      "outputs": []
    },
    {
      "cell_type": "markdown",
      "metadata": {
        "colab_type": "text",
        "id": "iwccYcGDnozk"
      },
      "source": [
        "# Cross validation"
      ]
    },
    {
      "cell_type": "code",
      "metadata": {
        "colab_type": "code",
        "id": "q-r8r4pgrZLd",
        "colab": {
          "base_uri": "https://localhost:8080/",
          "height": 734
        },
        "outputId": "4a93a75c-a744-4fe3-e183-ea6fe38e8244"
      },
      "source": [
        "trials = Trials()\n",
        "\n",
        "best_clf1 = fmin(objective_func,\n",
        "                 hp_space, algo=tpe.suggest, max_evals=10, \n",
        "                 trials=trials, rstate=np.random.RandomState(SEED))"
      ],
      "execution_count": 36,
      "outputs": [
        {
          "output_type": "stream",
          "text": [
            "----- new run -------------------------------------------\n",
            "New parameters to be evaluated\n",
            "{'model': {'colsample_bytree': 0.5345256704368021, 'learning_rate': 0.038121970973123157, 'subsample': 0.7273505261106861}}\n",
            "---------------- F1 score: train-score: 0.6377738823773818, val-score: 0.5195310711232743 -----------\n",
            "----- new run -------------------------------------------\n",
            "New parameters to be evaluated\n",
            "{'model': {'colsample_bytree': 0.9664339994239168, 'learning_rate': 0.01348870479297314, 'subsample': 0.7050519794266569}}\n",
            "---------------- F1 score: train-score: 0.4452219322144499, val-score: 0.3936200673388021 -----------\n",
            "----- new run -------------------------------------------\n",
            "New parameters to be evaluated\n",
            "{'model': {'colsample_bytree': 0.6517050549420875, 'learning_rate': 0.06297461247065016, 'subsample': 0.9186941777766421}}\n",
            "---------------- F1 score: train-score: 0.7184797911329291, val-score: 0.5608678699342298 -----------\n",
            "----- new run -------------------------------------------\n",
            "New parameters to be evaluated\n",
            "{'model': {'colsample_bytree': 0.5524295792763518, 'learning_rate': 0.08942380050170301, 'subsample': 0.7224162561505758}}\n",
            "---------------- F1 score: train-score: 0.7660844471607404, val-score: 0.569384664300431 -----------\n",
            "----- new run -------------------------------------------\n",
            "New parameters to be evaluated\n",
            "{'model': {'colsample_bytree': 0.799023538756064, 'learning_rate': 5.485607635619142e-05, 'subsample': 0.9061979941786815}}\n",
            "---------------- F1 score: train-score: 0.2531768211589433, val-score: 0.25317681880921633 -----------\n",
            "----- new run -------------------------------------------\n",
            "New parameters to be evaluated\n",
            "{'model': {'colsample_bytree': 0.7633101185638462, 'learning_rate': 0.0007655554804451971, 'subsample': 0.8997767208035865}}\n",
            "---------------- F1 score: train-score: 0.2531768211589433, val-score: 0.25317681880921633 -----------\n",
            "----- new run -------------------------------------------\n",
            "New parameters to be evaluated\n",
            "{'model': {'colsample_bytree': 0.5818035893192751, 'learning_rate': 0.10971283019911968, 'subsample': 0.8670140089927841}}\n",
            "---------------- F1 score: train-score: 0.7945627947421573, val-score: 0.575564191057526 -----------\n",
            "----- new run -------------------------------------------\n",
            "New parameters to be evaluated\n",
            "{'model': {'colsample_bytree': 0.679511465960702, 'learning_rate': 0.02162048594096311, 'subsample': 0.8085396792511581}}\n",
            "---------------- F1 score: train-score: 0.5393349343487751, val-score: 0.45813800571640917 -----------\n",
            "----- new run -------------------------------------------\n",
            "New parameters to be evaluated\n",
            "{'model': {'colsample_bytree': 0.7482333517983584, 'learning_rate': 0.09057060717112496, 'subsample': 0.7717015338451563}}\n",
            "---------------- F1 score: train-score: 0.7729760306265504, val-score: 0.5715604232164024 -----------\n",
            "----- new run -------------------------------------------\n",
            "New parameters to be evaluated\n",
            "{'model': {'colsample_bytree': 0.9358259642316074, 'learning_rate': 0.010313209712094231, 'subsample': 0.977738993154964}}\n",
            "---------------- F1 score: train-score: 0.37436868145351304, val-score: 0.3445987094595073 -----------\n",
            "100%|██████████| 10/10 [02:09<00:00, 12.95s/it, best loss: -0.575564191057526]\n"
          ],
          "name": "stdout"
        }
      ]
    },
    {
      "cell_type": "markdown",
      "metadata": {
        "id": "_VeMvuv7K8zL",
        "colab_type": "text"
      },
      "source": [
        "The performance in the cross validation is very bad, it could be that the the number of samples is not sufficient for the model to perform better. \n",
        "\n",
        "options to explore to improve the model performance:\n",
        "\n",
        "- create synthtic tweets or scrappe more tweets and label them.\n",
        "- feature engineering\n",
        "- topic modeling ?"
      ]
    },
    {
      "cell_type": "code",
      "metadata": {
        "id": "F4O2r-qYK2tN",
        "colab_type": "code",
        "colab": {}
      },
      "source": [
        ""
      ],
      "execution_count": null,
      "outputs": []
    },
    {
      "cell_type": "code",
      "metadata": {
        "id": "u8kUL_7hK8GA",
        "colab_type": "code",
        "colab": {}
      },
      "source": [
        ""
      ],
      "execution_count": null,
      "outputs": []
    }
  ]
}