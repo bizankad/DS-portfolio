{
 "cells": [
  {
   "cell_type": "code",
   "execution_count": 67,
   "metadata": {
    "colab": {
     "base_uri": "https://localhost:8080/",
     "height": 71
    },
    "colab_type": "code",
    "id": "C43JEWCorZHG",
    "outputId": "b6965b58-9e9e-4a17-ec8a-b3aaec403f44"
   },
   "outputs": [],
   "source": [
    "import pandas as pd\n",
    "import numpy as np\n",
    "import seaborn as sns\n",
    "import matplotlib.pyplot as plt \n",
    "from sklearn.base import BaseEstimator\n",
    "import gensim \n",
    "from nltk.corpus import stopwords\n",
    "from scipy import stats\n",
    "from sklearn.metrics import classification_report, plot_confusion_matrix, plot_precision_recall_curve, plot_roc_curve\n",
    "from sklearn.preprocessing import LabelEncoder\n",
    "from sklearn.model_selection import StratifiedKFold\n",
    "from xgboost import XGBClassifier\n",
    "from sklearn.pipeline import Pipeline, FeatureUnion\n",
    "from sklearn.compose import ColumnTransformer\n",
    "from sklearn.metrics import f1_score\n",
    "from sklearn.preprocessing import OrdinalEncoder\n",
    "from sklearn.decomposition import PCA\n",
    "from sklearn.model_selection import cross_validate\n",
    "from sklearn.preprocessing import OrdinalEncoder\n",
    "import lightgbm as lgb\n",
    "from nltk.tokenize import word_tokenize\n",
    "from imblearn.over_sampling import SMOTE\n",
    "import re\n",
    "from nltk.corpus import stopwords\n",
    "from gensim import corpora\n",
    "from sklearn.svm import SVC\n",
    "stop_words = stopwords.words(\"english\")\n",
    "plt.style.use('seaborn-whitegrid')"
   ]
  },
  {
   "cell_type": "markdown",
   "metadata": {
    "colab_type": "text",
    "id": "dFtjXqbBs9oA"
   },
   "source": [
    "This data originally came from Crowdflower's [Data for Everyone library](http://www.crowdflower.com/data-for-everyone).\n",
    "\n",
    "As the original source says,\n",
    "\n",
    "> We looked through tens of thousands of tweets about the early August GOP debate in Ohio and asked contributors to do both sentiment analysis and data categorization. Contributors were asked which candidate was mentioned, and what the sentiment was for a given tweet. "
   ]
  },
  {
   "cell_type": "code",
   "execution_count": 68,
   "metadata": {
    "colab": {
     "base_uri": "https://localhost:8080/",
     "height": 581
    },
    "colab_type": "code",
    "id": "1CWhxB9srZHn",
    "outputId": "fb46b1d7-3f12-4ad4-8e80-34c8da8d081d"
   },
   "outputs": [
    {
     "data": {
      "text/html": [
       "<div>\n",
       "<style scoped>\n",
       "    .dataframe tbody tr th:only-of-type {\n",
       "        vertical-align: middle;\n",
       "    }\n",
       "\n",
       "    .dataframe tbody tr th {\n",
       "        vertical-align: top;\n",
       "    }\n",
       "\n",
       "    .dataframe thead th {\n",
       "        text-align: right;\n",
       "    }\n",
       "</style>\n",
       "<table border=\"1\" class=\"dataframe\">\n",
       "  <thead>\n",
       "    <tr style=\"text-align: right;\">\n",
       "      <th></th>\n",
       "      <th>Unnamed: 0</th>\n",
       "      <th>id</th>\n",
       "      <th>candidate</th>\n",
       "      <th>sentiment</th>\n",
       "      <th>name</th>\n",
       "      <th>retweet_count</th>\n",
       "      <th>text</th>\n",
       "      <th>tweet_coord</th>\n",
       "      <th>tweet_created</th>\n",
       "      <th>tweet_id</th>\n",
       "      <th>tweet_location</th>\n",
       "      <th>user_timezone</th>\n",
       "    </tr>\n",
       "  </thead>\n",
       "  <tbody>\n",
       "    <tr>\n",
       "      <th>4116</th>\n",
       "      <td>4116</td>\n",
       "      <td>4117</td>\n",
       "      <td>Marco Rubio</td>\n",
       "      <td>Positive</td>\n",
       "      <td>susangallo</td>\n",
       "      <td>4</td>\n",
       "      <td>RT @EliRubenstein: The consensus is clear, @Ma...</td>\n",
       "      <td>NaN</td>\n",
       "      <td>2015-08-07 09:10:56-07:00</td>\n",
       "      <td>629686167915626496</td>\n",
       "      <td>Naples, FL USA</td>\n",
       "      <td>NaN</td>\n",
       "    </tr>\n",
       "    <tr>\n",
       "      <th>9408</th>\n",
       "      <td>9408</td>\n",
       "      <td>9409</td>\n",
       "      <td>No candidate mentioned</td>\n",
       "      <td>Negative</td>\n",
       "      <td>Destinbeach22</td>\n",
       "      <td>43</td>\n",
       "      <td>RT @RWSurferGirl: I need to order another gree...</td>\n",
       "      <td>NaN</td>\n",
       "      <td>2015-08-06 20:29:13-07:00</td>\n",
       "      <td>629494477355270144</td>\n",
       "      <td>NaN</td>\n",
       "      <td>Central Time (US &amp; Canada)</td>\n",
       "    </tr>\n",
       "    <tr>\n",
       "      <th>3642</th>\n",
       "      <td>3642</td>\n",
       "      <td>3643</td>\n",
       "      <td>No candidate mentioned</td>\n",
       "      <td>Negative</td>\n",
       "      <td>NotDBordwell</td>\n",
       "      <td>0</td>\n",
       "      <td>Legitimacy of TV news 2015: last night Jon Ste...</td>\n",
       "      <td>NaN</td>\n",
       "      <td>2015-08-07 09:16:32-07:00</td>\n",
       "      <td>629687577063198721</td>\n",
       "      <td>Not Madison, Wisconsin</td>\n",
       "      <td>Central Time (US &amp; Canada)</td>\n",
       "    </tr>\n",
       "    <tr>\n",
       "      <th>7975</th>\n",
       "      <td>7975</td>\n",
       "      <td>7976</td>\n",
       "      <td>No candidate mentioned</td>\n",
       "      <td>Neutral</td>\n",
       "      <td>honolulujack</td>\n",
       "      <td>0</td>\n",
       "      <td>GOP Candidates Throw Out Their Best Hillary Cl...</td>\n",
       "      <td>NaN</td>\n",
       "      <td>2015-08-07 08:13:34-07:00</td>\n",
       "      <td>629671730965954564</td>\n",
       "      <td>Hawaii</td>\n",
       "      <td>Hawaii</td>\n",
       "    </tr>\n",
       "    <tr>\n",
       "      <th>11330</th>\n",
       "      <td>11330</td>\n",
       "      <td>11331</td>\n",
       "      <td>No candidate mentioned</td>\n",
       "      <td>Negative</td>\n",
       "      <td>CraneRhonda</td>\n",
       "      <td>132</td>\n",
       "      <td>RT @RWSurferGirl: Is it just me or does anyone...</td>\n",
       "      <td>NaN</td>\n",
       "      <td>2015-08-06 19:38:56-07:00</td>\n",
       "      <td>629481823366545408</td>\n",
       "      <td>NaN</td>\n",
       "      <td>NaN</td>\n",
       "    </tr>\n",
       "  </tbody>\n",
       "</table>\n",
       "</div>"
      ],
      "text/plain": [
       "       Unnamed: 0     id               candidate sentiment           name  \\\n",
       "4116         4116   4117             Marco Rubio  Positive     susangallo   \n",
       "9408         9408   9409  No candidate mentioned  Negative  Destinbeach22   \n",
       "3642         3642   3643  No candidate mentioned  Negative   NotDBordwell   \n",
       "7975         7975   7976  No candidate mentioned   Neutral   honolulujack   \n",
       "11330       11330  11331  No candidate mentioned  Negative    CraneRhonda   \n",
       "\n",
       "       retweet_count                                               text  \\\n",
       "4116               4  RT @EliRubenstein: The consensus is clear, @Ma...   \n",
       "9408              43  RT @RWSurferGirl: I need to order another gree...   \n",
       "3642               0  Legitimacy of TV news 2015: last night Jon Ste...   \n",
       "7975               0  GOP Candidates Throw Out Their Best Hillary Cl...   \n",
       "11330            132  RT @RWSurferGirl: Is it just me or does anyone...   \n",
       "\n",
       "      tweet_coord             tweet_created            tweet_id  \\\n",
       "4116          NaN 2015-08-07 09:10:56-07:00  629686167915626496   \n",
       "9408          NaN 2015-08-06 20:29:13-07:00  629494477355270144   \n",
       "3642          NaN 2015-08-07 09:16:32-07:00  629687577063198721   \n",
       "7975          NaN 2015-08-07 08:13:34-07:00  629671730965954564   \n",
       "11330         NaN 2015-08-06 19:38:56-07:00  629481823366545408   \n",
       "\n",
       "               tweet_location               user_timezone  \n",
       "4116           Naples, FL USA                         NaN  \n",
       "9408                      NaN  Central Time (US & Canada)  \n",
       "3642   Not Madison, Wisconsin  Central Time (US & Canada)  \n",
       "7975                   Hawaii                      Hawaii  \n",
       "11330                     NaN                         NaN  "
      ]
     },
     "execution_count": 68,
     "metadata": {},
     "output_type": "execute_result"
    }
   ],
   "source": [
    "# load dataset \n",
    "tweets = pd.read_csv('input/Sentiment.csv', parse_dates=['tweet_created'])\n",
    "tweets.sample(5)"
   ]
  },
  {
   "cell_type": "code",
   "execution_count": 3,
   "metadata": {
    "colab": {
     "base_uri": "https://localhost:8080/",
     "height": 34
    },
    "colab_type": "code",
    "id": "_X5pQRz1rZIA",
    "outputId": "cfc58810-8142-4dd4-bc03-886e76f828db"
   },
   "outputs": [
    {
     "name": "stdout",
     "output_type": "stream",
     "text": [
      "dataset contains 13871 tweets and 12 predictor variables.\n"
     ]
    }
   ],
   "source": [
    "print(f\"dataset contains {tweets.shape[0]} tweets and {tweets.shape[1]} predictor variables.\")"
   ]
  },
  {
   "cell_type": "code",
   "execution_count": 4,
   "metadata": {
    "colab": {
     "base_uri": "https://localhost:8080/",
     "height": 291
    },
    "colab_type": "code",
    "id": "YileFspCrZIP",
    "outputId": "edd66b14-1b01-4e2f-d650-3a7831bfbea2"
   },
   "outputs": [
    {
     "data": {
      "image/png": "[encoded data removed]",
      "text/plain": [
       "<Figure size 432x288 with 1 Axes>"
      ]
     },
     "metadata": {},
     "output_type": "display_data"
    }
   ],
   "source": [
    "plt.figure()\n",
    "ax = plt.axes()\n",
    "sns.countplot(tweets.sentiment)\n",
    "\n",
    "total_tweets = len(tweets)\n",
    "plt.title('class distribution')\n",
    "for p in ax.patches:\n",
    "    height = p.get_height()\n",
    "    ax.text(p.get_x()+p.get_width()/2.,\n",
    "            height+20,\n",
    "            f'{int(height)/total_tweets:.2%}',\n",
    "            ha=\"center\", fontsize=10)\n",
    "    \n",
    "plt.show()"
   ]
  },
  {
   "cell_type": "code",
   "execution_count": 5,
   "metadata": {
    "colab": {
     "base_uri": "https://localhost:8080/",
     "height": 421
    },
    "colab_type": "code",
    "id": "t2iIT8iTrZIZ",
    "outputId": "95c7a42f-6fbc-47dc-cd94-4768cd643329"
   },
   "outputs": [
    {
     "data": {
      "text/html": [
       "<div>\n",
       "<style scoped>\n",
       "    .dataframe tbody tr th:only-of-type {\n",
       "        vertical-align: middle;\n",
       "    }\n",
       "\n",
       "    .dataframe tbody tr th {\n",
       "        vertical-align: top;\n",
       "    }\n",
       "\n",
       "    .dataframe thead th {\n",
       "        text-align: right;\n",
       "    }\n",
       "</style>\n",
       "<table border=\"1\" class=\"dataframe\">\n",
       "  <thead>\n",
       "    <tr style=\"text-align: right;\">\n",
       "      <th>sentiment</th>\n",
       "      <th>Negative</th>\n",
       "      <th>Neutral</th>\n",
       "      <th>Positive</th>\n",
       "      <th>negative_proportion</th>\n",
       "    </tr>\n",
       "    <tr>\n",
       "      <th>candidate</th>\n",
       "      <th></th>\n",
       "      <th></th>\n",
       "      <th></th>\n",
       "      <th></th>\n",
       "    </tr>\n",
       "  </thead>\n",
       "  <tbody>\n",
       "    <tr>\n",
       "      <th>Ben Carson</th>\n",
       "      <td>186</td>\n",
       "      <td>54</td>\n",
       "      <td>164</td>\n",
       "      <td>0.460396</td>\n",
       "    </tr>\n",
       "    <tr>\n",
       "      <th>Chris Christie</th>\n",
       "      <td>218</td>\n",
       "      <td>42</td>\n",
       "      <td>33</td>\n",
       "      <td>0.744027</td>\n",
       "    </tr>\n",
       "    <tr>\n",
       "      <th>Donald Trump</th>\n",
       "      <td>1758</td>\n",
       "      <td>446</td>\n",
       "      <td>609</td>\n",
       "      <td>0.624956</td>\n",
       "    </tr>\n",
       "    <tr>\n",
       "      <th>Jeb Bush</th>\n",
       "      <td>589</td>\n",
       "      <td>72</td>\n",
       "      <td>44</td>\n",
       "      <td>0.835461</td>\n",
       "    </tr>\n",
       "    <tr>\n",
       "      <th>John Kasich</th>\n",
       "      <td>82</td>\n",
       "      <td>47</td>\n",
       "      <td>113</td>\n",
       "      <td>0.338843</td>\n",
       "    </tr>\n",
       "    <tr>\n",
       "      <th>Marco Rubio</th>\n",
       "      <td>105</td>\n",
       "      <td>51</td>\n",
       "      <td>119</td>\n",
       "      <td>0.381818</td>\n",
       "    </tr>\n",
       "    <tr>\n",
       "      <th>Mike Huckabee</th>\n",
       "      <td>237</td>\n",
       "      <td>83</td>\n",
       "      <td>73</td>\n",
       "      <td>0.603053</td>\n",
       "    </tr>\n",
       "    <tr>\n",
       "      <th>No candidate mentioned</th>\n",
       "      <td>4724</td>\n",
       "      <td>2087</td>\n",
       "      <td>680</td>\n",
       "      <td>0.630623</td>\n",
       "    </tr>\n",
       "    <tr>\n",
       "      <th>Rand Paul</th>\n",
       "      <td>148</td>\n",
       "      <td>60</td>\n",
       "      <td>55</td>\n",
       "      <td>0.562738</td>\n",
       "    </tr>\n",
       "    <tr>\n",
       "      <th>Scott Walker</th>\n",
       "      <td>179</td>\n",
       "      <td>38</td>\n",
       "      <td>42</td>\n",
       "      <td>0.691120</td>\n",
       "    </tr>\n",
       "    <tr>\n",
       "      <th>Ted Cruz</th>\n",
       "      <td>221</td>\n",
       "      <td>126</td>\n",
       "      <td>290</td>\n",
       "      <td>0.346939</td>\n",
       "    </tr>\n",
       "  </tbody>\n",
       "</table>\n",
       "</div>"
      ],
      "text/plain": [
       "sentiment               Negative  Neutral  Positive  negative_proportion\n",
       "candidate                                                               \n",
       "Ben Carson                   186       54       164             0.460396\n",
       "Chris Christie               218       42        33             0.744027\n",
       "Donald Trump                1758      446       609             0.624956\n",
       "Jeb Bush                     589       72        44             0.835461\n",
       "John Kasich                   82       47       113             0.338843\n",
       "Marco Rubio                  105       51       119             0.381818\n",
       "Mike Huckabee                237       83        73             0.603053\n",
       "No candidate mentioned      4724     2087       680             0.630623\n",
       "Rand Paul                    148       60        55             0.562738\n",
       "Scott Walker                 179       38        42             0.691120\n",
       "Ted Cruz                     221      126       290             0.346939"
      ]
     },
     "execution_count": 5,
     "metadata": {},
     "output_type": "execute_result"
    }
   ],
   "source": [
    "contingency_table = pd.crosstab(tweets.candidate, tweets.sentiment)\n",
    "contingency_table['negative_proportion'] = contingency_table.Negative/contingency_table.sum(axis=1)\n",
    "contingency_table"
   ]
  },
  {
   "cell_type": "markdown",
   "metadata": {
    "colab_type": "text",
    "id": "HXtIjHYPrZIh"
   },
   "source": [
    "The candidate `Donald Trump` has the highest number of negative tweets. However, if we look at the total number of tweet per candidate we can see that `Jeb Bush` has almost 84% of the tweets mentioning him as negative."
   ]
  },
  {
   "cell_type": "markdown",
   "metadata": {
    "colab_type": "text",
    "id": "SjmsKzfDrZIi"
   },
   "source": [
    "**What kind of tweets are the most retweeted?**"
   ]
  },
  {
   "cell_type": "code",
   "execution_count": 6,
   "metadata": {
    "colab": {
     "base_uri": "https://localhost:8080/",
     "height": 102
    },
    "colab_type": "code",
    "id": "c7qsUVBorZIj",
    "outputId": "615bdc5a-04b7-42e5-f3ee-7cd500dd2a00"
   },
   "outputs": [
    {
     "data": {
      "text/plain": [
       "sentiment\n",
       "Negative    419335.0\n",
       "Neutral     117243.0\n",
       "Positive     98760.0\n",
       "Name: retweet_count, dtype: float64"
      ]
     },
     "execution_count": 6,
     "metadata": {},
     "output_type": "execute_result"
    }
   ],
   "source": [
    "tweets.groupby('sentiment').sum()['retweet_count']"
   ]
  },
  {
   "cell_type": "markdown",
   "metadata": {
    "colab_type": "text",
    "id": "4Bw7jY0JrZIv"
   },
   "source": [
    "Negative tweets are more than 4 times retweeted than positive tweets. "
   ]
  },
  {
   "cell_type": "markdown",
   "metadata": {
    "colab_type": "text",
    "id": "efqoyCy6rZIw"
   },
   "source": [
    "**Who are the most retweeted candidates?**"
   ]
  },
  {
   "cell_type": "code",
   "execution_count": 7,
   "metadata": {
    "colab": {
     "base_uri": "https://localhost:8080/",
     "height": 434
    },
    "colab_type": "code",
    "id": "vyG28_9jrZIx",
    "outputId": "27dc87df-6db9-4b7a-d929-61751e15cc31"
   },
   "outputs": [
    {
     "data": {
      "image/png": "[encoded data removed]",
      "text/plain": [
       "<Figure size 1080x432 with 1 Axes>"
      ]
     },
     "metadata": {},
     "output_type": "display_data"
    }
   ],
   "source": [
    "most_rt_candidates = tweets.groupby('candidate').sum()['retweet_count'].sort_values()\n",
    "plt.figure(figsize=(15,6))\n",
    "sns.barplot(most_rt_candidates.index, most_rt_candidates)\n",
    "plt.xticks(rotation=45)\n",
    "plt.show()"
   ]
  },
  {
   "cell_type": "markdown",
   "metadata": {
    "colab_type": "text",
    "id": "dGVdfnXLrZI2"
   },
   "source": [
    "Let us have a look at the time variable `tweet_created`"
   ]
  },
  {
   "cell_type": "code",
   "execution_count": 8,
   "metadata": {
    "colab": {
     "base_uri": "https://localhost:8080/",
     "height": 102
    },
    "colab_type": "code",
    "id": "gaEZheVorZI6",
    "outputId": "e7a40edd-dcc7-4e25-cfbe-18d85544666b"
   },
   "outputs": [
    {
     "data": {
      "text/plain": [
       "(Timestamp('2015-08-06 17:44:53-0700', tz='pytz.FixedOffset(-420)'),\n",
       " Timestamp('2015-08-07 10:12:32-0700', tz='pytz.FixedOffset(-420)'),\n",
       " Timedelta('0 days 16:27:39'),\n",
       " 'Thursday',\n",
       " 'Friday')"
      ]
     },
     "execution_count": 8,
     "metadata": {},
     "output_type": "execute_result"
    }
   ],
   "source": [
    "start_date = tweets.tweet_created.sort_values().iloc[0]\n",
    "end_date = tweets.tweet_created.sort_values().iloc[-1]\n",
    "start_date, end_date, (end_date - start_date), start_date.day_name(), end_date.day_name()"
   ]
  },
  {
   "cell_type": "markdown",
   "metadata": {
    "colab_type": "text",
    "id": "U_lcRMjPrZJE"
   },
   "source": [
    "We can conclude that the tweets recording lasted for 16hours and ~28 minute. The recodring started Thursday, august 2015 at 17:44 until friday, august 2015 at 10:12."
   ]
  },
  {
   "cell_type": "markdown",
   "metadata": {
    "colab_type": "text",
    "id": "iJdM6NWkrZJF"
   },
   "source": [
    "**How are tweets distributed accros the day? is there any time slot that has more tweets than others?**"
   ]
  },
  {
   "cell_type": "code",
   "execution_count": 9,
   "metadata": {
    "colab": {},
    "colab_type": "code",
    "id": "gtfMhcCErZJG"
   },
   "outputs": [],
   "source": [
    "tweets_ordered_bytime = tweets.sort_values(by='tweet_created')"
   ]
  },
  {
   "cell_type": "code",
   "execution_count": 10,
   "metadata": {
    "colab": {
     "base_uri": "https://localhost:8080/",
     "height": 297
    },
    "colab_type": "code",
    "id": "05I4GMI0rZJL",
    "outputId": "00ebfa89-fd78-49ef-edfa-996cd5ae48f5"
   },
   "outputs": [
    {
     "data": {
      "image/png": "[encoded data removed]",
      "text/plain": [
       "<Figure size 1440x432 with 1 Axes>"
      ]
     },
     "metadata": {},
     "output_type": "display_data"
    }
   ],
   "source": [
    "plt.figure(figsize=(20,6))\n",
    "sns.countplot(tweets_ordered_bytime.tweet_created.dt.hour, hue=tweets_ordered_bytime.sentiment)\n",
    "plt.title('tweets distribution over the day Vs Sentiment')\n",
    "plt.show()"
   ]
  },
  {
   "cell_type": "markdown",
   "metadata": {
    "colab_type": "text",
    "id": "x3svvpdIrZJT"
   },
   "source": [
    "We might one to add a new predictor variable that stores the hour of the day or maybe categorigal variable with the following enumeration: morning, afternoon, evening, night"
   ]
  },
  {
   "cell_type": "markdown",
   "metadata": {
    "colab_type": "text",
    "id": "ab80zk4OrZJT"
   },
   "source": [
    "## Missing values"
   ]
  },
  {
   "cell_type": "code",
   "execution_count": 11,
   "metadata": {
    "colab": {
     "base_uri": "https://localhost:8080/",
     "height": 491
    },
    "colab_type": "code",
    "id": "RP--nIf-rZJU",
    "outputId": "f0c29d19-8882-437d-fc67-fa770653fc11",
    "scrolled": false
   },
   "outputs": [
    {
     "data": {
      "image/png": "[encoded data removed]",
      "text/plain": [
       "<Figure size 1440x720 with 2 Axes>"
      ]
     },
     "metadata": {},
     "output_type": "display_data"
    }
   ],
   "source": [
    "plt.figure(figsize=(20,10))\n",
    "sns.heatmap(tweets_ordered_bytime.isna())\n",
    "plt.show()"
   ]
  },
  {
   "cell_type": "markdown",
   "metadata": {
    "colab_type": "text",
    "id": "mB5lSQMlrZJZ"
   },
   "source": [
    "`Tweet_location` and `user_timezone` contain a lot of missing values.\n",
    "- add new boolean is_nan + impuatation most freq ?\n",
    "\n",
    "As to `tweet_coord` we will simply drop it."
   ]
  },
  {
   "cell_type": "code",
   "execution_count": 12,
   "metadata": {},
   "outputs": [],
   "source": [
    "tweets.drop(columns=['tweet_coord'], inplace=True)"
   ]
  },
  {
   "cell_type": "code",
   "execution_count": 13,
   "metadata": {
    "colab": {
     "base_uri": "https://localhost:8080/",
     "height": 34
    },
    "colab_type": "code",
    "id": "kGz05OcLrZJd",
    "outputId": "6909f210-ad4a-4edf-9793-cf3a6d6cec98"
   },
   "outputs": [
    {
     "data": {
      "text/plain": [
       "(0.28202725109941607, 0.3174248431980391)"
      ]
     },
     "execution_count": 13,
     "metadata": {},
     "output_type": "execute_result"
    }
   ],
   "source": [
    "tweets.tweet_location.isna().sum()/len(tweets), tweets.user_timezone.isna().sum()/len(tweets)"
   ]
  },
  {
   "cell_type": "markdown",
   "metadata": {
    "colab_type": "text",
    "id": "siaUYaHtCS0c"
   },
   "source": [
    "Tweet_location and user_timezone are composed of neary 30% of missing of values."
   ]
  },
  {
   "cell_type": "code",
   "execution_count": 14,
   "metadata": {
    "colab": {},
    "colab_type": "code",
    "id": "qQeofVXnrZJz"
   },
   "outputs": [],
   "source": [
    "def is_feature_important(feature, target, alpha=.05):\n",
    "    crosstable = pd.crosstab(target,feature) \n",
    "    chi2, p, dof, expected = stats.chi2_contingency(crosstable.values)\n",
    "    \n",
    "    return p < alpha"
   ]
  },
  {
   "cell_type": "code",
   "execution_count": 15,
   "metadata": {
    "colab": {
     "base_uri": "https://localhost:8080/",
     "height": 34
    },
    "colab_type": "code",
    "id": "DunxV6jJrZJ4",
    "outputId": "4a895bcf-668c-47ce-c24e-b205a5681984",
    "scrolled": true
   },
   "outputs": [
    {
     "data": {
      "text/plain": [
       "(True, True)"
      ]
     },
     "execution_count": 15,
     "metadata": {},
     "output_type": "execute_result"
    }
   ],
   "source": [
    "is_feature_important(tweets.user_timezone, tweets.sentiment), is_feature_important(tweets.tweet_location, tweets.sentiment)"
   ]
  },
  {
   "cell_type": "markdown",
   "metadata": {
    "colab_type": "text",
    "id": "FBjxnxFRCS0j"
   },
   "source": [
    "- Tweet_location and user_timezone are correlated with the target variable accorind to kh2 test of independance."
   ]
  },
  {
   "cell_type": "markdown",
   "metadata": {
    "colab_type": "text",
    "id": "bomsBnIQrZJ-"
   },
   "source": [
    "## Tweet's text"
   ]
  },
  {
   "cell_type": "markdown",
   "metadata": {
    "colab_type": "text",
    "id": "nR2ZvSGmrZJ-"
   },
   "source": [
    "Let's print some tweets and see how they look"
   ]
  },
  {
   "cell_type": "code",
   "execution_count": 16,
   "metadata": {
    "colab": {
     "base_uri": "https://localhost:8080/",
     "height": 71
    },
    "colab_type": "code",
    "id": "BEiS6RdErZJ_",
    "outputId": "c3823686-af69-425b-ac0e-210c3465c9b7"
   },
   "outputs": [
    {
     "data": {
      "text/plain": [
       "['@realDonaldTrump lives to fight another day. Odds seem to ever be in his favor. #GOPDebate #hungergames #DonaldTrump http://t.co/eG6X6onkKT',\n",
       " 'RT @RWSurferGirl: I need to order another green apple martini to process what the hell just happened. 🇺🇸 #GOPDebate  #GOPDebates']"
      ]
     },
     "execution_count": 16,
     "metadata": {},
     "output_type": "execute_result"
    }
   ],
   "source": [
    "tweets.text.sample(2).to_list()"
   ]
  },
  {
   "cell_type": "markdown",
   "metadata": {
    "colab_type": "text",
    "id": "krGxJwinrZKE"
   },
   "source": [
    "Before analyzing tweets some cleaning has to be performed:\n",
    "- remove special caracters.\n",
    "- remove links\n"
   ]
  },
  {
   "cell_type": "code",
   "execution_count": 22,
   "metadata": {},
   "outputs": [],
   "source": [
    "def pre_process_tweets(tweet):\n",
    "    tweet = tweet.replace('RT', '').replace('@', '').replace('#', '')\n",
    "    \n",
    "    # remove links\n",
    "    tweet = re.sub(r'http[s]*\\S+', '', tweet)\n",
    "    \n",
    "    tokens = word_tokenize(tweet)\n",
    "    \n",
    "    tokens = [token for token in tokens if token.isalpha()]\n",
    "    tokens = [token.lower() for token in tokens]\n",
    "    # no lemmatization or stemming since we are going to use pre-trained embeddings\n",
    "    \n",
    "    \n",
    "    # delete stop words\n",
    "    tokens = [token for token in tokens if token not in stop_words]\n",
    "    return tokens\n",
    "\n",
    "tweets['tokens'] = tweets.text.apply(pre_process_tweets)"
   ]
  },
  {
   "cell_type": "markdown",
   "metadata": {},
   "source": [
    "## Topic modeling"
   ]
  },
  {
   "cell_type": "code",
   "execution_count": 23,
   "metadata": {},
   "outputs": [
    {
     "name": "stdout",
     "output_type": "stream",
     "text": [
      "Dictionary(13630 unique tokens: ['change', 'climate', 'everyone', 'exactly', 'feel']...)\n"
     ]
    }
   ],
   "source": [
    "# Create dictionary\n",
    "dictionary = corpora.Dictionary(tweets.tokens)\n",
    "print(dictionary)"
   ]
  },
  {
   "cell_type": "code",
   "execution_count": null,
   "metadata": {},
   "outputs": [],
   "source": [
    "from sklearn.feature_extraction.text import TfidfVectorizer, CountVectorizer\n",
    "from gensim.matutils import Sparse2Corpus\n",
    "from gensim.models import LdaModel\n",
    "\n",
    "# Instantiate the TF-IDF vectorizer\n",
    "vectorizer = TfidfVectorizer(lowercase=False, analyzer=lambda x: x)\n",
    "\n",
    "# Compute the TF-IDF\n",
    "tf_idf = vectorizer.fit_transform(tweets['tokens'])\n",
    "\n",
    "# Convert the TF-IDF to the needed input for Gensim\n",
    "tf_idf_sklearn = Sparse2Corpus(tf_idf, documents_columns=False)\n",
    "\n",
    "# Compute the LDA\n",
    "lda2 = LdaModel(corpus=tf_idf_sklearn, id2word=dictionary, num_topics=3, passes=10)\n",
    "\n",
    "# Print the main topics\n",
    "pprint(lda2.print_topics())"
   ]
  },
  {
   "cell_type": "code",
   "execution_count": null,
   "metadata": {},
   "outputs": [],
   "source": [
    "# Import the modules\n",
    "import pyLDAvis\n",
    "import pyLDAvis.gensim\n",
    "\n",
    "bow = [dictionary.doc2bow(token) for token in tweets.tokens]\n",
    "\n",
    "# Visualize the topics\n",
    "pyLDAvis.enable_notebook()\n",
    "vis = pyLDAvis.gensim.prepare(topic_model=lda2, corpus=bow, dictionary=dictionary)\n",
    "vis"
   ]
  },
  {
   "cell_type": "markdown",
   "metadata": {},
   "source": [
    "It is not easy to intuitevely see what are the underlying topics from LDA results."
   ]
  },
  {
   "cell_type": "code",
   "execution_count": 27,
   "metadata": {},
   "outputs": [
    {
     "data": {
      "text/html": [
       "<div>\n",
       "<style scoped>\n",
       "    .dataframe tbody tr th:only-of-type {\n",
       "        vertical-align: middle;\n",
       "    }\n",
       "\n",
       "    .dataframe tbody tr th {\n",
       "        vertical-align: top;\n",
       "    }\n",
       "\n",
       "    .dataframe thead th {\n",
       "        text-align: right;\n",
       "    }\n",
       "</style>\n",
       "<table border=\"1\" class=\"dataframe\">\n",
       "  <thead>\n",
       "    <tr style=\"text-align: right;\">\n",
       "      <th></th>\n",
       "      <th>Unnamed: 0</th>\n",
       "      <th>id</th>\n",
       "      <th>candidate</th>\n",
       "      <th>sentiment</th>\n",
       "      <th>name</th>\n",
       "      <th>retweet_count</th>\n",
       "      <th>text</th>\n",
       "      <th>tweet_created</th>\n",
       "      <th>tweet_id</th>\n",
       "      <th>tweet_location</th>\n",
       "      <th>user_timezone</th>\n",
       "      <th>tokens</th>\n",
       "    </tr>\n",
       "  </thead>\n",
       "  <tbody>\n",
       "    <tr>\n",
       "      <th>0</th>\n",
       "      <td>0</td>\n",
       "      <td>1</td>\n",
       "      <td>No candidate mentioned</td>\n",
       "      <td>Neutral</td>\n",
       "      <td>I_Am_Kenzi</td>\n",
       "      <td>5</td>\n",
       "      <td>RT @NancyLeeGrahn: How did everyone feel about...</td>\n",
       "      <td>2015-08-07 09:54:46-07:00</td>\n",
       "      <td>629697200650592256</td>\n",
       "      <td>NaN</td>\n",
       "      <td>Quito</td>\n",
       "      <td>[nancyleegrahn, everyone, feel, climate, chang...</td>\n",
       "    </tr>\n",
       "    <tr>\n",
       "      <th>1</th>\n",
       "      <td>1</td>\n",
       "      <td>2</td>\n",
       "      <td>Scott Walker</td>\n",
       "      <td>Positive</td>\n",
       "      <td>PeacefulQuest</td>\n",
       "      <td>26</td>\n",
       "      <td>RT @ScottWalker: Didn't catch the full #GOPdeb...</td>\n",
       "      <td>2015-08-07 09:54:46-07:00</td>\n",
       "      <td>629697199560069120</td>\n",
       "      <td>NaN</td>\n",
       "      <td>NaN</td>\n",
       "      <td>[scottwalker, catch, full, gopdebate, last, ni...</td>\n",
       "    </tr>\n",
       "    <tr>\n",
       "      <th>2</th>\n",
       "      <td>2</td>\n",
       "      <td>3</td>\n",
       "      <td>No candidate mentioned</td>\n",
       "      <td>Neutral</td>\n",
       "      <td>PussssyCroook</td>\n",
       "      <td>27</td>\n",
       "      <td>RT @TJMShow: No mention of Tamir Rice and the ...</td>\n",
       "      <td>2015-08-07 09:54:46-07:00</td>\n",
       "      <td>629697199312482304</td>\n",
       "      <td>NaN</td>\n",
       "      <td>NaN</td>\n",
       "      <td>[tjmshow, mention, tamir, rice, gopdebate, hel...</td>\n",
       "    </tr>\n",
       "    <tr>\n",
       "      <th>3</th>\n",
       "      <td>3</td>\n",
       "      <td>4</td>\n",
       "      <td>No candidate mentioned</td>\n",
       "      <td>Positive</td>\n",
       "      <td>MattFromTexas31</td>\n",
       "      <td>138</td>\n",
       "      <td>RT @RobGeorge: That Carly Fiorina is trending ...</td>\n",
       "      <td>2015-08-07 09:54:45-07:00</td>\n",
       "      <td>629697197118861312</td>\n",
       "      <td>Texas</td>\n",
       "      <td>Central Time (US &amp; Canada)</td>\n",
       "      <td>[robgeorge, carly, fiorina, trending, hours, d...</td>\n",
       "    </tr>\n",
       "    <tr>\n",
       "      <th>4</th>\n",
       "      <td>4</td>\n",
       "      <td>5</td>\n",
       "      <td>Donald Trump</td>\n",
       "      <td>Positive</td>\n",
       "      <td>sharonDay5</td>\n",
       "      <td>156</td>\n",
       "      <td>RT @DanScavino: #GOPDebate w/ @realDonaldTrump...</td>\n",
       "      <td>2015-08-07 09:54:45-07:00</td>\n",
       "      <td>629697196967903232</td>\n",
       "      <td>NaN</td>\n",
       "      <td>Arizona</td>\n",
       "      <td>[danscavino, gopdebate, realdonaldtrump, deliv...</td>\n",
       "    </tr>\n",
       "    <tr>\n",
       "      <th>...</th>\n",
       "      <td>...</td>\n",
       "      <td>...</td>\n",
       "      <td>...</td>\n",
       "      <td>...</td>\n",
       "      <td>...</td>\n",
       "      <td>...</td>\n",
       "      <td>...</td>\n",
       "      <td>...</td>\n",
       "      <td>...</td>\n",
       "      <td>...</td>\n",
       "      <td>...</td>\n",
       "      <td>...</td>\n",
       "    </tr>\n",
       "    <tr>\n",
       "      <th>13866</th>\n",
       "      <td>13866</td>\n",
       "      <td>13867</td>\n",
       "      <td>No candidate mentioned</td>\n",
       "      <td>Negative</td>\n",
       "      <td>SantoliDonato</td>\n",
       "      <td>7</td>\n",
       "      <td>RT @cappy_yarbrough: Love to see men who will ...</td>\n",
       "      <td>2015-08-07 09:29:43-07:00</td>\n",
       "      <td>629690895479250944</td>\n",
       "      <td>Como</td>\n",
       "      <td>NaN</td>\n",
       "      <td>[love, see, men, never, faced, pregnancy, talk...</td>\n",
       "    </tr>\n",
       "    <tr>\n",
       "      <th>13867</th>\n",
       "      <td>13867</td>\n",
       "      <td>13868</td>\n",
       "      <td>Mike Huckabee</td>\n",
       "      <td>Positive</td>\n",
       "      <td>mhfa16hq</td>\n",
       "      <td>1</td>\n",
       "      <td>RT @georgehenryw: Who thought Huckabee exceede...</td>\n",
       "      <td>2015-08-07 09:25:02-07:00</td>\n",
       "      <td>629689719056568320</td>\n",
       "      <td>USA</td>\n",
       "      <td>NaN</td>\n",
       "      <td>[georgehenryw, thought, huckabee, exceeded, ex...</td>\n",
       "    </tr>\n",
       "    <tr>\n",
       "      <th>13868</th>\n",
       "      <td>13868</td>\n",
       "      <td>13869</td>\n",
       "      <td>Ted Cruz</td>\n",
       "      <td>Positive</td>\n",
       "      <td>DrottM</td>\n",
       "      <td>67</td>\n",
       "      <td>RT @Lrihendry: #TedCruz As President, I will a...</td>\n",
       "      <td>2015-08-07 07:19:18-07:00</td>\n",
       "      <td>629658075784282112</td>\n",
       "      <td>NaN</td>\n",
       "      <td>NaN</td>\n",
       "      <td>[lrihendry, tedcruz, president, always, tell, ...</td>\n",
       "    </tr>\n",
       "    <tr>\n",
       "      <th>13869</th>\n",
       "      <td>13869</td>\n",
       "      <td>13870</td>\n",
       "      <td>Donald Trump</td>\n",
       "      <td>Negative</td>\n",
       "      <td>danijeantheq</td>\n",
       "      <td>149</td>\n",
       "      <td>RT @JRehling: #GOPDebate Donald Trump says tha...</td>\n",
       "      <td>2015-08-07 09:54:04-07:00</td>\n",
       "      <td>629697023663546368</td>\n",
       "      <td>NaN</td>\n",
       "      <td>NaN</td>\n",
       "      <td>[jrehling, gopdebate, donald, trump, says, tim...</td>\n",
       "    </tr>\n",
       "    <tr>\n",
       "      <th>13870</th>\n",
       "      <td>13870</td>\n",
       "      <td>13871</td>\n",
       "      <td>Ted Cruz</td>\n",
       "      <td>Positive</td>\n",
       "      <td>MichaelHuff52</td>\n",
       "      <td>65</td>\n",
       "      <td>RT @Lrihendry: #TedCruz headed into the Presid...</td>\n",
       "      <td>2015-08-06 18:22:27-07:00</td>\n",
       "      <td>629462573641920512</td>\n",
       "      <td>San Antonio, TX</td>\n",
       "      <td>Central Time (US &amp; Canada)</td>\n",
       "      <td>[lrihendry, tedcruz, headed, presidential, deb...</td>\n",
       "    </tr>\n",
       "  </tbody>\n",
       "</table>\n",
       "<p>13871 rows × 12 columns</p>\n",
       "</div>"
      ],
      "text/plain": [
       "       Unnamed: 0     id               candidate sentiment             name  \\\n",
       "0               0      1  No candidate mentioned   Neutral       I_Am_Kenzi   \n",
       "1               1      2            Scott Walker  Positive    PeacefulQuest   \n",
       "2               2      3  No candidate mentioned   Neutral    PussssyCroook   \n",
       "3               3      4  No candidate mentioned  Positive  MattFromTexas31   \n",
       "4               4      5            Donald Trump  Positive       sharonDay5   \n",
       "...           ...    ...                     ...       ...              ...   \n",
       "13866       13866  13867  No candidate mentioned  Negative    SantoliDonato   \n",
       "13867       13867  13868           Mike Huckabee  Positive         mhfa16hq   \n",
       "13868       13868  13869                Ted Cruz  Positive           DrottM   \n",
       "13869       13869  13870            Donald Trump  Negative     danijeantheq   \n",
       "13870       13870  13871                Ted Cruz  Positive    MichaelHuff52   \n",
       "\n",
       "       retweet_count                                               text  \\\n",
       "0                  5  RT @NancyLeeGrahn: How did everyone feel about...   \n",
       "1                 26  RT @ScottWalker: Didn't catch the full #GOPdeb...   \n",
       "2                 27  RT @TJMShow: No mention of Tamir Rice and the ...   \n",
       "3                138  RT @RobGeorge: That Carly Fiorina is trending ...   \n",
       "4                156  RT @DanScavino: #GOPDebate w/ @realDonaldTrump...   \n",
       "...              ...                                                ...   \n",
       "13866              7  RT @cappy_yarbrough: Love to see men who will ...   \n",
       "13867              1  RT @georgehenryw: Who thought Huckabee exceede...   \n",
       "13868             67  RT @Lrihendry: #TedCruz As President, I will a...   \n",
       "13869            149  RT @JRehling: #GOPDebate Donald Trump says tha...   \n",
       "13870             65  RT @Lrihendry: #TedCruz headed into the Presid...   \n",
       "\n",
       "                  tweet_created            tweet_id   tweet_location  \\\n",
       "0     2015-08-07 09:54:46-07:00  629697200650592256              NaN   \n",
       "1     2015-08-07 09:54:46-07:00  629697199560069120              NaN   \n",
       "2     2015-08-07 09:54:46-07:00  629697199312482304              NaN   \n",
       "3     2015-08-07 09:54:45-07:00  629697197118861312            Texas   \n",
       "4     2015-08-07 09:54:45-07:00  629697196967903232              NaN   \n",
       "...                         ...                 ...              ...   \n",
       "13866 2015-08-07 09:29:43-07:00  629690895479250944             Como   \n",
       "13867 2015-08-07 09:25:02-07:00  629689719056568320              USA   \n",
       "13868 2015-08-07 07:19:18-07:00  629658075784282112              NaN   \n",
       "13869 2015-08-07 09:54:04-07:00  629697023663546368              NaN   \n",
       "13870 2015-08-06 18:22:27-07:00  629462573641920512  San Antonio, TX   \n",
       "\n",
       "                    user_timezone  \\\n",
       "0                           Quito   \n",
       "1                             NaN   \n",
       "2                             NaN   \n",
       "3      Central Time (US & Canada)   \n",
       "4                         Arizona   \n",
       "...                           ...   \n",
       "13866                         NaN   \n",
       "13867                         NaN   \n",
       "13868                         NaN   \n",
       "13869                         NaN   \n",
       "13870  Central Time (US & Canada)   \n",
       "\n",
       "                                                  tokens  \n",
       "0      [nancyleegrahn, everyone, feel, climate, chang...  \n",
       "1      [scottwalker, catch, full, gopdebate, last, ni...  \n",
       "2      [tjmshow, mention, tamir, rice, gopdebate, hel...  \n",
       "3      [robgeorge, carly, fiorina, trending, hours, d...  \n",
       "4      [danscavino, gopdebate, realdonaldtrump, deliv...  \n",
       "...                                                  ...  \n",
       "13866  [love, see, men, never, faced, pregnancy, talk...  \n",
       "13867  [georgehenryw, thought, huckabee, exceeded, ex...  \n",
       "13868  [lrihendry, tedcruz, president, always, tell, ...  \n",
       "13869  [jrehling, gopdebate, donald, trump, says, tim...  \n",
       "13870  [lrihendry, tedcruz, headed, presidential, deb...  \n",
       "\n",
       "[13871 rows x 12 columns]"
      ]
     },
     "execution_count": 27,
     "metadata": {},
     "output_type": "execute_result"
    }
   ],
   "source": [
    "tweets"
   ]
  },
  {
   "cell_type": "code",
   "execution_count": 31,
   "metadata": {
    "scrolled": true
   },
   "outputs": [
    {
     "data": {
      "text/html": [
       "<div>\n",
       "<style scoped>\n",
       "    .dataframe tbody tr th:only-of-type {\n",
       "        vertical-align: middle;\n",
       "    }\n",
       "\n",
       "    .dataframe tbody tr th {\n",
       "        vertical-align: top;\n",
       "    }\n",
       "\n",
       "    .dataframe thead th {\n",
       "        text-align: right;\n",
       "    }\n",
       "</style>\n",
       "<table border=\"1\" class=\"dataframe\">\n",
       "  <thead>\n",
       "    <tr style=\"text-align: right;\">\n",
       "      <th></th>\n",
       "      <th>tweet_len</th>\n",
       "      <th>num_words</th>\n",
       "      <th>nunique_words</th>\n",
       "      <th>words_diversity</th>\n",
       "      <th>sentiment</th>\n",
       "    </tr>\n",
       "  </thead>\n",
       "  <tbody>\n",
       "    <tr>\n",
       "      <th>9955</th>\n",
       "      <td>144</td>\n",
       "      <td>11</td>\n",
       "      <td>11</td>\n",
       "      <td>1.000000</td>\n",
       "      <td>Positive</td>\n",
       "    </tr>\n",
       "    <tr>\n",
       "      <th>5262</th>\n",
       "      <td>130</td>\n",
       "      <td>19</td>\n",
       "      <td>19</td>\n",
       "      <td>1.000000</td>\n",
       "      <td>Negative</td>\n",
       "    </tr>\n",
       "    <tr>\n",
       "      <th>6191</th>\n",
       "      <td>131</td>\n",
       "      <td>11</td>\n",
       "      <td>11</td>\n",
       "      <td>1.000000</td>\n",
       "      <td>Negative</td>\n",
       "    </tr>\n",
       "    <tr>\n",
       "      <th>2160</th>\n",
       "      <td>131</td>\n",
       "      <td>15</td>\n",
       "      <td>14</td>\n",
       "      <td>0.933333</td>\n",
       "      <td>Negative</td>\n",
       "    </tr>\n",
       "    <tr>\n",
       "      <th>7414</th>\n",
       "      <td>139</td>\n",
       "      <td>11</td>\n",
       "      <td>11</td>\n",
       "      <td>1.000000</td>\n",
       "      <td>Negative</td>\n",
       "    </tr>\n",
       "  </tbody>\n",
       "</table>\n",
       "</div>"
      ],
      "text/plain": [
       "      tweet_len  num_words  nunique_words  words_diversity sentiment\n",
       "9955        144         11             11         1.000000  Positive\n",
       "5262        130         19             19         1.000000  Negative\n",
       "6191        131         11             11         1.000000  Negative\n",
       "2160        131         15             14         0.933333  Negative\n",
       "7414        139         11             11         1.000000  Negative"
      ]
     },
     "execution_count": 31,
     "metadata": {},
     "output_type": "execute_result"
    }
   ],
   "source": [
    "tweets_complexity = pd.DataFrame()\n",
    "tweets_complexity['tweet_len'] = tweets.text.str.len()\n",
    "tweets_complexity['num_words'] = tweets.tokens.str.len()\n",
    "tweets_complexity['nunique_words'] = tweets.tokens.apply(set).str.len()\n",
    "tweets_complexity['words_diversity'] = tweets_complexity['nunique_words'] / tweets_complexity['num_words'] \n",
    "tweets_complexity['sentiment'] = tweets.sentiment\n",
    "tweets_complexity.sample(5)"
   ]
  },
  {
   "cell_type": "code",
   "execution_count": 32,
   "metadata": {
    "scrolled": false
   },
   "outputs": [
    {
     "data": {
      "image/png": "[encoded data removed]",
      "text/plain": [
       "<Figure size 1440x432 with 1 Axes>"
      ]
     },
     "metadata": {},
     "output_type": "display_data"
    }
   ],
   "source": [
    "plt.figure(figsize=(20,6))\n",
    "sns.countplot(tweets_complexity.nunique_words, hue=tweets_complexity.sentiment)\n",
    "plt.title('Tweet nbr of unique words Vs sentiment')\n",
    "plt.show()"
   ]
  },
  {
   "cell_type": "code",
   "execution_count": 33,
   "metadata": {},
   "outputs": [
    {
     "data": {
      "image/png": "[encoded data removed]",
      "text/plain": [
       "<Figure size 1440x432 with 1 Axes>"
      ]
     },
     "metadata": {},
     "output_type": "display_data"
    }
   ],
   "source": [
    "plt.figure(figsize=(20,6))\n",
    "sns.countplot(pd.cut(tweets_complexity.words_diversity, 10), hue=tweets_complexity.sentiment)\n",
    "plt.title('Used words diversity Vs sentiment')\n",
    "plt.show()"
   ]
  },
  {
   "cell_type": "markdown",
   "metadata": {
    "colab_type": "text",
    "id": "S8pX0gNvrZKe"
   },
   "source": [
    "## tweet_created"
   ]
  },
  {
   "cell_type": "markdown",
   "metadata": {
    "colab_type": "text",
    "id": "94y5F0XprZKn"
   },
   "source": [
    "let's create four categories out of tweet_created.\n",
    "\n",
    "- Noon: from 6:00 to 12:00 \n",
    "- Afternoon: from 12:01 to 17:00\n",
    "- Evening: from 17:01 to 20:00\n",
    "- Night: from 20:01 to 5:59"
   ]
  },
  {
   "cell_type": "code",
   "execution_count": 36,
   "metadata": {
    "colab": {},
    "colab_type": "code",
    "id": "0MpD8TYZrZKo"
   },
   "outputs": [],
   "source": [
    "def mapping_func(hour):\n",
    "    if 6 < hour <= 12:\n",
    "        return 'Noon'\n",
    "    elif 12 < hour <= 17:\n",
    "        return 'Afternoon'\n",
    "    elif 17 < hour <= 20:\n",
    "        return 'Evening' \n",
    "    else:\n",
    "        return 'Night'\n",
    "period_of_day = tweets.tweet_created.dt.hour.apply(mapping_func)"
   ]
  },
  {
   "cell_type": "code",
   "execution_count": 37,
   "metadata": {
    "colab": {
     "base_uri": "https://localhost:8080/",
     "height": 276
    },
    "colab_type": "code",
    "id": "IKb8P-3MrZKu",
    "outputId": "980d03f5-afe3-4e04-b7af-4a1b2417115f"
   },
   "outputs": [
    {
     "data": {
      "image/png": "[encoded data removed]",
      "text/plain": [
       "<Figure size 432x288 with 1 Axes>"
      ]
     },
     "metadata": {},
     "output_type": "display_data"
    }
   ],
   "source": [
    "sns.countplot(period_of_day);"
   ]
  },
  {
   "cell_type": "markdown",
   "metadata": {},
   "source": [
    "People tend to tweet more in the morning as well as in the evening before going to bed."
   ]
  },
  {
   "cell_type": "markdown",
   "metadata": {
    "colab_type": "text",
    "id": "q9vSgmV_rZKy"
   },
   "source": [
    "## Sentiment"
   ]
  },
  {
   "cell_type": "markdown",
   "metadata": {
    "colab_type": "text",
    "id": "QWY3Aq0YrZKz"
   },
   "source": [
    "Let's encode our classes into numerical values."
   ]
  },
  {
   "cell_type": "code",
   "execution_count": 69,
   "metadata": {
    "colab": {},
    "colab_type": "code",
    "id": "r_4DPAaTrZK0"
   },
   "outputs": [],
   "source": [
    "target_encoder = LabelEncoder()\n",
    "y = pd.Series(target_encoder.fit_transform(tweets.sentiment))"
   ]
  },
  {
   "cell_type": "markdown",
   "metadata": {
    "colab_type": "text",
    "id": "b3n05nRdrZK8"
   },
   "source": [
    "As we saw in EDA ~30% of these two features is composed of missing values. Let's consider the missing value as another category therefore we will impute it -999.\n",
    "\n",
    "Let's create two other feature, user_timezone_isna and tweet_location_isna which will hold a boolean value to indictate to the model the rows containing missing values respectively for user_timezone and tweet_location."
   ]
  },
  {
   "cell_type": "code",
   "execution_count": 70,
   "metadata": {
    "colab": {},
    "colab_type": "code",
    "id": "Ut9fliLbrZK-"
   },
   "outputs": [],
   "source": [
    "tweets['user_timezone_isna'] = tweets.user_timezone.isna().astype(int)\n",
    "tweets['tweet_location_isna'] = tweets.tweet_location.isna().astype(int)\n",
    "tweets['user_timezone'] = tweets.user_timezone.fillna(-999)\n",
    "tweets['tweet_location'] = tweets.tweet_location.fillna(-999)"
   ]
  },
  {
   "cell_type": "markdown",
   "metadata": {
    "colab_type": "text",
    "id": "qOawi0tMrZLB"
   },
   "source": [
    "## Candidate"
   ]
  },
  {
   "cell_type": "code",
   "execution_count": 40,
   "metadata": {
    "colab": {
     "base_uri": "https://localhost:8080/",
     "height": 34
    },
    "colab_type": "code",
    "id": "_SiB6bRGrZLC",
    "outputId": "56ea3d88-e04b-497d-9c40-b0fee92b9cd1"
   },
   "outputs": [
    {
     "data": {
      "text/plain": [
       "96"
      ]
     },
     "execution_count": 40,
     "metadata": {},
     "output_type": "execute_result"
    }
   ],
   "source": [
    "tweets.candidate.isna().sum()"
   ]
  },
  {
   "cell_type": "markdown",
   "metadata": {
    "colab_type": "text",
    "id": "r8hbf1elrZLH"
   },
   "source": [
    "When a candidate is not mentionned, the tweet is put in 'No candidate mentioned'. Therefore, I will consider the missing candidate values to be part of 'No candidate mentioned' category."
   ]
  },
  {
   "cell_type": "code",
   "execution_count": 77,
   "metadata": {
    "colab": {},
    "colab_type": "code",
    "id": "tEoT5KzOrZLI"
   },
   "outputs": [],
   "source": [
    "from sklearn.impute import SimpleImputer\n",
    "imputer = SimpleImputer(strategy='most_frequent')\n",
    "tweets['candidate'] = imputer.fit_transform(tweets['candidate'].values.reshape(-1, 1))"
   ]
  },
  {
   "cell_type": "markdown",
   "metadata": {
    "colab_type": "text",
    "id": "67kTdB7BrZLL"
   },
   "source": [
    "## Data split"
   ]
  },
  {
   "cell_type": "markdown",
   "metadata": {
    "colab_type": "text",
    "id": "2hVK2nwArZLM"
   },
   "source": [
    "Our final dataset will be composed of the following features: user_timezone_isna, tweet_location_isna, user_timezone, tweet_location, text embeddings, retweet_count and candidate"
   ]
  },
  {
   "cell_type": "code",
   "execution_count": 71,
   "metadata": {},
   "outputs": [],
   "source": [
    "boolean_features = ['user_timezone_isna', 'tweet_location_isna']\n",
    "categorical_features = ['candidate', 'user_timezone', 'tweet_location']\n",
    "numerical_features = ['retweet_count']\n",
    "embeddings = ['text']"
   ]
  },
  {
   "cell_type": "code",
   "execution_count": 72,
   "metadata": {
    "scrolled": false
   },
   "outputs": [
    {
     "data": {
      "text/html": [
       "<div>\n",
       "<style scoped>\n",
       "    .dataframe tbody tr th:only-of-type {\n",
       "        vertical-align: middle;\n",
       "    }\n",
       "\n",
       "    .dataframe tbody tr th {\n",
       "        vertical-align: top;\n",
       "    }\n",
       "\n",
       "    .dataframe thead th {\n",
       "        text-align: right;\n",
       "    }\n",
       "</style>\n",
       "<table border=\"1\" class=\"dataframe\">\n",
       "  <thead>\n",
       "    <tr style=\"text-align: right;\">\n",
       "      <th></th>\n",
       "      <th>user_timezone_isna</th>\n",
       "      <th>tweet_location_isna</th>\n",
       "      <th>candidate</th>\n",
       "      <th>user_timezone</th>\n",
       "      <th>tweet_location</th>\n",
       "      <th>retweet_count</th>\n",
       "      <th>text</th>\n",
       "    </tr>\n",
       "  </thead>\n",
       "  <tbody>\n",
       "    <tr>\n",
       "      <th>13010</th>\n",
       "      <td>0</td>\n",
       "      <td>1</td>\n",
       "      <td>Mike Huckabee</td>\n",
       "      <td>Central Time (US &amp; Canada)</td>\n",
       "      <td>-999</td>\n",
       "      <td>60</td>\n",
       "      <td>RT @goldietaylor: Huckabee. #GOPDebates http:/...</td>\n",
       "    </tr>\n",
       "    <tr>\n",
       "      <th>1654</th>\n",
       "      <td>0</td>\n",
       "      <td>1</td>\n",
       "      <td>No candidate mentioned</td>\n",
       "      <td>Pacific Time (US &amp; Canada)</td>\n",
       "      <td>-999</td>\n",
       "      <td>0</td>\n",
       "      <td>Even the media doesn't get it,  No one won las...</td>\n",
       "    </tr>\n",
       "    <tr>\n",
       "      <th>2157</th>\n",
       "      <td>0</td>\n",
       "      <td>0</td>\n",
       "      <td>No candidate mentioned</td>\n",
       "      <td>Mountain Time (US &amp; Canada)</td>\n",
       "      <td>Canada</td>\n",
       "      <td>1</td>\n",
       "      <td>lol! Of course you do.   RT\"@sallykohn: I thin...</td>\n",
       "    </tr>\n",
       "    <tr>\n",
       "      <th>7881</th>\n",
       "      <td>1</td>\n",
       "      <td>1</td>\n",
       "      <td>No candidate mentioned</td>\n",
       "      <td>-999</td>\n",
       "      <td>-999</td>\n",
       "      <td>50</td>\n",
       "      <td>RT @goldietaylor: Oh, hell. Just take a drink....</td>\n",
       "    </tr>\n",
       "    <tr>\n",
       "      <th>481</th>\n",
       "      <td>1</td>\n",
       "      <td>0</td>\n",
       "      <td>No candidate mentioned</td>\n",
       "      <td>-999</td>\n",
       "      <td>El Paso, Texas</td>\n",
       "      <td>0</td>\n",
       "      <td>#GOPDebate so which presidential candidate stu...</td>\n",
       "    </tr>\n",
       "  </tbody>\n",
       "</table>\n",
       "</div>"
      ],
      "text/plain": [
       "       user_timezone_isna  tweet_location_isna               candidate  \\\n",
       "13010                   0                    1           Mike Huckabee   \n",
       "1654                    0                    1  No candidate mentioned   \n",
       "2157                    0                    0  No candidate mentioned   \n",
       "7881                    1                    1  No candidate mentioned   \n",
       "481                     1                    0  No candidate mentioned   \n",
       "\n",
       "                     user_timezone  tweet_location  retweet_count  \\\n",
       "13010   Central Time (US & Canada)            -999             60   \n",
       "1654    Pacific Time (US & Canada)            -999              0   \n",
       "2157   Mountain Time (US & Canada)          Canada              1   \n",
       "7881                          -999            -999             50   \n",
       "481                           -999  El Paso, Texas              0   \n",
       "\n",
       "                                                    text  \n",
       "13010  RT @goldietaylor: Huckabee. #GOPDebates http:/...  \n",
       "1654   Even the media doesn't get it,  No one won las...  \n",
       "2157   lol! Of course you do.   RT\"@sallykohn: I thin...  \n",
       "7881   RT @goldietaylor: Oh, hell. Just take a drink....  \n",
       "481    #GOPDebate so which presidential candidate stu...  "
      ]
     },
     "execution_count": 72,
     "metadata": {},
     "output_type": "execute_result"
    }
   ],
   "source": [
    "tweets[boolean_features+categorical_features+numerical_features+embeddings].sample(5)"
   ]
  },
  {
   "cell_type": "code",
   "execution_count": 78,
   "metadata": {
    "colab": {},
    "colab_type": "code",
    "id": "X6ANI21wrZLT"
   },
   "outputs": [],
   "source": [
    "from sklearn.model_selection import train_test_split\n",
    "\n",
    "SEED = 42\n",
    "\n",
    "X_train, X_test, y_train, y_test = train_test_split(tweets[boolean_features+categorical_features+numerical_features+embeddings], y, test_size=.2,\n",
    "                               stratify=y, random_state=SEED)"
   ]
  },
  {
   "cell_type": "markdown",
   "metadata": {
    "colab_type": "text",
    "id": "uDCTDq2MrZLW"
   },
   "source": [
    "# Pipeline"
   ]
  },
  {
   "cell_type": "markdown",
   "metadata": {
    "colab_type": "text",
    "id": "xxwtqBWorZLW"
   },
   "source": [
    "For the categorical variable, I suggest that we count encode them. Basically we will replace each categorie by it's number of occurences."
   ]
  },
  {
   "cell_type": "code",
   "execution_count": 74,
   "metadata": {
    "colab": {},
    "colab_type": "code",
    "id": "DbkYiBeNrZLX"
   },
   "outputs": [],
   "source": [
    "class Doc2Vec(BaseEstimator):\n",
    "\n",
    "    def __init__(self, vector_size=50, min_count=2, epochs=40):        \n",
    "        self.vector_size=vector_size\n",
    "        self.min_count=min_count\n",
    "        self.epochs=epochs\n",
    "        \n",
    "    def __pre_process(self, X, train_tag=True):\n",
    "        X_tr = X.copy()\n",
    "        X_tr = X_tr.text.str.replace('RT', '').str.replace('@', '').str.replace('#', '')\n",
    "\n",
    "        # remove links\n",
    "        X_tr = X_tr.str.replace(r'http[s]*\\S+', '')\n",
    "\n",
    "        X_tr = X_tr.apply(word_tokenize)\n",
    "\n",
    "        X_tr = [[token.lower() for token in tokens if token.isalpha()] for tokens in X_tr]\n",
    "        X_tr = [[token.lower() for token in tokens] for tokens in X_tr]\n",
    "        # no lemmatization or stemming since we are going to use pre-trained embeddings\n",
    "\n",
    "\n",
    "        # delete stop words\n",
    "        X_tr = [[token.lower() for token in tokens if token not in stop_words] for tokens in X_tr]\n",
    "        \n",
    "        X_tag = []\n",
    "        for i, doc in enumerate(X_tr):\n",
    "                # For training data, add tags\n",
    "                if train_tag:\n",
    "                    X_tag.append(gensim.models.doc2vec.TaggedDocument(doc, [i]))\n",
    "                else:\n",
    "                    X_tag.append(doc)\n",
    "        \n",
    "        return list(X_tag)\n",
    "    \n",
    "    def fit(self, X_train, y=None):\n",
    "        self.model = gensim.models.doc2vec.Doc2Vec(vector_size=self.vector_size, min_count=self.min_count, epochs=self.epochs)\n",
    "        X_train_tag = self.__pre_process(X_train)\n",
    "        self.model.build_vocab(X_train_tag) \n",
    "        self.model.train(X_train_tag, total_examples=self.model.corpus_count, epochs=self.model.epochs)\n",
    "        \n",
    "        return self\n",
    "\n",
    "    def transform(self, X):\n",
    "        X_tr = self.__pre_process(X, train_tag=False)\n",
    "        doc2vec_embeddings = np.array([self.model.infer_vector(doc) for doc in X_tr])\n",
    "        \n",
    "        return doc2vec_embeddings\n",
    "\n",
    "class CountEncoder(BaseEstimator):\n",
    "\n",
    "    def __init__(self, normalize=True):\n",
    "        self.normalize = normalize\n",
    "\n",
    "    def fit(self, X_train, y=None):\n",
    "        self.__set_mapping(X_train)\n",
    "        \n",
    "        return self\n",
    "\n",
    "    def transform(self, X):\n",
    "        X_tr = X.copy()\n",
    "\n",
    "        if type(X) != type(pd.DataFrame()): \n",
    "            raise ValueError(f'{type(X)} not supported')\n",
    "        \n",
    "        col_id = 0\n",
    "        for col, serie in  X.iteritems():\n",
    "            X_tr[col] = serie.map(self.mapping_list[col_id])\n",
    "            col_id += 1\n",
    "        \n",
    "        return X_tr\n",
    "\n",
    "    def __set_mapping(self, X):\n",
    "        if type(X) != type(pd.DataFrame()):\n",
    "            raise ValueError(f'{type(X)} not supported')\n",
    "\n",
    "        self.mapping_list = []\n",
    "        for col, serie in X.iteritems():\n",
    "            if self.normalize:\n",
    "                self.mapping_list.append((serie.value_counts()/serie.value_counts().max()).to_dict())\n",
    "            else:\n",
    "                self.mapping_list.append(serie.value_counts().to_dict())"
   ]
  },
  {
   "cell_type": "code",
   "execution_count": 81,
   "metadata": {},
   "outputs": [
    {
     "name": "stdout",
     "output_type": "stream",
     "text": [
      "[16:05:17] WARNING: /Users/travis/build/dmlc/xgboost/src/learner.cc:480: \n",
      "Parameters: { boosting_type } might not be used.\n",
      "\n",
      "  This may not be accurate due to some parameters are only used in language bindings but\n",
      "  passed down to XGBoost core.  Or some parameters are not used but slip through this\n",
      "  verification. Please open an issue if you find above cases.\n",
      "\n",
      "\n"
     ]
    },
    {
     "data": {
      "text/plain": [
       "Pipeline(steps=[('feature_engineering',\n",
       "                 ColumnTransformer(remainder='passthrough',\n",
       "                                   transformers=[('CountEncoder',\n",
       "                                                  CountEncoder(),\n",
       "                                                  ['candidate', 'user_timezone',\n",
       "                                                   'tweet_location']),\n",
       "                                                 ('doc2vec', Doc2Vec(),\n",
       "                                                  ['text'])],\n",
       "                                   verbose=0)),\n",
       "                ('model',\n",
       "                 XGBClassifier(base_score=0.5, booster='gbtree',\n",
       "                               boosting_type='gbdt', colsample_bylevel=1,\n",
       "                               colsample_bynode=1, colsample_bytree=...\n",
       "                               interaction_constraints='',\n",
       "                               learning_rate=0.300000012, max_delta_step=0,\n",
       "                               max_depth=5, min_child_weight=1, missing=nan,\n",
       "                               monotone_constraints='()', n_estimators=100,\n",
       "                               n_jobs=0, num_class=3, num_parallel_tree=1,\n",
       "                               objective='multi:softprob', random_state=0,\n",
       "                               reg_alpha=0, reg_lambda=1, scale_pos_weight=None,\n",
       "                               subsample=1, tree_method='exact',\n",
       "                               validate_parameters=1, verbosity=None))])"
      ]
     },
     "execution_count": 81,
     "metadata": {},
     "output_type": "execute_result"
    }
   ],
   "source": [
    "static_params = {\n",
    "    'objective': 'multi:softmax',\n",
    "    'boosting_type': 'gbdt',\n",
    "    'num_class': 3,\n",
    "    'max_depth': 5\n",
    "}\n",
    "\n",
    "\n",
    "feature_engineering = ColumnTransformer([('CountEncoder', CountEncoder(), categorical_features),\n",
    "                                         ('doc2vec', Doc2Vec(), embeddings)],\n",
    "                                         remainder='passthrough', verbose=0)\n",
    "\n",
    "steps = [('feature_engineering', feature_engineering),\n",
    "         ('model', XGBClassifier(**static_params))\n",
    "        ]\n",
    "\n",
    "model = Pipeline(steps)\n",
    "    \n",
    "\n",
    "\n",
    "model.fit(X_train, y_train)"
   ]
  },
  {
   "cell_type": "code",
   "execution_count": 82,
   "metadata": {},
   "outputs": [
    {
     "name": "stdout",
     "output_type": "stream",
     "text": [
      "              precision    recall  f1-score   support\n",
      "\n",
      "           0       0.68      0.89      0.77      1699\n",
      "           1       0.45      0.22      0.29       629\n",
      "           2       0.55      0.31      0.39       447\n",
      "\n",
      "    accuracy                           0.64      2775\n",
      "   macro avg       0.56      0.47      0.49      2775\n",
      "weighted avg       0.61      0.64      0.60      2775\n",
      "\n"
     ]
    }
   ],
   "source": [
    "print(classification_report(y_test, model.predict(X_test)))"
   ]
  },
  {
   "cell_type": "code",
   "execution_count": 83,
   "metadata": {},
   "outputs": [
    {
     "name": "stdout",
     "output_type": "stream",
     "text": [
      "              precision    recall  f1-score   support\n",
      "\n",
      "           0       0.76      0.94      0.84      6794\n",
      "           1       0.76      0.44      0.56      2513\n",
      "           2       0.81      0.53      0.64      1789\n",
      "\n",
      "    accuracy                           0.76     11096\n",
      "   macro avg       0.77      0.64      0.68     11096\n",
      "weighted avg       0.77      0.76      0.75     11096\n",
      "\n"
     ]
    }
   ],
   "source": [
    "print(classification_report(y_train, model.predict(X_train)))"
   ]
  },
  {
   "cell_type": "markdown",
   "metadata": {},
   "source": [
    "The model performed badly, maybe this is caused by class imbalance. Let's use SMOTE to create synthetic embeddings."
   ]
  },
  {
   "cell_type": "markdown",
   "metadata": {},
   "source": [
    "## Create synthetic tweets by applying SMOTE on tweets embeddings"
   ]
  },
  {
   "cell_type": "code",
   "execution_count": 87,
   "metadata": {
    "colab": {},
    "colab_type": "code",
    "id": "Y2Pq9VeWrZLa"
   },
   "outputs": [
    {
     "data": {
      "text/plain": [
       "XGBClassifier(base_score=0.5, booster='gbtree', colsample_bylevel=1,\n",
       "              colsample_bynode=1, colsample_bytree=1, gamma=0, gpu_id=-1,\n",
       "              importance_type='gain', interaction_constraints='',\n",
       "              learning_rate=0.300000012, max_delta_step=0, max_depth=5,\n",
       "              min_child_weight=1, missing=nan, monotone_constraints='()',\n",
       "              n_estimators=100, n_jobs=0, num_class=3, num_parallel_tree=1,\n",
       "              objective='multi:softprob', random_state=0, reg_alpha=0,\n",
       "              reg_lambda=1, scale_pos_weight=None, subsample=1,\n",
       "              tree_method='exact', validate_parameters=1, verbosity=None)"
      ]
     },
     "execution_count": 87,
     "metadata": {},
     "output_type": "execute_result"
    }
   ],
   "source": [
    "static_params = {\n",
    "    'objective': 'multi:softmax',\n",
    "    'num_class': 3,\n",
    "    'max_depth': 5\n",
    "}\n",
    "\n",
    "\n",
    "feature_engineering = ColumnTransformer([('CountEncoder', CountEncoder(), categorical_features),\n",
    "                                         ('doc2vec', Doc2Vec(), embeddings)],\n",
    "                                         remainder='passthrough', verbose=0)\n",
    "strategy = {0:6794, 1:6794, 2:6794}\n",
    "\n",
    "X_train_tr = feature_engineering.fit_transform(X_train, y_train)\n",
    "sm = SMOTE(sampling_strategy=strategy)\n",
    "X_train_tr_res, y_train_res = sm.fit_resample(X_train_tr, y_train)\n",
    "\n",
    "model = XGBClassifier(**static_params)\n",
    "\n",
    "model.fit(X_train_tr_res, y_train_res)"
   ]
  },
  {
   "cell_type": "code",
   "execution_count": 88,
   "metadata": {
    "scrolled": true
   },
   "outputs": [
    {
     "name": "stdout",
     "output_type": "stream",
     "text": [
      "              precision    recall  f1-score   support\n",
      "\n",
      "           0       0.71      0.79      0.74      1699\n",
      "           1       0.40      0.33      0.36       629\n",
      "           2       0.50      0.40      0.44       447\n",
      "\n",
      "    accuracy                           0.62      2775\n",
      "   macro avg       0.53      0.50      0.51      2775\n",
      "weighted avg       0.60      0.62      0.61      2775\n",
      "\n"
     ]
    }
   ],
   "source": [
    "print(classification_report(y_test, model.predict(feature_engineering.transform(X_test))))"
   ]
  },
  {
   "cell_type": "code",
   "execution_count": 89,
   "metadata": {
    "scrolled": true
   },
   "outputs": [
    {
     "name": "stdout",
     "output_type": "stream",
     "text": [
      "              precision    recall  f1-score   support\n",
      "\n",
      "           0       0.93      0.92      0.93      6794\n",
      "           1       0.91      0.92      0.91      6794\n",
      "           2       0.94      0.94      0.94      6794\n",
      "\n",
      "    accuracy                           0.93     20382\n",
      "   macro avg       0.93      0.93      0.93     20382\n",
      "weighted avg       0.93      0.93      0.93     20382\n",
      "\n"
     ]
    }
   ],
   "source": [
    "print(classification_report(y_train_res, model.predict(X_train_tr_res)))"
   ]
  },
  {
   "cell_type": "markdown",
   "metadata": {},
   "source": [
    "- the model has over-fitted the data, and has not generalized well."
   ]
  },
  {
   "cell_type": "markdown",
   "metadata": {
    "colab_type": "text",
    "id": "_VeMvuv7K8zL"
   },
   "source": [
    "The model performs poorly, it could be that the the number of samples is not sufficient for the model to perform better. \n",
    "\n",
    "Options to consider in order to improve the model performance:\n",
    "\n",
    "- perform a grid search to optimize hyper-parameters\n",
    "- feature engineering"
   ]
  }
 ],
 "metadata": {
  "accelerator": "GPU",
  "colab": {
   "collapsed_sections": [
    "hpdEhw3SrZJ9"
   ],
   "name": "Tweets-sentiment-analysis.ipynb",
   "provenance": [],
   "toc_visible": true
  },
  "kernelspec": {
   "display_name": "Python 3",
   "language": "python",
   "name": "python3"
  },
  "language_info": {
   "codemirror_mode": {
    "name": "ipython",
    "version": 3
   },
   "file_extension": ".py",
   "mimetype": "text/x-python",
   "name": "python",
   "nbconvert_exporter": "python",
   "pygments_lexer": "ipython3",
   "version": "3.7.6"
  }
 },
 "nbformat": 4,
 "nbformat_minor": 1
}
